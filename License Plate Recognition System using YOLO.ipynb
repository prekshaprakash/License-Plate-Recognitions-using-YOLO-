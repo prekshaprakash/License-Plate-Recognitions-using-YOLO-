{
 "cells": [
  {
   "cell_type": "code",
   "execution_count": 4,
   "id": "8e38d035",
   "metadata": {},
   "outputs": [
    {
     "name": "stdout",
     "output_type": "stream",
     "text": [
      "torch.cuda.is_available() = False\n",
      "torch.cuda.device_count() = 0\n"
     ]
    }
   ],
   "source": [
    "import numpy as np\n",
    "import pandas as pd\n",
    "\n",
    "import matplotlib.pyplot as plt\n",
    "import torch\n",
    "\n",
    "print(f'{torch.cuda.is_available() = }')\n",
    "print(f'{torch.cuda.device_count() = }')"
   ]
  },
  {
   "cell_type": "code",
   "execution_count": 5,
   "id": "a34ad36f",
   "metadata": {},
   "outputs": [
    {
     "name": "stdout",
     "output_type": "stream",
     "text": [
      "Requirement already satisfied: ultralytics in c:\\users\\hp\\anaconda3\\lib\\site-packages (8.2.98)\n",
      "Requirement already satisfied: numpy<2.0.0,>=1.23.0 in c:\\users\\hp\\anaconda3\\lib\\site-packages (from ultralytics) (1.24.3)\n",
      "Requirement already satisfied: matplotlib>=3.3.0 in c:\\users\\hp\\anaconda3\\lib\\site-packages (from ultralytics) (3.7.1)\n",
      "Requirement already satisfied: opencv-python>=4.6.0 in c:\\users\\hp\\anaconda3\\lib\\site-packages (from ultralytics) (4.10.0.84)\n",
      "Requirement already satisfied: pillow>=7.1.2 in c:\\users\\hp\\anaconda3\\lib\\site-packages (from ultralytics) (9.4.0)\n",
      "Requirement already satisfied: pyyaml>=5.3.1 in c:\\users\\hp\\anaconda3\\lib\\site-packages (from ultralytics) (6.0)\n",
      "Requirement already satisfied: requests>=2.23.0 in c:\\users\\hp\\anaconda3\\lib\\site-packages (from ultralytics) (2.29.0)\n",
      "Requirement already satisfied: scipy>=1.4.1 in c:\\users\\hp\\anaconda3\\lib\\site-packages (from ultralytics) (1.10.1)\n",
      "Requirement already satisfied: torch>=1.8.0 in c:\\users\\hp\\anaconda3\\lib\\site-packages (from ultralytics) (2.4.1)\n",
      "Requirement already satisfied: torchvision>=0.9.0 in c:\\users\\hp\\anaconda3\\lib\\site-packages (from ultralytics) (0.19.1)\n",
      "Requirement already satisfied: tqdm>=4.64.0 in c:\\users\\hp\\anaconda3\\lib\\site-packages (from ultralytics) (4.65.0)\n",
      "Requirement already satisfied: psutil in c:\\users\\hp\\anaconda3\\lib\\site-packages (from ultralytics) (5.9.0)\n",
      "Requirement already satisfied: py-cpuinfo in c:\\users\\hp\\anaconda3\\lib\\site-packages (from ultralytics) (8.0.0)\n",
      "Requirement already satisfied: pandas>=1.1.4 in c:\\users\\hp\\anaconda3\\lib\\site-packages (from ultralytics) (1.5.3)\n",
      "Requirement already satisfied: seaborn>=0.11.0 in c:\\users\\hp\\anaconda3\\lib\\site-packages (from ultralytics) (0.12.2)\n",
      "Requirement already satisfied: ultralytics-thop>=2.0.0 in c:\\users\\hp\\anaconda3\\lib\\site-packages (from ultralytics) (2.0.8)\n",
      "Requirement already satisfied: contourpy>=1.0.1 in c:\\users\\hp\\anaconda3\\lib\\site-packages (from matplotlib>=3.3.0->ultralytics) (1.0.5)\n",
      "Requirement already satisfied: cycler>=0.10 in c:\\users\\hp\\anaconda3\\lib\\site-packages (from matplotlib>=3.3.0->ultralytics) (0.11.0)\n",
      "Requirement already satisfied: fonttools>=4.22.0 in c:\\users\\hp\\anaconda3\\lib\\site-packages (from matplotlib>=3.3.0->ultralytics) (4.25.0)\n",
      "Requirement already satisfied: kiwisolver>=1.0.1 in c:\\users\\hp\\anaconda3\\lib\\site-packages (from matplotlib>=3.3.0->ultralytics) (1.4.4)\n",
      "Requirement already satisfied: packaging>=20.0 in c:\\users\\hp\\anaconda3\\lib\\site-packages (from matplotlib>=3.3.0->ultralytics) (23.0)\n",
      "Requirement already satisfied: pyparsing>=2.3.1 in c:\\users\\hp\\anaconda3\\lib\\site-packages (from matplotlib>=3.3.0->ultralytics) (3.0.9)\n",
      "Requirement already satisfied: python-dateutil>=2.7 in c:\\users\\hp\\anaconda3\\lib\\site-packages (from matplotlib>=3.3.0->ultralytics) (2.8.2)\n",
      "Requirement already satisfied: pytz>=2020.1 in c:\\users\\hp\\anaconda3\\lib\\site-packages (from pandas>=1.1.4->ultralytics) (2022.7)\n",
      "Requirement already satisfied: charset-normalizer<4,>=2 in c:\\users\\hp\\anaconda3\\lib\\site-packages (from requests>=2.23.0->ultralytics) (2.0.4)\n",
      "Requirement already satisfied: idna<4,>=2.5 in c:\\users\\hp\\anaconda3\\lib\\site-packages (from requests>=2.23.0->ultralytics) (3.4)\n",
      "Requirement already satisfied: urllib3<1.27,>=1.21.1 in c:\\users\\hp\\anaconda3\\lib\\site-packages (from requests>=2.23.0->ultralytics) (1.26.16)\n",
      "Requirement already satisfied: certifi>=2017.4.17 in c:\\users\\hp\\anaconda3\\lib\\site-packages (from requests>=2.23.0->ultralytics) (2024.7.4)\n",
      "Requirement already satisfied: filelock in c:\\users\\hp\\anaconda3\\lib\\site-packages (from torch>=1.8.0->ultralytics) (3.13.1)\n",
      "Requirement already satisfied: typing-extensions>=4.8.0 in c:\\users\\hp\\anaconda3\\lib\\site-packages (from torch>=1.8.0->ultralytics) (4.11.0)\n",
      "Requirement already satisfied: sympy in c:\\users\\hp\\anaconda3\\lib\\site-packages (from torch>=1.8.0->ultralytics) (1.11.1)\n",
      "Requirement already satisfied: networkx in c:\\users\\hp\\anaconda3\\lib\\site-packages (from torch>=1.8.0->ultralytics) (2.8.4)\n",
      "Requirement already satisfied: jinja2 in c:\\users\\hp\\anaconda3\\lib\\site-packages (from torch>=1.8.0->ultralytics) (3.1.2)\n",
      "Requirement already satisfied: fsspec in c:\\users\\hp\\anaconda3\\lib\\site-packages (from torch>=1.8.0->ultralytics) (2024.6.1)\n",
      "Requirement already satisfied: colorama in c:\\users\\hp\\anaconda3\\lib\\site-packages (from tqdm>=4.64.0->ultralytics) (0.4.6)\n",
      "Requirement already satisfied: six>=1.5 in c:\\users\\hp\\anaconda3\\lib\\site-packages (from python-dateutil>=2.7->matplotlib>=3.3.0->ultralytics) (1.16.0)\n",
      "Requirement already satisfied: MarkupSafe>=2.0 in c:\\users\\hp\\anaconda3\\lib\\site-packages (from jinja2->torch>=1.8.0->ultralytics) (2.1.1)\n",
      "Requirement already satisfied: mpmath>=0.19 in c:\\users\\hp\\anaconda3\\lib\\site-packages (from sympy->torch>=1.8.0->ultralytics) (1.2.1)\n",
      "Note: you may need to restart the kernel to use updated packages.\n"
     ]
    }
   ],
   "source": [
    "pip install ultralytics --user\n"
   ]
  },
  {
   "cell_type": "code",
   "execution_count": 6,
   "id": "c648ff3f",
   "metadata": {},
   "outputs": [
    {
     "name": "stdout",
     "output_type": "stream",
     "text": [
      "Requirement already satisfied: ipywidgets in c:\\users\\hp\\anaconda3\\lib\\site-packages (8.1.5)\n",
      "Requirement already satisfied: comm>=0.1.3 in c:\\users\\hp\\anaconda3\\lib\\site-packages (from ipywidgets) (0.2.2)\n",
      "Requirement already satisfied: ipython>=6.1.0 in c:\\users\\hp\\anaconda3\\lib\\site-packages (from ipywidgets) (8.12.0)\n",
      "Requirement already satisfied: traitlets>=4.3.1 in c:\\users\\hp\\anaconda3\\lib\\site-packages (from ipywidgets) (5.7.1)\n",
      "Requirement already satisfied: widgetsnbextension~=4.0.12 in c:\\users\\hp\\anaconda3\\lib\\site-packages (from ipywidgets) (4.0.13)\n",
      "Requirement already satisfied: jupyterlab-widgets~=3.0.12 in c:\\users\\hp\\anaconda3\\lib\\site-packages (from ipywidgets) (3.0.13)\n",
      "Requirement already satisfied: backcall in c:\\users\\hp\\anaconda3\\lib\\site-packages (from ipython>=6.1.0->ipywidgets) (0.2.0)\n",
      "Requirement already satisfied: decorator in c:\\users\\hp\\anaconda3\\lib\\site-packages (from ipython>=6.1.0->ipywidgets) (5.1.1)\n",
      "Requirement already satisfied: jedi>=0.16 in c:\\users\\hp\\anaconda3\\lib\\site-packages (from ipython>=6.1.0->ipywidgets) (0.18.1)\n",
      "Requirement already satisfied: matplotlib-inline in c:\\users\\hp\\anaconda3\\lib\\site-packages (from ipython>=6.1.0->ipywidgets) (0.1.6)\n",
      "Requirement already satisfied: pickleshare in c:\\users\\hp\\anaconda3\\lib\\site-packages (from ipython>=6.1.0->ipywidgets) (0.7.5)\n",
      "Requirement already satisfied: prompt-toolkit!=3.0.37,<3.1.0,>=3.0.30 in c:\\users\\hp\\anaconda3\\lib\\site-packages (from ipython>=6.1.0->ipywidgets) (3.0.36)\n",
      "Requirement already satisfied: pygments>=2.4.0 in c:\\users\\hp\\anaconda3\\lib\\site-packages (from ipython>=6.1.0->ipywidgets) (2.15.1)\n",
      "Requirement already satisfied: stack-data in c:\\users\\hp\\anaconda3\\lib\\site-packages (from ipython>=6.1.0->ipywidgets) (0.2.0)\n",
      "Requirement already satisfied: colorama in c:\\users\\hp\\anaconda3\\lib\\site-packages (from ipython>=6.1.0->ipywidgets) (0.4.6)\n",
      "Requirement already satisfied: parso<0.9.0,>=0.8.0 in c:\\users\\hp\\anaconda3\\lib\\site-packages (from jedi>=0.16->ipython>=6.1.0->ipywidgets) (0.8.3)\n",
      "Requirement already satisfied: wcwidth in c:\\users\\hp\\anaconda3\\lib\\site-packages (from prompt-toolkit!=3.0.37,<3.1.0,>=3.0.30->ipython>=6.1.0->ipywidgets) (0.2.5)\n",
      "Requirement already satisfied: executing in c:\\users\\hp\\anaconda3\\lib\\site-packages (from stack-data->ipython>=6.1.0->ipywidgets) (0.8.3)\n",
      "Requirement already satisfied: asttokens in c:\\users\\hp\\anaconda3\\lib\\site-packages (from stack-data->ipython>=6.1.0->ipywidgets) (2.0.5)\n",
      "Requirement already satisfied: pure-eval in c:\\users\\hp\\anaconda3\\lib\\site-packages (from stack-data->ipython>=6.1.0->ipywidgets) (0.2.2)\n",
      "Requirement already satisfied: six in c:\\users\\hp\\anaconda3\\lib\\site-packages (from asttokens->stack-data->ipython>=6.1.0->ipywidgets) (1.16.0)\n"
     ]
    }
   ],
   "source": [
    "!pip install -U ipywidgets"
   ]
  },
  {
   "cell_type": "code",
   "execution_count": 7,
   "id": "1eaf4763",
   "metadata": {},
   "outputs": [],
   "source": [
    "dataset_path = 'Car_Plate'"
   ]
  },
  {
   "cell_type": "code",
   "execution_count": 8,
   "id": "270b975a",
   "metadata": {},
   "outputs": [],
   "source": [
    "import re\n",
    "\n",
    "def the_number_in_the_string(filename):\n",
    "    match = re.search(r'(\\d+)', filename)\n",
    "    \n",
    "    if match:\n",
    "        return int(match.group(0))\n",
    "    else:\n",
    "        return 0"
   ]
  },
  {
   "cell_type": "code",
   "execution_count": 9,
   "id": "c4b77674",
   "metadata": {},
   "outputs": [
    {
     "name": "stdout",
     "output_type": "stream",
     "text": [
      "123\n",
      "0\n"
     ]
    }
   ],
   "source": [
    "print(the_number_in_the_string(\"file123.txt\"))  \n",
    "print(the_number_in_the_string(\"no_numbers\"))"
   ]
  },
  {
   "cell_type": "code",
   "execution_count": 10,
   "id": "0a12f569",
   "metadata": {},
   "outputs": [],
   "source": [
    "labels_dict = dict(\n",
    "    img_path=[], \n",
    "    xmin=[], \n",
    "    xmax=[], \n",
    "    ymin=[], \n",
    "    ymax=[], \n",
    "    img_w=[], \n",
    "    img_h=[]\n",
    ")"
   ]
  },
  {
   "cell_type": "code",
   "execution_count": 11,
   "id": "ab25c741",
   "metadata": {},
   "outputs": [
    {
     "data": {
      "text/plain": [
       "{'img_path': [],\n",
       " 'xmin': [],\n",
       " 'xmax': [],\n",
       " 'ymin': [],\n",
       " 'ymax': [],\n",
       " 'img_w': [],\n",
       " 'img_h': []}"
      ]
     },
     "execution_count": 11,
     "metadata": {},
     "output_type": "execute_result"
    }
   ],
   "source": [
    "labels_dict"
   ]
  },
  {
   "cell_type": "code",
   "execution_count": 13,
   "id": "f0eb98bd",
   "metadata": {},
   "outputs": [
    {
     "data": {
      "text/plain": [
       "['Car_Plate/annotations\\\\Cars0.xml',\n",
       " 'Car_Plate/annotations\\\\Cars1.xml',\n",
       " 'Car_Plate/annotations\\\\Cars10.xml',\n",
       " 'Car_Plate/annotations\\\\Cars100.xml',\n",
       " 'Car_Plate/annotations\\\\Cars101.xml',\n",
       " 'Car_Plate/annotations\\\\Cars102.xml',\n",
       " 'Car_Plate/annotations\\\\Cars103.xml',\n",
       " 'Car_Plate/annotations\\\\Cars104.xml',\n",
       " 'Car_Plate/annotations\\\\Cars105.xml',\n",
       " 'Car_Plate/annotations\\\\Cars106.xml',\n",
       " 'Car_Plate/annotations\\\\Cars107.xml',\n",
       " 'Car_Plate/annotations\\\\Cars108.xml',\n",
       " 'Car_Plate/annotations\\\\Cars109.xml',\n",
       " 'Car_Plate/annotations\\\\Cars11.xml',\n",
       " 'Car_Plate/annotations\\\\Cars110.xml',\n",
       " 'Car_Plate/annotations\\\\Cars111.xml',\n",
       " 'Car_Plate/annotations\\\\Cars112.xml',\n",
       " 'Car_Plate/annotations\\\\Cars113.xml',\n",
       " 'Car_Plate/annotations\\\\Cars114.xml',\n",
       " 'Car_Plate/annotations\\\\Cars115.xml',\n",
       " 'Car_Plate/annotations\\\\Cars116.xml',\n",
       " 'Car_Plate/annotations\\\\Cars117.xml',\n",
       " 'Car_Plate/annotations\\\\Cars118.xml',\n",
       " 'Car_Plate/annotations\\\\Cars119.xml',\n",
       " 'Car_Plate/annotations\\\\Cars12.xml',\n",
       " 'Car_Plate/annotations\\\\Cars120.xml',\n",
       " 'Car_Plate/annotations\\\\Cars121.xml',\n",
       " 'Car_Plate/annotations\\\\Cars122.xml',\n",
       " 'Car_Plate/annotations\\\\Cars123.xml',\n",
       " 'Car_Plate/annotations\\\\Cars124.xml',\n",
       " 'Car_Plate/annotations\\\\Cars125.xml',\n",
       " 'Car_Plate/annotations\\\\Cars126.xml',\n",
       " 'Car_Plate/annotations\\\\Cars127.xml',\n",
       " 'Car_Plate/annotations\\\\Cars128.xml',\n",
       " 'Car_Plate/annotations\\\\Cars129.xml',\n",
       " 'Car_Plate/annotations\\\\Cars13.xml',\n",
       " 'Car_Plate/annotations\\\\Cars130.xml',\n",
       " 'Car_Plate/annotations\\\\Cars131.xml',\n",
       " 'Car_Plate/annotations\\\\Cars132.xml',\n",
       " 'Car_Plate/annotations\\\\Cars133.xml',\n",
       " 'Car_Plate/annotations\\\\Cars134.xml',\n",
       " 'Car_Plate/annotations\\\\Cars135.xml',\n",
       " 'Car_Plate/annotations\\\\Cars136.xml',\n",
       " 'Car_Plate/annotations\\\\Cars137.xml',\n",
       " 'Car_Plate/annotations\\\\Cars138.xml',\n",
       " 'Car_Plate/annotations\\\\Cars139.xml',\n",
       " 'Car_Plate/annotations\\\\Cars14.xml',\n",
       " 'Car_Plate/annotations\\\\Cars140.xml',\n",
       " 'Car_Plate/annotations\\\\Cars141.xml',\n",
       " 'Car_Plate/annotations\\\\Cars142.xml',\n",
       " 'Car_Plate/annotations\\\\Cars143.xml',\n",
       " 'Car_Plate/annotations\\\\Cars144.xml',\n",
       " 'Car_Plate/annotations\\\\Cars145.xml',\n",
       " 'Car_Plate/annotations\\\\Cars146.xml',\n",
       " 'Car_Plate/annotations\\\\Cars147.xml',\n",
       " 'Car_Plate/annotations\\\\Cars148.xml',\n",
       " 'Car_Plate/annotations\\\\Cars149.xml',\n",
       " 'Car_Plate/annotations\\\\Cars15.xml',\n",
       " 'Car_Plate/annotations\\\\Cars150.xml',\n",
       " 'Car_Plate/annotations\\\\Cars151.xml',\n",
       " 'Car_Plate/annotations\\\\Cars152.xml',\n",
       " 'Car_Plate/annotations\\\\Cars153.xml',\n",
       " 'Car_Plate/annotations\\\\Cars154.xml',\n",
       " 'Car_Plate/annotations\\\\Cars155.xml',\n",
       " 'Car_Plate/annotations\\\\Cars156.xml',\n",
       " 'Car_Plate/annotations\\\\Cars157.xml',\n",
       " 'Car_Plate/annotations\\\\Cars158.xml',\n",
       " 'Car_Plate/annotations\\\\Cars159.xml',\n",
       " 'Car_Plate/annotations\\\\Cars16.xml',\n",
       " 'Car_Plate/annotations\\\\Cars160.xml',\n",
       " 'Car_Plate/annotations\\\\Cars161.xml',\n",
       " 'Car_Plate/annotations\\\\Cars162.xml',\n",
       " 'Car_Plate/annotations\\\\Cars163.xml',\n",
       " 'Car_Plate/annotations\\\\Cars164.xml',\n",
       " 'Car_Plate/annotations\\\\Cars165.xml',\n",
       " 'Car_Plate/annotations\\\\Cars166.xml',\n",
       " 'Car_Plate/annotations\\\\Cars167.xml',\n",
       " 'Car_Plate/annotations\\\\Cars168.xml',\n",
       " 'Car_Plate/annotations\\\\Cars169.xml',\n",
       " 'Car_Plate/annotations\\\\Cars17.xml',\n",
       " 'Car_Plate/annotations\\\\Cars170.xml',\n",
       " 'Car_Plate/annotations\\\\Cars171.xml',\n",
       " 'Car_Plate/annotations\\\\Cars172.xml',\n",
       " 'Car_Plate/annotations\\\\Cars173.xml',\n",
       " 'Car_Plate/annotations\\\\Cars174.xml',\n",
       " 'Car_Plate/annotations\\\\Cars175.xml',\n",
       " 'Car_Plate/annotations\\\\Cars176.xml',\n",
       " 'Car_Plate/annotations\\\\Cars177.xml',\n",
       " 'Car_Plate/annotations\\\\Cars178.xml',\n",
       " 'Car_Plate/annotations\\\\Cars179.xml',\n",
       " 'Car_Plate/annotations\\\\Cars18.xml',\n",
       " 'Car_Plate/annotations\\\\Cars180.xml',\n",
       " 'Car_Plate/annotations\\\\Cars181.xml',\n",
       " 'Car_Plate/annotations\\\\Cars182.xml',\n",
       " 'Car_Plate/annotations\\\\Cars183.xml',\n",
       " 'Car_Plate/annotations\\\\Cars184.xml',\n",
       " 'Car_Plate/annotations\\\\Cars185.xml',\n",
       " 'Car_Plate/annotations\\\\Cars186.xml',\n",
       " 'Car_Plate/annotations\\\\Cars187.xml',\n",
       " 'Car_Plate/annotations\\\\Cars188.xml',\n",
       " 'Car_Plate/annotations\\\\Cars189.xml',\n",
       " 'Car_Plate/annotations\\\\Cars19.xml',\n",
       " 'Car_Plate/annotations\\\\Cars190.xml',\n",
       " 'Car_Plate/annotations\\\\Cars191.xml',\n",
       " 'Car_Plate/annotations\\\\Cars192.xml',\n",
       " 'Car_Plate/annotations\\\\Cars193.xml',\n",
       " 'Car_Plate/annotations\\\\Cars194.xml',\n",
       " 'Car_Plate/annotations\\\\Cars195.xml',\n",
       " 'Car_Plate/annotations\\\\Cars196.xml',\n",
       " 'Car_Plate/annotations\\\\Cars197.xml',\n",
       " 'Car_Plate/annotations\\\\Cars198.xml',\n",
       " 'Car_Plate/annotations\\\\Cars199.xml',\n",
       " 'Car_Plate/annotations\\\\Cars2.xml',\n",
       " 'Car_Plate/annotations\\\\Cars20.xml',\n",
       " 'Car_Plate/annotations\\\\Cars200.xml',\n",
       " 'Car_Plate/annotations\\\\Cars201.xml',\n",
       " 'Car_Plate/annotations\\\\Cars202.xml',\n",
       " 'Car_Plate/annotations\\\\Cars203.xml',\n",
       " 'Car_Plate/annotations\\\\Cars204.xml',\n",
       " 'Car_Plate/annotations\\\\Cars205.xml',\n",
       " 'Car_Plate/annotations\\\\Cars206.xml',\n",
       " 'Car_Plate/annotations\\\\Cars207.xml',\n",
       " 'Car_Plate/annotations\\\\Cars208.xml',\n",
       " 'Car_Plate/annotations\\\\Cars209.xml',\n",
       " 'Car_Plate/annotations\\\\Cars21.xml',\n",
       " 'Car_Plate/annotations\\\\Cars210.xml',\n",
       " 'Car_Plate/annotations\\\\Cars211.xml',\n",
       " 'Car_Plate/annotations\\\\Cars212.xml',\n",
       " 'Car_Plate/annotations\\\\Cars213.xml',\n",
       " 'Car_Plate/annotations\\\\Cars214.xml',\n",
       " 'Car_Plate/annotations\\\\Cars215.xml',\n",
       " 'Car_Plate/annotations\\\\Cars216.xml',\n",
       " 'Car_Plate/annotations\\\\Cars217.xml',\n",
       " 'Car_Plate/annotations\\\\Cars218.xml',\n",
       " 'Car_Plate/annotations\\\\Cars219.xml',\n",
       " 'Car_Plate/annotations\\\\Cars22.xml',\n",
       " 'Car_Plate/annotations\\\\Cars220.xml',\n",
       " 'Car_Plate/annotations\\\\Cars221.xml',\n",
       " 'Car_Plate/annotations\\\\Cars222.xml',\n",
       " 'Car_Plate/annotations\\\\Cars223.xml',\n",
       " 'Car_Plate/annotations\\\\Cars224.xml',\n",
       " 'Car_Plate/annotations\\\\Cars225.xml',\n",
       " 'Car_Plate/annotations\\\\Cars226.xml',\n",
       " 'Car_Plate/annotations\\\\Cars227.xml',\n",
       " 'Car_Plate/annotations\\\\Cars228.xml',\n",
       " 'Car_Plate/annotations\\\\Cars229.xml',\n",
       " 'Car_Plate/annotations\\\\Cars23.xml',\n",
       " 'Car_Plate/annotations\\\\Cars230.xml',\n",
       " 'Car_Plate/annotations\\\\Cars231.xml',\n",
       " 'Car_Plate/annotations\\\\Cars232.xml',\n",
       " 'Car_Plate/annotations\\\\Cars233.xml',\n",
       " 'Car_Plate/annotations\\\\Cars234.xml',\n",
       " 'Car_Plate/annotations\\\\Cars235.xml',\n",
       " 'Car_Plate/annotations\\\\Cars236.xml',\n",
       " 'Car_Plate/annotations\\\\Cars237.xml',\n",
       " 'Car_Plate/annotations\\\\Cars238.xml',\n",
       " 'Car_Plate/annotations\\\\Cars239.xml',\n",
       " 'Car_Plate/annotations\\\\Cars24.xml',\n",
       " 'Car_Plate/annotations\\\\Cars240.xml',\n",
       " 'Car_Plate/annotations\\\\Cars241.xml',\n",
       " 'Car_Plate/annotations\\\\Cars242.xml',\n",
       " 'Car_Plate/annotations\\\\Cars243.xml',\n",
       " 'Car_Plate/annotations\\\\Cars244.xml',\n",
       " 'Car_Plate/annotations\\\\Cars245.xml',\n",
       " 'Car_Plate/annotations\\\\Cars246.xml',\n",
       " 'Car_Plate/annotations\\\\Cars247.xml',\n",
       " 'Car_Plate/annotations\\\\Cars248.xml',\n",
       " 'Car_Plate/annotations\\\\Cars249.xml',\n",
       " 'Car_Plate/annotations\\\\Cars25.xml',\n",
       " 'Car_Plate/annotations\\\\Cars250.xml',\n",
       " 'Car_Plate/annotations\\\\Cars251.xml',\n",
       " 'Car_Plate/annotations\\\\Cars252.xml',\n",
       " 'Car_Plate/annotations\\\\Cars253.xml',\n",
       " 'Car_Plate/annotations\\\\Cars254.xml',\n",
       " 'Car_Plate/annotations\\\\Cars255.xml',\n",
       " 'Car_Plate/annotations\\\\Cars256.xml',\n",
       " 'Car_Plate/annotations\\\\Cars257.xml',\n",
       " 'Car_Plate/annotations\\\\Cars258.xml',\n",
       " 'Car_Plate/annotations\\\\Cars259.xml',\n",
       " 'Car_Plate/annotations\\\\Cars26.xml',\n",
       " 'Car_Plate/annotations\\\\Cars260.xml',\n",
       " 'Car_Plate/annotations\\\\Cars261.xml',\n",
       " 'Car_Plate/annotations\\\\Cars262.xml',\n",
       " 'Car_Plate/annotations\\\\Cars263.xml',\n",
       " 'Car_Plate/annotations\\\\Cars264.xml',\n",
       " 'Car_Plate/annotations\\\\Cars265.xml',\n",
       " 'Car_Plate/annotations\\\\Cars266.xml',\n",
       " 'Car_Plate/annotations\\\\Cars267.xml',\n",
       " 'Car_Plate/annotations\\\\Cars268.xml',\n",
       " 'Car_Plate/annotations\\\\Cars269.xml',\n",
       " 'Car_Plate/annotations\\\\Cars27.xml',\n",
       " 'Car_Plate/annotations\\\\Cars270.xml',\n",
       " 'Car_Plate/annotations\\\\Cars271.xml',\n",
       " 'Car_Plate/annotations\\\\Cars272.xml',\n",
       " 'Car_Plate/annotations\\\\Cars273.xml',\n",
       " 'Car_Plate/annotations\\\\Cars274.xml',\n",
       " 'Car_Plate/annotations\\\\Cars275.xml',\n",
       " 'Car_Plate/annotations\\\\Cars276.xml',\n",
       " 'Car_Plate/annotations\\\\Cars277.xml',\n",
       " 'Car_Plate/annotations\\\\Cars278.xml',\n",
       " 'Car_Plate/annotations\\\\Cars279.xml',\n",
       " 'Car_Plate/annotations\\\\Cars28.xml',\n",
       " 'Car_Plate/annotations\\\\Cars280.xml',\n",
       " 'Car_Plate/annotations\\\\Cars281.xml',\n",
       " 'Car_Plate/annotations\\\\Cars282.xml',\n",
       " 'Car_Plate/annotations\\\\Cars283.xml',\n",
       " 'Car_Plate/annotations\\\\Cars284.xml',\n",
       " 'Car_Plate/annotations\\\\Cars285.xml',\n",
       " 'Car_Plate/annotations\\\\Cars286.xml',\n",
       " 'Car_Plate/annotations\\\\Cars287.xml',\n",
       " 'Car_Plate/annotations\\\\Cars288.xml',\n",
       " 'Car_Plate/annotations\\\\Cars289.xml',\n",
       " 'Car_Plate/annotations\\\\Cars29.xml',\n",
       " 'Car_Plate/annotations\\\\Cars290.xml',\n",
       " 'Car_Plate/annotations\\\\Cars291.xml',\n",
       " 'Car_Plate/annotations\\\\Cars292.xml',\n",
       " 'Car_Plate/annotations\\\\Cars293.xml',\n",
       " 'Car_Plate/annotations\\\\Cars294.xml',\n",
       " 'Car_Plate/annotations\\\\Cars295.xml',\n",
       " 'Car_Plate/annotations\\\\Cars296.xml',\n",
       " 'Car_Plate/annotations\\\\Cars297.xml',\n",
       " 'Car_Plate/annotations\\\\Cars298.xml',\n",
       " 'Car_Plate/annotations\\\\Cars299.xml',\n",
       " 'Car_Plate/annotations\\\\Cars3.xml',\n",
       " 'Car_Plate/annotations\\\\Cars30.xml',\n",
       " 'Car_Plate/annotations\\\\Cars300.xml',\n",
       " 'Car_Plate/annotations\\\\Cars301.xml',\n",
       " 'Car_Plate/annotations\\\\Cars302.xml',\n",
       " 'Car_Plate/annotations\\\\Cars303.xml',\n",
       " 'Car_Plate/annotations\\\\Cars304.xml',\n",
       " 'Car_Plate/annotations\\\\Cars305.xml',\n",
       " 'Car_Plate/annotations\\\\Cars306.xml',\n",
       " 'Car_Plate/annotations\\\\Cars307.xml',\n",
       " 'Car_Plate/annotations\\\\Cars308.xml',\n",
       " 'Car_Plate/annotations\\\\Cars309.xml',\n",
       " 'Car_Plate/annotations\\\\Cars31.xml',\n",
       " 'Car_Plate/annotations\\\\Cars310.xml',\n",
       " 'Car_Plate/annotations\\\\Cars311.xml',\n",
       " 'Car_Plate/annotations\\\\Cars312.xml',\n",
       " 'Car_Plate/annotations\\\\Cars313.xml',\n",
       " 'Car_Plate/annotations\\\\Cars314.xml',\n",
       " 'Car_Plate/annotations\\\\Cars315.xml',\n",
       " 'Car_Plate/annotations\\\\Cars316.xml',\n",
       " 'Car_Plate/annotations\\\\Cars317.xml',\n",
       " 'Car_Plate/annotations\\\\Cars318.xml',\n",
       " 'Car_Plate/annotations\\\\Cars319.xml',\n",
       " 'Car_Plate/annotations\\\\Cars32.xml',\n",
       " 'Car_Plate/annotations\\\\Cars320.xml',\n",
       " 'Car_Plate/annotations\\\\Cars321.xml',\n",
       " 'Car_Plate/annotations\\\\Cars322.xml',\n",
       " 'Car_Plate/annotations\\\\Cars323.xml',\n",
       " 'Car_Plate/annotations\\\\Cars324.xml',\n",
       " 'Car_Plate/annotations\\\\Cars325.xml',\n",
       " 'Car_Plate/annotations\\\\Cars326.xml',\n",
       " 'Car_Plate/annotations\\\\Cars327.xml',\n",
       " 'Car_Plate/annotations\\\\Cars328.xml',\n",
       " 'Car_Plate/annotations\\\\Cars329.xml',\n",
       " 'Car_Plate/annotations\\\\Cars33.xml',\n",
       " 'Car_Plate/annotations\\\\Cars330.xml',\n",
       " 'Car_Plate/annotations\\\\Cars331.xml',\n",
       " 'Car_Plate/annotations\\\\Cars332.xml',\n",
       " 'Car_Plate/annotations\\\\Cars333.xml',\n",
       " 'Car_Plate/annotations\\\\Cars334.xml',\n",
       " 'Car_Plate/annotations\\\\Cars335.xml',\n",
       " 'Car_Plate/annotations\\\\Cars336.xml',\n",
       " 'Car_Plate/annotations\\\\Cars337.xml',\n",
       " 'Car_Plate/annotations\\\\Cars338.xml',\n",
       " 'Car_Plate/annotations\\\\Cars339.xml',\n",
       " 'Car_Plate/annotations\\\\Cars34.xml',\n",
       " 'Car_Plate/annotations\\\\Cars340.xml',\n",
       " 'Car_Plate/annotations\\\\Cars341.xml',\n",
       " 'Car_Plate/annotations\\\\Cars342.xml',\n",
       " 'Car_Plate/annotations\\\\Cars343.xml',\n",
       " 'Car_Plate/annotations\\\\Cars344.xml',\n",
       " 'Car_Plate/annotations\\\\Cars345.xml',\n",
       " 'Car_Plate/annotations\\\\Cars346.xml',\n",
       " 'Car_Plate/annotations\\\\Cars347.xml',\n",
       " 'Car_Plate/annotations\\\\Cars348.xml',\n",
       " 'Car_Plate/annotations\\\\Cars349.xml',\n",
       " 'Car_Plate/annotations\\\\Cars35.xml',\n",
       " 'Car_Plate/annotations\\\\Cars350.xml',\n",
       " 'Car_Plate/annotations\\\\Cars351.xml',\n",
       " 'Car_Plate/annotations\\\\Cars352.xml',\n",
       " 'Car_Plate/annotations\\\\Cars353.xml',\n",
       " 'Car_Plate/annotations\\\\Cars354.xml',\n",
       " 'Car_Plate/annotations\\\\Cars355.xml',\n",
       " 'Car_Plate/annotations\\\\Cars356.xml',\n",
       " 'Car_Plate/annotations\\\\Cars357.xml',\n",
       " 'Car_Plate/annotations\\\\Cars358.xml',\n",
       " 'Car_Plate/annotations\\\\Cars359.xml',\n",
       " 'Car_Plate/annotations\\\\Cars36.xml',\n",
       " 'Car_Plate/annotations\\\\Cars360.xml',\n",
       " 'Car_Plate/annotations\\\\Cars361.xml',\n",
       " 'Car_Plate/annotations\\\\Cars362.xml',\n",
       " 'Car_Plate/annotations\\\\Cars363.xml',\n",
       " 'Car_Plate/annotations\\\\Cars364.xml',\n",
       " 'Car_Plate/annotations\\\\Cars365.xml',\n",
       " 'Car_Plate/annotations\\\\Cars366.xml',\n",
       " 'Car_Plate/annotations\\\\Cars367.xml',\n",
       " 'Car_Plate/annotations\\\\Cars368.xml',\n",
       " 'Car_Plate/annotations\\\\Cars369.xml',\n",
       " 'Car_Plate/annotations\\\\Cars37.xml',\n",
       " 'Car_Plate/annotations\\\\Cars370.xml',\n",
       " 'Car_Plate/annotations\\\\Cars371.xml',\n",
       " 'Car_Plate/annotations\\\\Cars372.xml',\n",
       " 'Car_Plate/annotations\\\\Cars373.xml',\n",
       " 'Car_Plate/annotations\\\\Cars374.xml',\n",
       " 'Car_Plate/annotations\\\\Cars375.xml',\n",
       " 'Car_Plate/annotations\\\\Cars376.xml',\n",
       " 'Car_Plate/annotations\\\\Cars377.xml',\n",
       " 'Car_Plate/annotations\\\\Cars378.xml',\n",
       " 'Car_Plate/annotations\\\\Cars379.xml',\n",
       " 'Car_Plate/annotations\\\\Cars38.xml',\n",
       " 'Car_Plate/annotations\\\\Cars380.xml',\n",
       " 'Car_Plate/annotations\\\\Cars381.xml',\n",
       " 'Car_Plate/annotations\\\\Cars382.xml',\n",
       " 'Car_Plate/annotations\\\\Cars383.xml',\n",
       " 'Car_Plate/annotations\\\\Cars384.xml',\n",
       " 'Car_Plate/annotations\\\\Cars385.xml',\n",
       " 'Car_Plate/annotations\\\\Cars386.xml',\n",
       " 'Car_Plate/annotations\\\\Cars387.xml',\n",
       " 'Car_Plate/annotations\\\\Cars388.xml',\n",
       " 'Car_Plate/annotations\\\\Cars389.xml',\n",
       " 'Car_Plate/annotations\\\\Cars39.xml',\n",
       " 'Car_Plate/annotations\\\\Cars390.xml',\n",
       " 'Car_Plate/annotations\\\\Cars391.xml',\n",
       " 'Car_Plate/annotations\\\\Cars392.xml',\n",
       " 'Car_Plate/annotations\\\\Cars393.xml',\n",
       " 'Car_Plate/annotations\\\\Cars394.xml',\n",
       " 'Car_Plate/annotations\\\\Cars395.xml',\n",
       " 'Car_Plate/annotations\\\\Cars396.xml',\n",
       " 'Car_Plate/annotations\\\\Cars397.xml',\n",
       " 'Car_Plate/annotations\\\\Cars398.xml',\n",
       " 'Car_Plate/annotations\\\\Cars399.xml',\n",
       " 'Car_Plate/annotations\\\\Cars4.xml',\n",
       " 'Car_Plate/annotations\\\\Cars40.xml',\n",
       " 'Car_Plate/annotations\\\\Cars400.xml',\n",
       " 'Car_Plate/annotations\\\\Cars401.xml',\n",
       " 'Car_Plate/annotations\\\\Cars402.xml',\n",
       " 'Car_Plate/annotations\\\\Cars403.xml',\n",
       " 'Car_Plate/annotations\\\\Cars404.xml',\n",
       " 'Car_Plate/annotations\\\\Cars405.xml',\n",
       " 'Car_Plate/annotations\\\\Cars406.xml',\n",
       " 'Car_Plate/annotations\\\\Cars407.xml',\n",
       " 'Car_Plate/annotations\\\\Cars408.xml',\n",
       " 'Car_Plate/annotations\\\\Cars409.xml',\n",
       " 'Car_Plate/annotations\\\\Cars41.xml',\n",
       " 'Car_Plate/annotations\\\\Cars410.xml',\n",
       " 'Car_Plate/annotations\\\\Cars411.xml',\n",
       " 'Car_Plate/annotations\\\\Cars412.xml',\n",
       " 'Car_Plate/annotations\\\\Cars413.xml',\n",
       " 'Car_Plate/annotations\\\\Cars414.xml',\n",
       " 'Car_Plate/annotations\\\\Cars415.xml',\n",
       " 'Car_Plate/annotations\\\\Cars416.xml',\n",
       " 'Car_Plate/annotations\\\\Cars417.xml',\n",
       " 'Car_Plate/annotations\\\\Cars418.xml',\n",
       " 'Car_Plate/annotations\\\\Cars419.xml',\n",
       " 'Car_Plate/annotations\\\\Cars42.xml',\n",
       " 'Car_Plate/annotations\\\\Cars420.xml',\n",
       " 'Car_Plate/annotations\\\\Cars421.xml',\n",
       " 'Car_Plate/annotations\\\\Cars422.xml',\n",
       " 'Car_Plate/annotations\\\\Cars423.xml',\n",
       " 'Car_Plate/annotations\\\\Cars424.xml',\n",
       " 'Car_Plate/annotations\\\\Cars425.xml',\n",
       " 'Car_Plate/annotations\\\\Cars426.xml',\n",
       " 'Car_Plate/annotations\\\\Cars427.xml',\n",
       " 'Car_Plate/annotations\\\\Cars428.xml',\n",
       " 'Car_Plate/annotations\\\\Cars429.xml',\n",
       " 'Car_Plate/annotations\\\\Cars43.xml',\n",
       " 'Car_Plate/annotations\\\\Cars430.xml',\n",
       " 'Car_Plate/annotations\\\\Cars431.xml',\n",
       " 'Car_Plate/annotations\\\\Cars432.xml',\n",
       " 'Car_Plate/annotations\\\\Cars44.xml',\n",
       " 'Car_Plate/annotations\\\\Cars45.xml',\n",
       " 'Car_Plate/annotations\\\\Cars46.xml',\n",
       " 'Car_Plate/annotations\\\\Cars47.xml',\n",
       " 'Car_Plate/annotations\\\\Cars48.xml',\n",
       " 'Car_Plate/annotations\\\\Cars49.xml',\n",
       " 'Car_Plate/annotations\\\\Cars5.xml',\n",
       " 'Car_Plate/annotations\\\\Cars50.xml',\n",
       " 'Car_Plate/annotations\\\\Cars51.xml',\n",
       " 'Car_Plate/annotations\\\\Cars52.xml',\n",
       " 'Car_Plate/annotations\\\\Cars53.xml',\n",
       " 'Car_Plate/annotations\\\\Cars54.xml',\n",
       " 'Car_Plate/annotations\\\\Cars55.xml',\n",
       " 'Car_Plate/annotations\\\\Cars56.xml',\n",
       " 'Car_Plate/annotations\\\\Cars57.xml',\n",
       " 'Car_Plate/annotations\\\\Cars58.xml',\n",
       " 'Car_Plate/annotations\\\\Cars59.xml',\n",
       " 'Car_Plate/annotations\\\\Cars6.xml',\n",
       " 'Car_Plate/annotations\\\\Cars60.xml',\n",
       " 'Car_Plate/annotations\\\\Cars61.xml',\n",
       " 'Car_Plate/annotations\\\\Cars62.xml',\n",
       " 'Car_Plate/annotations\\\\Cars63.xml',\n",
       " 'Car_Plate/annotations\\\\Cars64.xml',\n",
       " 'Car_Plate/annotations\\\\Cars65.xml',\n",
       " 'Car_Plate/annotations\\\\Cars66.xml',\n",
       " 'Car_Plate/annotations\\\\Cars67.xml',\n",
       " 'Car_Plate/annotations\\\\Cars68.xml',\n",
       " 'Car_Plate/annotations\\\\Cars69.xml',\n",
       " 'Car_Plate/annotations\\\\Cars7.xml',\n",
       " 'Car_Plate/annotations\\\\Cars70.xml',\n",
       " 'Car_Plate/annotations\\\\Cars71.xml',\n",
       " 'Car_Plate/annotations\\\\Cars72.xml',\n",
       " 'Car_Plate/annotations\\\\Cars73.xml',\n",
       " 'Car_Plate/annotations\\\\Cars74.xml',\n",
       " 'Car_Plate/annotations\\\\Cars75.xml',\n",
       " 'Car_Plate/annotations\\\\Cars76.xml',\n",
       " 'Car_Plate/annotations\\\\Cars77.xml',\n",
       " 'Car_Plate/annotations\\\\Cars78.xml',\n",
       " 'Car_Plate/annotations\\\\Cars79.xml',\n",
       " 'Car_Plate/annotations\\\\Cars8.xml',\n",
       " 'Car_Plate/annotations\\\\Cars80.xml',\n",
       " 'Car_Plate/annotations\\\\Cars81.xml',\n",
       " 'Car_Plate/annotations\\\\Cars82.xml',\n",
       " 'Car_Plate/annotations\\\\Cars83.xml',\n",
       " 'Car_Plate/annotations\\\\Cars84.xml',\n",
       " 'Car_Plate/annotations\\\\Cars85.xml',\n",
       " 'Car_Plate/annotations\\\\Cars86.xml',\n",
       " 'Car_Plate/annotations\\\\Cars87.xml',\n",
       " 'Car_Plate/annotations\\\\Cars88.xml',\n",
       " 'Car_Plate/annotations\\\\Cars89.xml',\n",
       " 'Car_Plate/annotations\\\\Cars9.xml',\n",
       " 'Car_Plate/annotations\\\\Cars90.xml',\n",
       " 'Car_Plate/annotations\\\\Cars91.xml',\n",
       " 'Car_Plate/annotations\\\\Cars92.xml',\n",
       " 'Car_Plate/annotations\\\\Cars93.xml',\n",
       " 'Car_Plate/annotations\\\\Cars94.xml',\n",
       " 'Car_Plate/annotations\\\\Cars95.xml',\n",
       " 'Car_Plate/annotations\\\\Cars96.xml',\n",
       " 'Car_Plate/annotations\\\\Cars97.xml',\n",
       " 'Car_Plate/annotations\\\\Cars98.xml',\n",
       " 'Car_Plate/annotations\\\\Cars99.xml']"
      ]
     },
     "execution_count": 13,
     "metadata": {},
     "output_type": "execute_result"
    }
   ],
   "source": [
    "import os\n",
    "from glob import glob\n",
    "\n",
    "xml_files = glob(f'{dataset_path}/annotations/*.xml')\n",
    "xml_files"
   ]
  },
  {
   "cell_type": "code",
   "execution_count": 15,
   "id": "4fb67975",
   "metadata": {},
   "outputs": [],
   "source": [
    "import xml.etree.ElementTree as xet"
   ]
  },
  {
   "cell_type": "code",
   "execution_count": 16,
   "id": "26d847e5",
   "metadata": {},
   "outputs": [],
   "source": [
    "import cv2\n",
    "\n",
    "for filename in sorted(xml_files, key=the_number_in_the_string):\n",
    "    \n",
    "    info = xet.parse(filename)\n",
    "    root = info.getroot()    \n",
    "    \n",
    " # Finding BB info\n",
    "    member_object = root.find('object')\n",
    "    labels_info = member_object.find('bndbox')\n",
    "    xmin = int(labels_info.find('xmin').text)\n",
    "    xmax = int(labels_info.find('xmax').text)\n",
    "    ymin = int(labels_info.find('ymin').text)\n",
    "    ymax = int(labels_info.find('ymax').text)\n",
    "    \n",
    "# join full path\n",
    "    img_name = root.find('filename').text\n",
    "    img_path = os.path.join(dataset_path, 'images', img_name)\n",
    "    \n",
    "# add to dictionary\n",
    "    labels_dict['img_path'].append(img_path)\n",
    "    labels_dict['xmin'].append(xmin)\n",
    "    labels_dict['xmax'].append(xmax)\n",
    "    labels_dict['ymin'].append(ymin)\n",
    "    labels_dict['ymax'].append(ymax)\n",
    "    \n",
    "# Read img and get dimensions\n",
    "    height, width, _ = cv2.imread(img_path).shape\n",
    "    labels_dict['img_w'].append(width)\n",
    "    labels_dict['img_h'].append(height)\n",
    "    \n",
    "    alldata = pd.DataFrame(labels_dict)"
   ]
  },
  {
   "cell_type": "code",
   "execution_count": 17,
   "id": "c827fefb",
   "metadata": {},
   "outputs": [
    {
     "data": {
      "text/html": [
       "<div>\n",
       "<style scoped>\n",
       "    .dataframe tbody tr th:only-of-type {\n",
       "        vertical-align: middle;\n",
       "    }\n",
       "\n",
       "    .dataframe tbody tr th {\n",
       "        vertical-align: top;\n",
       "    }\n",
       "\n",
       "    .dataframe thead th {\n",
       "        text-align: right;\n",
       "    }\n",
       "</style>\n",
       "<table border=\"1\" class=\"dataframe\">\n",
       "  <thead>\n",
       "    <tr style=\"text-align: right;\">\n",
       "      <th></th>\n",
       "      <th>img_path</th>\n",
       "      <th>xmin</th>\n",
       "      <th>xmax</th>\n",
       "      <th>ymin</th>\n",
       "      <th>ymax</th>\n",
       "      <th>img_w</th>\n",
       "      <th>img_h</th>\n",
       "    </tr>\n",
       "  </thead>\n",
       "  <tbody>\n",
       "    <tr>\n",
       "      <th>0</th>\n",
       "      <td>Car_Plate\\images\\Cars0.png</td>\n",
       "      <td>226</td>\n",
       "      <td>419</td>\n",
       "      <td>125</td>\n",
       "      <td>173</td>\n",
       "      <td>500</td>\n",
       "      <td>268</td>\n",
       "    </tr>\n",
       "    <tr>\n",
       "      <th>1</th>\n",
       "      <td>Car_Plate\\images\\Cars1.png</td>\n",
       "      <td>134</td>\n",
       "      <td>262</td>\n",
       "      <td>128</td>\n",
       "      <td>160</td>\n",
       "      <td>400</td>\n",
       "      <td>248</td>\n",
       "    </tr>\n",
       "    <tr>\n",
       "      <th>2</th>\n",
       "      <td>Car_Plate\\images\\Cars2.png</td>\n",
       "      <td>229</td>\n",
       "      <td>270</td>\n",
       "      <td>176</td>\n",
       "      <td>193</td>\n",
       "      <td>400</td>\n",
       "      <td>400</td>\n",
       "    </tr>\n",
       "    <tr>\n",
       "      <th>3</th>\n",
       "      <td>Car_Plate\\images\\Cars3.png</td>\n",
       "      <td>142</td>\n",
       "      <td>261</td>\n",
       "      <td>128</td>\n",
       "      <td>157</td>\n",
       "      <td>400</td>\n",
       "      <td>225</td>\n",
       "    </tr>\n",
       "    <tr>\n",
       "      <th>4</th>\n",
       "      <td>Car_Plate\\images\\Cars4.png</td>\n",
       "      <td>156</td>\n",
       "      <td>503</td>\n",
       "      <td>82</td>\n",
       "      <td>253</td>\n",
       "      <td>590</td>\n",
       "      <td>350</td>\n",
       "    </tr>\n",
       "    <tr>\n",
       "      <th>...</th>\n",
       "      <td>...</td>\n",
       "      <td>...</td>\n",
       "      <td>...</td>\n",
       "      <td>...</td>\n",
       "      <td>...</td>\n",
       "      <td>...</td>\n",
       "      <td>...</td>\n",
       "    </tr>\n",
       "    <tr>\n",
       "      <th>428</th>\n",
       "      <td>Car_Plate\\images\\Cars428.png</td>\n",
       "      <td>142</td>\n",
       "      <td>258</td>\n",
       "      <td>128</td>\n",
       "      <td>157</td>\n",
       "      <td>400</td>\n",
       "      <td>225</td>\n",
       "    </tr>\n",
       "    <tr>\n",
       "      <th>429</th>\n",
       "      <td>Car_Plate\\images\\Cars429.png</td>\n",
       "      <td>86</td>\n",
       "      <td>208</td>\n",
       "      <td>166</td>\n",
       "      <td>195</td>\n",
       "      <td>301</td>\n",
       "      <td>400</td>\n",
       "    </tr>\n",
       "    <tr>\n",
       "      <th>430</th>\n",
       "      <td>Car_Plate\\images\\Cars430.png</td>\n",
       "      <td>38</td>\n",
       "      <td>116</td>\n",
       "      <td>159</td>\n",
       "      <td>197</td>\n",
       "      <td>400</td>\n",
       "      <td>225</td>\n",
       "    </tr>\n",
       "    <tr>\n",
       "      <th>431</th>\n",
       "      <td>Car_Plate\\images\\Cars431.png</td>\n",
       "      <td>55</td>\n",
       "      <td>343</td>\n",
       "      <td>82</td>\n",
       "      <td>147</td>\n",
       "      <td>400</td>\n",
       "      <td>192</td>\n",
       "    </tr>\n",
       "    <tr>\n",
       "      <th>432</th>\n",
       "      <td>Car_Plate\\images\\Cars432.png</td>\n",
       "      <td>95</td>\n",
       "      <td>196</td>\n",
       "      <td>258</td>\n",
       "      <td>284</td>\n",
       "      <td>467</td>\n",
       "      <td>300</td>\n",
       "    </tr>\n",
       "  </tbody>\n",
       "</table>\n",
       "<p>433 rows × 7 columns</p>\n",
       "</div>"
      ],
      "text/plain": [
       "                         img_path  xmin  xmax  ymin  ymax  img_w  img_h\n",
       "0      Car_Plate\\images\\Cars0.png   226   419   125   173    500    268\n",
       "1      Car_Plate\\images\\Cars1.png   134   262   128   160    400    248\n",
       "2      Car_Plate\\images\\Cars2.png   229   270   176   193    400    400\n",
       "3      Car_Plate\\images\\Cars3.png   142   261   128   157    400    225\n",
       "4      Car_Plate\\images\\Cars4.png   156   503    82   253    590    350\n",
       "..                            ...   ...   ...   ...   ...    ...    ...\n",
       "428  Car_Plate\\images\\Cars428.png   142   258   128   157    400    225\n",
       "429  Car_Plate\\images\\Cars429.png    86   208   166   195    301    400\n",
       "430  Car_Plate\\images\\Cars430.png    38   116   159   197    400    225\n",
       "431  Car_Plate\\images\\Cars431.png    55   343    82   147    400    192\n",
       "432  Car_Plate\\images\\Cars432.png    95   196   258   284    467    300\n",
       "\n",
       "[433 rows x 7 columns]"
      ]
     },
     "execution_count": 17,
     "metadata": {},
     "output_type": "execute_result"
    }
   ],
   "source": [
    "alldata"
   ]
  },
  {
   "cell_type": "code",
   "execution_count": 18,
   "id": "8641dfa5",
   "metadata": {},
   "outputs": [
    {
     "name": "stdout",
     "output_type": "stream",
     "text": [
      "\n",
      "      len(train) = 345\n",
      "      len(val) = 44\n",
      "      len(test) = 44\n",
      "\n"
     ]
    }
   ],
   "source": [
    "from sklearn.model_selection import train_test_split\n",
    "\n",
    "\n",
    "train, test = train_test_split(alldata, test_size=1/10, random_state=42)\n",
    "train, val = train_test_split(train, train_size=8/9, random_state=42)\n",
    "\n",
    "print(f'''\n",
    "      len(train) = {len(train)}\n",
    "      len(val) = {len(val)}\n",
    "      len(test) = {len(test)}\n",
    "''')"
   ]
  },
  {
   "cell_type": "code",
   "execution_count": 19,
   "id": "41901ac1",
   "metadata": {},
   "outputs": [],
   "source": [
    "import shutil\n",
    "\n",
    "if os.path.exists('datasets'):\n",
    "    shutil.rmtree('datasets')"
   ]
  },
  {
   "cell_type": "code",
   "execution_count": 20,
   "id": "bdc62dd2",
   "metadata": {},
   "outputs": [
    {
     "data": {
      "text/html": [
       "<div>\n",
       "<style scoped>\n",
       "    .dataframe tbody tr th:only-of-type {\n",
       "        vertical-align: middle;\n",
       "    }\n",
       "\n",
       "    .dataframe tbody tr th {\n",
       "        vertical-align: top;\n",
       "    }\n",
       "\n",
       "    .dataframe thead th {\n",
       "        text-align: right;\n",
       "    }\n",
       "</style>\n",
       "<table border=\"1\" class=\"dataframe\">\n",
       "  <thead>\n",
       "    <tr style=\"text-align: right;\">\n",
       "      <th></th>\n",
       "      <th>img_path</th>\n",
       "      <th>xmin</th>\n",
       "      <th>xmax</th>\n",
       "      <th>ymin</th>\n",
       "      <th>ymax</th>\n",
       "      <th>img_w</th>\n",
       "      <th>img_h</th>\n",
       "    </tr>\n",
       "  </thead>\n",
       "  <tbody>\n",
       "    <tr>\n",
       "      <th>124</th>\n",
       "      <td>Car_Plate\\images\\Cars124.png</td>\n",
       "      <td>305</td>\n",
       "      <td>320</td>\n",
       "      <td>256</td>\n",
       "      <td>267</td>\n",
       "      <td>400</td>\n",
       "      <td>267</td>\n",
       "    </tr>\n",
       "    <tr>\n",
       "      <th>315</th>\n",
       "      <td>Car_Plate\\images\\Cars315.png</td>\n",
       "      <td>12</td>\n",
       "      <td>385</td>\n",
       "      <td>98</td>\n",
       "      <td>181</td>\n",
       "      <td>400</td>\n",
       "      <td>300</td>\n",
       "    </tr>\n",
       "    <tr>\n",
       "      <th>282</th>\n",
       "      <td>Car_Plate\\images\\Cars282.png</td>\n",
       "      <td>37</td>\n",
       "      <td>319</td>\n",
       "      <td>145</td>\n",
       "      <td>203</td>\n",
       "      <td>350</td>\n",
       "      <td>263</td>\n",
       "    </tr>\n",
       "    <tr>\n",
       "      <th>236</th>\n",
       "      <td>Car_Plate\\images\\Cars236.png</td>\n",
       "      <td>223</td>\n",
       "      <td>250</td>\n",
       "      <td>106</td>\n",
       "      <td>119</td>\n",
       "      <td>400</td>\n",
       "      <td>176</td>\n",
       "    </tr>\n",
       "    <tr>\n",
       "      <th>112</th>\n",
       "      <td>Car_Plate\\images\\Cars112.png</td>\n",
       "      <td>49</td>\n",
       "      <td>164</td>\n",
       "      <td>135</td>\n",
       "      <td>191</td>\n",
       "      <td>240</td>\n",
       "      <td>400</td>\n",
       "    </tr>\n",
       "    <tr>\n",
       "      <th>...</th>\n",
       "      <td>...</td>\n",
       "      <td>...</td>\n",
       "      <td>...</td>\n",
       "      <td>...</td>\n",
       "      <td>...</td>\n",
       "      <td>...</td>\n",
       "      <td>...</td>\n",
       "    </tr>\n",
       "    <tr>\n",
       "      <th>110</th>\n",
       "      <td>Car_Plate\\images\\Cars110.png</td>\n",
       "      <td>286</td>\n",
       "      <td>328</td>\n",
       "      <td>133</td>\n",
       "      <td>159</td>\n",
       "      <td>400</td>\n",
       "      <td>267</td>\n",
       "    </tr>\n",
       "    <tr>\n",
       "      <th>255</th>\n",
       "      <td>Car_Plate\\images\\Cars255.png</td>\n",
       "      <td>116</td>\n",
       "      <td>273</td>\n",
       "      <td>156</td>\n",
       "      <td>188</td>\n",
       "      <td>400</td>\n",
       "      <td>267</td>\n",
       "    </tr>\n",
       "    <tr>\n",
       "      <th>292</th>\n",
       "      <td>Car_Plate\\images\\Cars292.png</td>\n",
       "      <td>91</td>\n",
       "      <td>137</td>\n",
       "      <td>187</td>\n",
       "      <td>208</td>\n",
       "      <td>400</td>\n",
       "      <td>267</td>\n",
       "    </tr>\n",
       "    <tr>\n",
       "      <th>54</th>\n",
       "      <td>Car_Plate\\images\\Cars54.png</td>\n",
       "      <td>148</td>\n",
       "      <td>257</td>\n",
       "      <td>61</td>\n",
       "      <td>118</td>\n",
       "      <td>400</td>\n",
       "      <td>300</td>\n",
       "    </tr>\n",
       "    <tr>\n",
       "      <th>199</th>\n",
       "      <td>Car_Plate\\images\\Cars199.png</td>\n",
       "      <td>59</td>\n",
       "      <td>310</td>\n",
       "      <td>88</td>\n",
       "      <td>158</td>\n",
       "      <td>400</td>\n",
       "      <td>266</td>\n",
       "    </tr>\n",
       "  </tbody>\n",
       "</table>\n",
       "<p>345 rows × 7 columns</p>\n",
       "</div>"
      ],
      "text/plain": [
       "                         img_path  xmin  xmax  ymin  ymax  img_w  img_h\n",
       "124  Car_Plate\\images\\Cars124.png   305   320   256   267    400    267\n",
       "315  Car_Plate\\images\\Cars315.png    12   385    98   181    400    300\n",
       "282  Car_Plate\\images\\Cars282.png    37   319   145   203    350    263\n",
       "236  Car_Plate\\images\\Cars236.png   223   250   106   119    400    176\n",
       "112  Car_Plate\\images\\Cars112.png    49   164   135   191    240    400\n",
       "..                            ...   ...   ...   ...   ...    ...    ...\n",
       "110  Car_Plate\\images\\Cars110.png   286   328   133   159    400    267\n",
       "255  Car_Plate\\images\\Cars255.png   116   273   156   188    400    267\n",
       "292  Car_Plate\\images\\Cars292.png    91   137   187   208    400    267\n",
       "54    Car_Plate\\images\\Cars54.png   148   257    61   118    400    300\n",
       "199  Car_Plate\\images\\Cars199.png    59   310    88   158    400    266\n",
       "\n",
       "[345 rows x 7 columns]"
      ]
     },
     "execution_count": 20,
     "metadata": {},
     "output_type": "execute_result"
    }
   ],
   "source": [
    "train"
   ]
  },
  {
   "cell_type": "markdown",
   "id": "423f9cbd",
   "metadata": {},
   "source": [
    "# Creating data in YOLO format"
   ]
  },
  {
   "cell_type": "code",
   "execution_count": 21,
   "id": "7c7a7a82",
   "metadata": {},
   "outputs": [],
   "source": [
    "def make_split_folder_in_yolo_format(split_name, split_df):\n",
    "# folders in YOLO format\n",
    "    labels_path = os.path.join('datasets', 'cars_license_plate_new', split_name, 'labels')\n",
    "    images_path = os.path.join('datasets', 'cars_license_plate_new', split_name, 'images')\n",
    "\n",
    "    \n",
    "    os.makedirs(labels_path)\n",
    "    os.makedirs(images_path)\n",
    "    \n",
    "    \n",
    "    for _, row in split_df.iterrows():\n",
    "        img_name, img_extension = os.path.splitext(os.path.basename(row['img_path']))\n",
    "        \n",
    "        \n",
    "        x_center = (row['xmin'] + row['xmax']) / 2 / row['img_w']\n",
    "        y_center = (row['ymin'] + row['ymax']) / 2 / row['img_h']\n",
    "        width = (row['xmax'] - row['xmin']) / row['img_w']\n",
    "        height = (row['ymax'] - row['ymin']) / row['img_h']\n",
    "\n",
    "    # save lables in YOLO format\n",
    "        label_path = os.path.join(labels_path, f'{img_name}.txt')\n",
    "        with open(label_path, 'w') as file:\n",
    "            file.write(f\"0 {x_center:.4f} {y_center:.4f} {width:.4f} {height:.4f}\\n\")\n",
    "            \n",
    "        \n",
    "        shutil.copy(row['img_path'], os.path.join(images_path, img_name + img_extension))\n",
    "    \n",
    "    print(f\"Created '{images_path}' and '{labels_path}'\")"
   ]
  },
  {
   "cell_type": "code",
   "execution_count": 22,
   "id": "16f0186c",
   "metadata": {},
   "outputs": [
    {
     "name": "stdout",
     "output_type": "stream",
     "text": [
      "Created 'datasets\\cars_license_plate_new\\train\\images' and 'datasets\\cars_license_plate_new\\train\\labels'\n",
      "Created 'datasets\\cars_license_plate_new\\val\\images' and 'datasets\\cars_license_plate_new\\val\\labels'\n",
      "Created 'datasets\\cars_license_plate_new\\test\\images' and 'datasets\\cars_license_plate_new\\test\\labels'\n"
     ]
    }
   ],
   "source": [
    "make_split_folder_in_yolo_format(\"train\", train)\n",
    "make_split_folder_in_yolo_format(\"val\", val)\n",
    "make_split_folder_in_yolo_format(\"test\", test)"
   ]
  },
  {
   "cell_type": "markdown",
   "id": "4584a402",
   "metadata": {},
   "source": [
    "Object detection and bounding box"
   ]
  },
  {
   "cell_type": "code",
   "execution_count": 23,
   "id": "07dd7502",
   "metadata": {},
   "outputs": [
    {
     "data": {
      "image/png": "[encoded data removed]",
      "text/plain": [
       "<Figure size 640x480 with 1 Axes>"
      ]
     },
     "metadata": {},
     "output_type": "display_data"
    }
   ],
   "source": [
    "image_dir = 'datasets/cars_license_plate_new/train/images'\n",
    "label_dir = 'datasets/cars_license_plate_new/train/labels'\n",
    "\n",
    "image_files = sorted(os.listdir(image_dir))\n",
    "first_image_file = image_files[0]\n",
    "\n",
    "# Construct paths for image and its label\n",
    "image_path = os.path.join(image_dir, first_image_file)\n",
    "label_path = os.path.join(label_dir, os.path.splitext(first_image_file)[0] + '.txt')\n",
    "\n",
    "image = cv2.imread(image_path)\n",
    "\n",
    "# Convert img BGR to OpenCV\n",
    "image = cv2.cvtColor(image, cv2.COLOR_BGR2RGB)\n",
    "\n",
    "\n",
    "with open(label_path, 'r') as f:\n",
    "    lines = f.readlines()\n",
    "\n",
    "\n",
    "for line in lines:\n",
    "    \n",
    "    class_id, x_center, y_center, width, height = map(float, line.strip().split())\n",
    "    img_height, img_width, _ = image.shape\n",
    "\n",
    "# Convert YOLO format to bounding box format\n",
    "    x_center *= img_width\n",
    "    y_center *= img_height\n",
    "    width *= img_width\n",
    "    height *= img_height\n",
    "\n",
    "    \n",
    "    x1 = int(x_center - width / 2)\n",
    "    y1 = int(y_center - height / 2)\n",
    "    x2 = int(x_center + width / 2)\n",
    "    y2 = int(y_center + height / 2)\n",
    "\n",
    "    cv2.rectangle(image, (x1, y1), (x2, y2), (0, 255, 0), 2)\n",
    "\n",
    "\n",
    "plt.imshow(image)\n",
    "plt.axis('off')  \n",
    "plt.show()"
   ]
  },
  {
   "cell_type": "code",
   "execution_count": 24,
   "id": "b8d41b17",
   "metadata": {},
   "outputs": [],
   "source": [
    "datasets_yaml = '''\n",
    "path: cars_license_plate_new\n",
    "\n",
    "train: train/images\n",
    "val: val/images\n",
    "test: test/images\n",
    "\n",
    "# number of classes\n",
    "nc: 1\n",
    "\n",
    "# class names\n",
    "names: ['license_plate']\n",
    "'''\n",
    "\n",
    "with open('datasets.yaml', 'w') as file:\n",
    "    file.write(datasets_yaml)"
   ]
  },
  {
   "cell_type": "markdown",
   "id": "9498c756",
   "metadata": {},
   "source": [
    "# Using YOLOv8 nano model"
   ]
  },
  {
   "cell_type": "code",
   "execution_count": 25,
   "id": "7db95766",
   "metadata": {},
   "outputs": [],
   "source": [
    "from ultralytics import YOLO\n",
    "model = YOLO('yolov8n.pt')"
   ]
  },
  {
   "cell_type": "code",
   "execution_count": 26,
   "id": "4d03561a",
   "metadata": {},
   "outputs": [],
   "source": [
    "os.environ['WANDB_MODE'] = 'offline'"
   ]
  },
  {
   "cell_type": "code",
   "execution_count": 27,
   "id": "bb5106e5",
   "metadata": {},
   "outputs": [
    {
     "name": "stdout",
     "output_type": "stream",
     "text": [
      "Ultralytics YOLOv8.2.98  Python-3.11.5 torch-2.4.1+cpu CPU (Intel Core(TM) i5-8350U 1.70GHz)\n",
      "\u001b[34m\u001b[1mengine\\trainer: \u001b[0mtask=detect, mode=train, model=yolov8n.pt, data=datasets.yaml, epochs=100, time=None, patience=100, batch=16, imgsz=320, save=True, save_period=-1, cache=True, device=None, workers=8, project=None, name=train2, exist_ok=False, pretrained=True, optimizer=auto, verbose=True, seed=0, deterministic=True, single_cls=False, rect=False, cos_lr=False, close_mosaic=10, resume=False, amp=True, fraction=1.0, profile=False, freeze=None, multi_scale=False, overlap_mask=True, mask_ratio=4, dropout=0.0, val=True, split=val, save_json=False, save_hybrid=False, conf=None, iou=0.7, max_det=300, half=False, dnn=False, plots=True, source=None, vid_stride=1, stream_buffer=False, visualize=False, augment=False, agnostic_nms=False, classes=None, retina_masks=False, embed=None, show=False, save_frames=False, save_txt=False, save_conf=False, save_crop=False, show_labels=True, show_conf=True, show_boxes=True, line_width=None, format=torchscript, keras=False, optimize=False, int8=False, dynamic=False, simplify=False, opset=None, workspace=4, nms=False, lr0=0.01, lrf=0.01, momentum=0.937, weight_decay=0.0005, warmup_epochs=3.0, warmup_momentum=0.8, warmup_bias_lr=0.1, box=7.5, cls=0.5, dfl=1.5, pose=12.0, kobj=1.0, label_smoothing=0.0, nbs=64, hsv_h=0.015, hsv_s=0.7, hsv_v=0.4, degrees=0.0, translate=0.1, scale=0.5, shear=0.0, perspective=0.0, flipud=0.0, fliplr=0.5, bgr=0.0, mosaic=1.0, mixup=0.0, copy_paste=0.0, auto_augment=randaugment, erasing=0.4, crop_fraction=1.0, cfg=None, tracker=botsort.yaml, save_dir=runs\\detect\\train2\n",
      "Overriding model.yaml nc=80 with nc=1\n",
      "\n",
      "                   from  n    params  module                                       arguments                     \n",
      "  0                  -1  1       464  ultralytics.nn.modules.conv.Conv             [3, 16, 3, 2]                 \n",
      "  1                  -1  1      4672  ultralytics.nn.modules.conv.Conv             [16, 32, 3, 2]                \n",
      "  2                  -1  1      7360  ultralytics.nn.modules.block.C2f             [32, 32, 1, True]             \n",
      "  3                  -1  1     18560  ultralytics.nn.modules.conv.Conv             [32, 64, 3, 2]                \n",
      "  4                  -1  2     49664  ultralytics.nn.modules.block.C2f             [64, 64, 2, True]             \n",
      "  5                  -1  1     73984  ultralytics.nn.modules.conv.Conv             [64, 128, 3, 2]               \n",
      "  6                  -1  2    197632  ultralytics.nn.modules.block.C2f             [128, 128, 2, True]           \n",
      "  7                  -1  1    295424  ultralytics.nn.modules.conv.Conv             [128, 256, 3, 2]              \n",
      "  8                  -1  1    460288  ultralytics.nn.modules.block.C2f             [256, 256, 1, True]           \n",
      "  9                  -1  1    164608  ultralytics.nn.modules.block.SPPF            [256, 256, 5]                 \n",
      " 10                  -1  1         0  torch.nn.modules.upsampling.Upsample         [None, 2, 'nearest']          \n",
      " 11             [-1, 6]  1         0  ultralytics.nn.modules.conv.Concat           [1]                           \n",
      " 12                  -1  1    148224  ultralytics.nn.modules.block.C2f             [384, 128, 1]                 \n",
      " 13                  -1  1         0  torch.nn.modules.upsampling.Upsample         [None, 2, 'nearest']          \n",
      " 14             [-1, 4]  1         0  ultralytics.nn.modules.conv.Concat           [1]                           \n",
      " 15                  -1  1     37248  ultralytics.nn.modules.block.C2f             [192, 64, 1]                  \n",
      " 16                  -1  1     36992  ultralytics.nn.modules.conv.Conv             [64, 64, 3, 2]                \n",
      " 17            [-1, 12]  1         0  ultralytics.nn.modules.conv.Concat           [1]                           \n",
      " 18                  -1  1    123648  ultralytics.nn.modules.block.C2f             [192, 128, 1]                 \n",
      " 19                  -1  1    147712  ultralytics.nn.modules.conv.Conv             [128, 128, 3, 2]              \n",
      " 20             [-1, 9]  1         0  ultralytics.nn.modules.conv.Concat           [1]                           \n",
      " 21                  -1  1    493056  ultralytics.nn.modules.block.C2f             [384, 256, 1]                 \n",
      " 22        [15, 18, 21]  1    751507  ultralytics.nn.modules.head.Detect           [1, [64, 128, 256]]           \n",
      "Model summary: 225 layers, 3,011,043 parameters, 3,011,027 gradients, 8.2 GFLOPs\n",
      "\n",
      "Transferred 319/355 items from pretrained weights\n",
      "\u001b[34m\u001b[1mTensorBoard: \u001b[0mStart with 'tensorboard --logdir runs\\detect\\train2', view at http://localhost:6006/\n",
      "Freezing layer 'model.22.dfl.conv.weight'\n"
     ]
    },
    {
     "name": "stderr",
     "output_type": "stream",
     "text": [
      "\u001b[34m\u001b[1mtrain: \u001b[0mScanning C:\\Users\\hp\\Desktop\\Python Practice\\datasets\\cars_license_plate_new\\train\\labels... 345 images, 0 backgrounds, 0 corrupt: 100%|██████████| 345/345 [00:00<00:00, 380.87it/s]\n"
     ]
    },
    {
     "name": "stdout",
     "output_type": "stream",
     "text": [
      "\u001b[34m\u001b[1mtrain: \u001b[0mNew cache created: C:\\Users\\hp\\Desktop\\Python Practice\\datasets\\cars_license_plate_new\\train\\labels.cache\n",
      "WARNING  cache='ram' may produce non-deterministic training results. Consider cache='disk' as a deterministic alternative if your disk space allows.\n"
     ]
    },
    {
     "name": "stderr",
     "output_type": "stream",
     "text": [
      "\u001b[34m\u001b[1mtrain: \u001b[0mCaching images (0.1GB RAM): 100%|██████████| 345/345 [00:00<00:00, 430.64it/s]\n",
      "\u001b[34m\u001b[1mval: \u001b[0mScanning C:\\Users\\hp\\Desktop\\Python Practice\\datasets\\cars_license_plate_new\\val\\labels... 44 images, 0 backgrounds, 0 corrupt: 100%|██████████| 44/44 [00:00<00:00, 404.33it/s]"
     ]
    },
    {
     "name": "stdout",
     "output_type": "stream",
     "text": [
      "\u001b[34m\u001b[1mval: \u001b[0mNew cache created: C:\\Users\\hp\\Desktop\\Python Practice\\datasets\\cars_license_plate_new\\val\\labels.cache\n"
     ]
    },
    {
     "name": "stderr",
     "output_type": "stream",
     "text": [
      "\n"
     ]
    },
    {
     "name": "stdout",
     "output_type": "stream",
     "text": [
      "WARNING  cache='ram' may produce non-deterministic training results. Consider cache='disk' as a deterministic alternative if your disk space allows.\n"
     ]
    },
    {
     "name": "stderr",
     "output_type": "stream",
     "text": [
      "\u001b[34m\u001b[1mval: \u001b[0mCaching images (0.0GB RAM): 100%|██████████| 44/44 [00:00<00:00, 436.84it/s]\n"
     ]
    },
    {
     "name": "stdout",
     "output_type": "stream",
     "text": [
      "Plotting labels to runs\\detect\\train2\\labels.jpg... \n",
      "\u001b[34m\u001b[1moptimizer:\u001b[0m 'optimizer=auto' found, ignoring 'lr0=0.01' and 'momentum=0.937' and determining best 'optimizer', 'lr0' and 'momentum' automatically... \n",
      "\u001b[34m\u001b[1moptimizer:\u001b[0m AdamW(lr=0.002, momentum=0.9) with parameter groups 57 weight(decay=0.0), 64 weight(decay=0.0005), 63 bias(decay=0.0)\n",
      "\u001b[34m\u001b[1mTensorBoard: \u001b[0mmodel graph visualization added \n",
      "Image sizes 320 train, 320 val\n",
      "Using 0 dataloader workers\n",
      "Logging results to \u001b[1mruns\\detect\\train2\u001b[0m\n",
      "Starting training for 100 epochs...\n",
      "\n",
      "      Epoch    GPU_mem   box_loss   cls_loss   dfl_loss  Instances       Size\n"
     ]
    },
    {
     "name": "stderr",
     "output_type": "stream",
     "text": [
      "      1/100         0G      1.613      2.786      1.251         18        320: 100%|██████████| 22/22 [00:41<00:00,  1.89s/it]\n",
      "                 Class     Images  Instances      Box(P          R      mAP50  mAP50-95): 100%|██████████| 2/2 [00:02<00:00,  1.31s/it]"
     ]
    },
    {
     "name": "stdout",
     "output_type": "stream",
     "text": [
      "                   all         44         44    0.00368      0.955       0.42      0.168\n"
     ]
    },
    {
     "name": "stderr",
     "output_type": "stream",
     "text": [
      "\n"
     ]
    },
    {
     "name": "stdout",
     "output_type": "stream",
     "text": [
      "\n",
      "      Epoch    GPU_mem   box_loss   cls_loss   dfl_loss  Instances       Size\n"
     ]
    },
    {
     "name": "stderr",
     "output_type": "stream",
     "text": [
      "      2/100         0G      1.511      1.517      1.115         14        320: 100%|██████████| 22/22 [00:42<00:00,  1.91s/it]\n",
      "                 Class     Images  Instances      Box(P          R      mAP50  mAP50-95): 100%|██████████| 2/2 [00:01<00:00,  1.04it/s]"
     ]
    },
    {
     "name": "stdout",
     "output_type": "stream",
     "text": [
      "                   all         44         44    0.00433      0.955      0.203      0.123\n"
     ]
    },
    {
     "name": "stderr",
     "output_type": "stream",
     "text": [
      "\n"
     ]
    },
    {
     "name": "stdout",
     "output_type": "stream",
     "text": [
      "\n",
      "      Epoch    GPU_mem   box_loss   cls_loss   dfl_loss  Instances       Size\n"
     ]
    },
    {
     "name": "stderr",
     "output_type": "stream",
     "text": [
      "      3/100         0G      1.588      1.422      1.188         17        320: 100%|██████████| 22/22 [00:41<00:00,  1.87s/it]\n",
      "                 Class     Images  Instances      Box(P          R      mAP50  mAP50-95): 100%|██████████| 2/2 [00:01<00:00,  1.13it/s]"
     ]
    },
    {
     "name": "stdout",
     "output_type": "stream",
     "text": [
      "                   all         44         44       0.54      0.182      0.233      0.102\n"
     ]
    },
    {
     "name": "stderr",
     "output_type": "stream",
     "text": [
      "\n"
     ]
    },
    {
     "name": "stdout",
     "output_type": "stream",
     "text": [
      "\n",
      "      Epoch    GPU_mem   box_loss   cls_loss   dfl_loss  Instances       Size\n"
     ]
    },
    {
     "name": "stderr",
     "output_type": "stream",
     "text": [
      "      4/100         0G      1.538      1.365      1.175         21        320: 100%|██████████| 22/22 [00:39<00:00,  1.78s/it]\n",
      "                 Class     Images  Instances      Box(P          R      mAP50  mAP50-95): 100%|██████████| 2/2 [00:01<00:00,  1.19it/s]"
     ]
    },
    {
     "name": "stdout",
     "output_type": "stream",
     "text": [
      "                   all         44         44      0.526      0.318      0.371      0.182\n"
     ]
    },
    {
     "name": "stderr",
     "output_type": "stream",
     "text": [
      "\n"
     ]
    },
    {
     "name": "stdout",
     "output_type": "stream",
     "text": [
      "\n",
      "      Epoch    GPU_mem   box_loss   cls_loss   dfl_loss  Instances       Size\n"
     ]
    },
    {
     "name": "stderr",
     "output_type": "stream",
     "text": [
      "      5/100         0G      1.486      1.255      1.156         18        320: 100%|██████████| 22/22 [00:38<00:00,  1.76s/it]\n",
      "                 Class     Images  Instances      Box(P          R      mAP50  mAP50-95): 100%|██████████| 2/2 [00:01<00:00,  1.05it/s]"
     ]
    },
    {
     "name": "stdout",
     "output_type": "stream",
     "text": [
      "                   all         44         44      0.534      0.651      0.636      0.286\n"
     ]
    },
    {
     "name": "stderr",
     "output_type": "stream",
     "text": [
      "\n"
     ]
    },
    {
     "name": "stdout",
     "output_type": "stream",
     "text": [
      "\n",
      "      Epoch    GPU_mem   box_loss   cls_loss   dfl_loss  Instances       Size\n"
     ]
    },
    {
     "name": "stderr",
     "output_type": "stream",
     "text": [
      "      6/100         0G      1.504      1.188      1.137         20        320: 100%|██████████| 22/22 [00:38<00:00,  1.76s/it]\n",
      "                 Class     Images  Instances      Box(P          R      mAP50  mAP50-95): 100%|██████████| 2/2 [00:01<00:00,  1.19it/s]"
     ]
    },
    {
     "name": "stdout",
     "output_type": "stream",
     "text": [
      "                   all         44         44      0.694      0.568      0.608       0.33\n"
     ]
    },
    {
     "name": "stderr",
     "output_type": "stream",
     "text": [
      "\n"
     ]
    },
    {
     "name": "stdout",
     "output_type": "stream",
     "text": [
      "\n",
      "      Epoch    GPU_mem   box_loss   cls_loss   dfl_loss  Instances       Size\n"
     ]
    },
    {
     "name": "stderr",
     "output_type": "stream",
     "text": [
      "      7/100         0G      1.462      1.141      1.139         15        320: 100%|██████████| 22/22 [00:39<00:00,  1.78s/it]\n",
      "                 Class     Images  Instances      Box(P          R      mAP50  mAP50-95): 100%|██████████| 2/2 [00:01<00:00,  1.20it/s]"
     ]
    },
    {
     "name": "stdout",
     "output_type": "stream",
     "text": [
      "                   all         44         44      0.518      0.611      0.461      0.226\n"
     ]
    },
    {
     "name": "stderr",
     "output_type": "stream",
     "text": [
      "\n"
     ]
    },
    {
     "name": "stdout",
     "output_type": "stream",
     "text": [
      "\n",
      "      Epoch    GPU_mem   box_loss   cls_loss   dfl_loss  Instances       Size\n"
     ]
    },
    {
     "name": "stderr",
     "output_type": "stream",
     "text": [
      "      8/100         0G      1.408      1.109      1.151         22        320: 100%|██████████| 22/22 [00:38<00:00,  1.77s/it]\n",
      "                 Class     Images  Instances      Box(P          R      mAP50  mAP50-95): 100%|██████████| 2/2 [00:01<00:00,  1.12it/s]"
     ]
    },
    {
     "name": "stdout",
     "output_type": "stream",
     "text": [
      "                   all         44         44      0.714      0.568      0.631      0.292\n"
     ]
    },
    {
     "name": "stderr",
     "output_type": "stream",
     "text": [
      "\n"
     ]
    },
    {
     "name": "stdout",
     "output_type": "stream",
     "text": [
      "\n",
      "      Epoch    GPU_mem   box_loss   cls_loss   dfl_loss  Instances       Size\n"
     ]
    },
    {
     "name": "stderr",
     "output_type": "stream",
     "text": [
      "      9/100         0G      1.392      1.053      1.124         11        320: 100%|██████████| 22/22 [00:39<00:00,  1.78s/it]\n",
      "                 Class     Images  Instances      Box(P          R      mAP50  mAP50-95): 100%|██████████| 2/2 [00:01<00:00,  1.17it/s]"
     ]
    },
    {
     "name": "stdout",
     "output_type": "stream",
     "text": [
      "                   all         44         44      0.822      0.795      0.793      0.357\n"
     ]
    },
    {
     "name": "stderr",
     "output_type": "stream",
     "text": [
      "\n"
     ]
    },
    {
     "name": "stdout",
     "output_type": "stream",
     "text": [
      "\n",
      "      Epoch    GPU_mem   box_loss   cls_loss   dfl_loss  Instances       Size\n"
     ]
    },
    {
     "name": "stderr",
     "output_type": "stream",
     "text": [
      "     10/100         0G      1.434      1.056      1.117         20        320: 100%|██████████| 22/22 [00:39<00:00,  1.77s/it]\n",
      "                 Class     Images  Instances      Box(P          R      mAP50  mAP50-95): 100%|██████████| 2/2 [00:01<00:00,  1.07it/s]"
     ]
    },
    {
     "name": "stdout",
     "output_type": "stream",
     "text": [
      "                   all         44         44       0.91       0.75      0.845       0.39\n"
     ]
    },
    {
     "name": "stderr",
     "output_type": "stream",
     "text": [
      "\n"
     ]
    },
    {
     "name": "stdout",
     "output_type": "stream",
     "text": [
      "\n",
      "      Epoch    GPU_mem   box_loss   cls_loss   dfl_loss  Instances       Size\n"
     ]
    },
    {
     "name": "stderr",
     "output_type": "stream",
     "text": [
      "     11/100         0G      1.359     0.9731      1.103         26        320: 100%|██████████| 22/22 [00:39<00:00,  1.78s/it]\n",
      "                 Class     Images  Instances      Box(P          R      mAP50  mAP50-95): 100%|██████████| 2/2 [00:01<00:00,  1.20it/s]"
     ]
    },
    {
     "name": "stdout",
     "output_type": "stream",
     "text": [
      "                   all         44         44      0.855      0.864      0.878      0.404\n"
     ]
    },
    {
     "name": "stderr",
     "output_type": "stream",
     "text": [
      "\n"
     ]
    },
    {
     "name": "stdout",
     "output_type": "stream",
     "text": [
      "\n",
      "      Epoch    GPU_mem   box_loss   cls_loss   dfl_loss  Instances       Size\n"
     ]
    },
    {
     "name": "stderr",
     "output_type": "stream",
     "text": [
      "     12/100         0G      1.354     0.9369      1.068         24        320: 100%|██████████| 22/22 [00:39<00:00,  1.79s/it]\n",
      "                 Class     Images  Instances      Box(P          R      mAP50  mAP50-95): 100%|██████████| 2/2 [00:01<00:00,  1.19it/s]"
     ]
    },
    {
     "name": "stdout",
     "output_type": "stream",
     "text": [
      "                   all         44         44      0.854      0.797      0.895      0.432\n"
     ]
    },
    {
     "name": "stderr",
     "output_type": "stream",
     "text": [
      "\n"
     ]
    },
    {
     "name": "stdout",
     "output_type": "stream",
     "text": [
      "\n",
      "      Epoch    GPU_mem   box_loss   cls_loss   dfl_loss  Instances       Size\n"
     ]
    },
    {
     "name": "stderr",
     "output_type": "stream",
     "text": [
      "     13/100         0G      1.318     0.9173      1.081         22        320: 100%|██████████| 22/22 [00:38<00:00,  1.77s/it]\n",
      "                 Class     Images  Instances      Box(P          R      mAP50  mAP50-95): 100%|██████████| 2/2 [00:01<00:00,  1.06it/s]"
     ]
    },
    {
     "name": "stdout",
     "output_type": "stream",
     "text": [
      "                   all         44         44      0.886      0.885      0.917      0.457\n"
     ]
    },
    {
     "name": "stderr",
     "output_type": "stream",
     "text": [
      "\n"
     ]
    },
    {
     "name": "stdout",
     "output_type": "stream",
     "text": [
      "\n",
      "      Epoch    GPU_mem   box_loss   cls_loss   dfl_loss  Instances       Size\n"
     ]
    },
    {
     "name": "stderr",
     "output_type": "stream",
     "text": [
      "     14/100         0G      1.285     0.8886       1.06         18        320: 100%|██████████| 22/22 [00:39<00:00,  1.78s/it]\n",
      "                 Class     Images  Instances      Box(P          R      mAP50  mAP50-95): 100%|██████████| 2/2 [00:01<00:00,  1.21it/s]"
     ]
    },
    {
     "name": "stdout",
     "output_type": "stream",
     "text": [
      "                   all         44         44       0.87       0.75       0.87      0.461\n"
     ]
    },
    {
     "name": "stderr",
     "output_type": "stream",
     "text": [
      "\n"
     ]
    },
    {
     "name": "stdout",
     "output_type": "stream",
     "text": [
      "\n",
      "      Epoch    GPU_mem   box_loss   cls_loss   dfl_loss  Instances       Size\n"
     ]
    },
    {
     "name": "stderr",
     "output_type": "stream",
     "text": [
      "     15/100         0G      1.305     0.8716      1.083         14        320: 100%|██████████| 22/22 [00:39<00:00,  1.79s/it]\n",
      "                 Class     Images  Instances      Box(P          R      mAP50  mAP50-95): 100%|██████████| 2/2 [00:01<00:00,  1.08it/s]"
     ]
    },
    {
     "name": "stdout",
     "output_type": "stream",
     "text": [
      "                   all         44         44      0.814      0.795      0.818      0.384\n"
     ]
    },
    {
     "name": "stderr",
     "output_type": "stream",
     "text": [
      "\n"
     ]
    },
    {
     "name": "stdout",
     "output_type": "stream",
     "text": [
      "\n",
      "      Epoch    GPU_mem   box_loss   cls_loss   dfl_loss  Instances       Size\n"
     ]
    },
    {
     "name": "stderr",
     "output_type": "stream",
     "text": [
      "     16/100         0G      1.303     0.8811      1.089         12        320: 100%|██████████| 22/22 [00:39<00:00,  1.78s/it]\n",
      "                 Class     Images  Instances      Box(P          R      mAP50  mAP50-95): 100%|██████████| 2/2 [00:01<00:00,  1.22it/s]"
     ]
    },
    {
     "name": "stdout",
     "output_type": "stream",
     "text": [
      "                   all         44         44      0.974      0.856      0.881      0.444\n"
     ]
    },
    {
     "name": "stderr",
     "output_type": "stream",
     "text": [
      "\n"
     ]
    },
    {
     "name": "stdout",
     "output_type": "stream",
     "text": [
      "\n",
      "      Epoch    GPU_mem   box_loss   cls_loss   dfl_loss  Instances       Size\n"
     ]
    },
    {
     "name": "stderr",
     "output_type": "stream",
     "text": [
      "     17/100         0G      1.289     0.8545      1.061         13        320: 100%|██████████| 22/22 [00:39<00:00,  1.79s/it]\n",
      "                 Class     Images  Instances      Box(P          R      mAP50  mAP50-95): 100%|██████████| 2/2 [00:01<00:00,  1.06it/s]"
     ]
    },
    {
     "name": "stdout",
     "output_type": "stream",
     "text": [
      "                   all         44         44      0.843      0.853      0.847      0.461\n"
     ]
    },
    {
     "name": "stderr",
     "output_type": "stream",
     "text": [
      "\n"
     ]
    },
    {
     "name": "stdout",
     "output_type": "stream",
     "text": [
      "\n",
      "      Epoch    GPU_mem   box_loss   cls_loss   dfl_loss  Instances       Size\n"
     ]
    },
    {
     "name": "stderr",
     "output_type": "stream",
     "text": [
      "     18/100         0G      1.259     0.8484      1.057         15        320: 100%|██████████| 22/22 [00:38<00:00,  1.74s/it]\n",
      "                 Class     Images  Instances      Box(P          R      mAP50  mAP50-95): 100%|██████████| 2/2 [00:01<00:00,  1.12it/s]"
     ]
    },
    {
     "name": "stdout",
     "output_type": "stream",
     "text": [
      "                   all         44         44      0.823      0.848       0.85      0.466\n"
     ]
    },
    {
     "name": "stderr",
     "output_type": "stream",
     "text": [
      "\n"
     ]
    },
    {
     "name": "stdout",
     "output_type": "stream",
     "text": [
      "\n",
      "      Epoch    GPU_mem   box_loss   cls_loss   dfl_loss  Instances       Size\n"
     ]
    },
    {
     "name": "stderr",
     "output_type": "stream",
     "text": [
      "     19/100         0G      1.223      0.813      1.065         17        320: 100%|██████████| 22/22 [00:37<00:00,  1.71s/it]\n",
      "                 Class     Images  Instances      Box(P          R      mAP50  mAP50-95): 100%|██████████| 2/2 [00:01<00:00,  1.27it/s]"
     ]
    },
    {
     "name": "stdout",
     "output_type": "stream",
     "text": [
      "                   all         44         44        0.8      0.816       0.82      0.433\n"
     ]
    },
    {
     "name": "stderr",
     "output_type": "stream",
     "text": [
      "\n"
     ]
    },
    {
     "name": "stdout",
     "output_type": "stream",
     "text": [
      "\n",
      "      Epoch    GPU_mem   box_loss   cls_loss   dfl_loss  Instances       Size\n"
     ]
    },
    {
     "name": "stderr",
     "output_type": "stream",
     "text": [
      "     20/100         0G      1.238     0.7896      1.066         14        320: 100%|██████████| 22/22 [00:37<00:00,  1.71s/it]\n",
      "                 Class     Images  Instances      Box(P          R      mAP50  mAP50-95): 100%|██████████| 2/2 [00:01<00:00,  1.11it/s]"
     ]
    },
    {
     "name": "stdout",
     "output_type": "stream",
     "text": [
      "                   all         44         44      0.822      0.864      0.825      0.399\n"
     ]
    },
    {
     "name": "stderr",
     "output_type": "stream",
     "text": [
      "\n"
     ]
    },
    {
     "name": "stdout",
     "output_type": "stream",
     "text": [
      "\n",
      "      Epoch    GPU_mem   box_loss   cls_loss   dfl_loss  Instances       Size\n"
     ]
    },
    {
     "name": "stderr",
     "output_type": "stream",
     "text": [
      "     21/100         0G       1.24     0.7894      1.034         22        320: 100%|██████████| 22/22 [00:37<00:00,  1.71s/it]\n",
      "                 Class     Images  Instances      Box(P          R      mAP50  mAP50-95): 100%|██████████| 2/2 [00:01<00:00,  1.26it/s]"
     ]
    },
    {
     "name": "stdout",
     "output_type": "stream",
     "text": [
      "                   all         44         44      0.834      0.932      0.925      0.443\n"
     ]
    },
    {
     "name": "stderr",
     "output_type": "stream",
     "text": [
      "\n"
     ]
    },
    {
     "name": "stdout",
     "output_type": "stream",
     "text": [
      "\n",
      "      Epoch    GPU_mem   box_loss   cls_loss   dfl_loss  Instances       Size\n"
     ]
    },
    {
     "name": "stderr",
     "output_type": "stream",
     "text": [
      "     22/100         0G      1.196     0.7769      1.049         11        320: 100%|██████████| 22/22 [00:37<00:00,  1.72s/it]\n",
      "                 Class     Images  Instances      Box(P          R      mAP50  mAP50-95): 100%|██████████| 2/2 [00:01<00:00,  1.11it/s]"
     ]
    },
    {
     "name": "stdout",
     "output_type": "stream",
     "text": [
      "                   all         44         44      0.881      0.843      0.908       0.44\n"
     ]
    },
    {
     "name": "stderr",
     "output_type": "stream",
     "text": [
      "\n"
     ]
    },
    {
     "name": "stdout",
     "output_type": "stream",
     "text": [
      "\n",
      "      Epoch    GPU_mem   box_loss   cls_loss   dfl_loss  Instances       Size\n"
     ]
    },
    {
     "name": "stderr",
     "output_type": "stream",
     "text": [
      "     23/100         0G      1.284     0.7824      1.078         21        320: 100%|██████████| 22/22 [00:37<00:00,  1.71s/it]\n",
      "                 Class     Images  Instances      Box(P          R      mAP50  mAP50-95): 100%|██████████| 2/2 [00:01<00:00,  1.27it/s]"
     ]
    },
    {
     "name": "stdout",
     "output_type": "stream",
     "text": [
      "                   all         44         44      0.961      0.795        0.9      0.446\n"
     ]
    },
    {
     "name": "stderr",
     "output_type": "stream",
     "text": [
      "\n"
     ]
    },
    {
     "name": "stdout",
     "output_type": "stream",
     "text": [
      "\n",
      "      Epoch    GPU_mem   box_loss   cls_loss   dfl_loss  Instances       Size\n"
     ]
    },
    {
     "name": "stderr",
     "output_type": "stream",
     "text": [
      "     24/100         0G      1.166     0.7529      1.065         17        320: 100%|██████████| 22/22 [00:37<00:00,  1.72s/it]\n",
      "                 Class     Images  Instances      Box(P          R      mAP50  mAP50-95): 100%|██████████| 2/2 [00:01<00:00,  1.11it/s]"
     ]
    },
    {
     "name": "stdout",
     "output_type": "stream",
     "text": [
      "                   all         44         44      0.863      0.863       0.89      0.487\n"
     ]
    },
    {
     "name": "stderr",
     "output_type": "stream",
     "text": [
      "\n"
     ]
    },
    {
     "name": "stdout",
     "output_type": "stream",
     "text": [
      "\n",
      "      Epoch    GPU_mem   box_loss   cls_loss   dfl_loss  Instances       Size\n"
     ]
    },
    {
     "name": "stderr",
     "output_type": "stream",
     "text": [
      "     25/100         0G      1.207     0.7705      1.052         17        320: 100%|██████████| 22/22 [00:37<00:00,  1.70s/it]\n",
      "                 Class     Images  Instances      Box(P          R      mAP50  mAP50-95): 100%|██████████| 2/2 [00:01<00:00,  1.26it/s]"
     ]
    },
    {
     "name": "stdout",
     "output_type": "stream",
     "text": [
      "                   all         44         44      0.838      0.864       0.88      0.428\n"
     ]
    },
    {
     "name": "stderr",
     "output_type": "stream",
     "text": [
      "\n"
     ]
    },
    {
     "name": "stdout",
     "output_type": "stream",
     "text": [
      "\n",
      "      Epoch    GPU_mem   box_loss   cls_loss   dfl_loss  Instances       Size\n"
     ]
    },
    {
     "name": "stderr",
     "output_type": "stream",
     "text": [
      "     26/100         0G      1.193     0.7633      1.035         19        320: 100%|██████████| 22/22 [00:37<00:00,  1.71s/it]\n",
      "                 Class     Images  Instances      Box(P          R      mAP50  mAP50-95): 100%|██████████| 2/2 [00:01<00:00,  1.13it/s]"
     ]
    },
    {
     "name": "stdout",
     "output_type": "stream",
     "text": [
      "                   all         44         44      0.796      0.909      0.879      0.455\n"
     ]
    },
    {
     "name": "stderr",
     "output_type": "stream",
     "text": [
      "\n"
     ]
    },
    {
     "name": "stdout",
     "output_type": "stream",
     "text": [
      "\n",
      "      Epoch    GPU_mem   box_loss   cls_loss   dfl_loss  Instances       Size\n"
     ]
    },
    {
     "name": "stderr",
     "output_type": "stream",
     "text": [
      "     27/100         0G      1.119     0.7392      1.006         13        320: 100%|██████████| 22/22 [00:37<00:00,  1.70s/it]\n",
      "                 Class     Images  Instances      Box(P          R      mAP50  mAP50-95): 100%|██████████| 2/2 [00:01<00:00,  1.26it/s]"
     ]
    },
    {
     "name": "stdout",
     "output_type": "stream",
     "text": [
      "                   all         44         44      0.832      0.864      0.848      0.448\n"
     ]
    },
    {
     "name": "stderr",
     "output_type": "stream",
     "text": [
      "\n"
     ]
    },
    {
     "name": "stdout",
     "output_type": "stream",
     "text": [
      "\n",
      "      Epoch    GPU_mem   box_loss   cls_loss   dfl_loss  Instances       Size\n"
     ]
    },
    {
     "name": "stderr",
     "output_type": "stream",
     "text": [
      "     28/100         0G      1.152     0.7606      1.015         16        320: 100%|██████████| 22/22 [00:37<00:00,  1.72s/it]\n",
      "                 Class     Images  Instances      Box(P          R      mAP50  mAP50-95): 100%|██████████| 2/2 [00:01<00:00,  1.12it/s]"
     ]
    },
    {
     "name": "stdout",
     "output_type": "stream",
     "text": [
      "                   all         44         44       0.88      0.886      0.899      0.469\n"
     ]
    },
    {
     "name": "stderr",
     "output_type": "stream",
     "text": [
      "\n"
     ]
    },
    {
     "name": "stdout",
     "output_type": "stream",
     "text": [
      "\n",
      "      Epoch    GPU_mem   box_loss   cls_loss   dfl_loss  Instances       Size\n"
     ]
    },
    {
     "name": "stderr",
     "output_type": "stream",
     "text": [
      "     29/100         0G      1.116     0.7133     0.9989         23        320: 100%|██████████| 22/22 [00:37<00:00,  1.70s/it]\n",
      "                 Class     Images  Instances      Box(P          R      mAP50  mAP50-95): 100%|██████████| 2/2 [00:01<00:00,  1.27it/s]"
     ]
    },
    {
     "name": "stdout",
     "output_type": "stream",
     "text": [
      "                   all         44         44      0.825      0.886      0.884       0.49\n"
     ]
    },
    {
     "name": "stderr",
     "output_type": "stream",
     "text": [
      "\n"
     ]
    },
    {
     "name": "stdout",
     "output_type": "stream",
     "text": [
      "\n",
      "      Epoch    GPU_mem   box_loss   cls_loss   dfl_loss  Instances       Size\n"
     ]
    },
    {
     "name": "stderr",
     "output_type": "stream",
     "text": [
      "     30/100         0G      1.122     0.7348      1.017          9        320: 100%|██████████| 22/22 [00:37<00:00,  1.72s/it]\n",
      "                 Class     Images  Instances      Box(P          R      mAP50  mAP50-95): 100%|██████████| 2/2 [00:01<00:00,  1.12it/s]"
     ]
    },
    {
     "name": "stdout",
     "output_type": "stream",
     "text": [
      "                   all         44         44      0.864      0.864      0.837      0.442\n"
     ]
    },
    {
     "name": "stderr",
     "output_type": "stream",
     "text": [
      "\n"
     ]
    },
    {
     "name": "stdout",
     "output_type": "stream",
     "text": [
      "\n",
      "      Epoch    GPU_mem   box_loss   cls_loss   dfl_loss  Instances       Size\n"
     ]
    },
    {
     "name": "stderr",
     "output_type": "stream",
     "text": [
      "     31/100         0G      1.153     0.7359      1.015         18        320: 100%|██████████| 22/22 [00:37<00:00,  1.70s/it]\n",
      "                 Class     Images  Instances      Box(P          R      mAP50  mAP50-95): 100%|██████████| 2/2 [00:01<00:00,  1.26it/s]"
     ]
    },
    {
     "name": "stdout",
     "output_type": "stream",
     "text": [
      "                   all         44         44      0.861      0.705      0.847      0.466\n"
     ]
    },
    {
     "name": "stderr",
     "output_type": "stream",
     "text": [
      "\n"
     ]
    },
    {
     "name": "stdout",
     "output_type": "stream",
     "text": [
      "\n",
      "      Epoch    GPU_mem   box_loss   cls_loss   dfl_loss  Instances       Size\n"
     ]
    },
    {
     "name": "stderr",
     "output_type": "stream",
     "text": [
      "     32/100         0G      1.148      0.703      1.015         15        320: 100%|██████████| 22/22 [00:37<00:00,  1.71s/it]\n",
      "                 Class     Images  Instances      Box(P          R      mAP50  mAP50-95): 100%|██████████| 2/2 [00:01<00:00,  1.12it/s]"
     ]
    },
    {
     "name": "stdout",
     "output_type": "stream",
     "text": [
      "                   all         44         44       0.85      0.905        0.9      0.473\n"
     ]
    },
    {
     "name": "stderr",
     "output_type": "stream",
     "text": [
      "\n"
     ]
    },
    {
     "name": "stdout",
     "output_type": "stream",
     "text": [
      "\n",
      "      Epoch    GPU_mem   box_loss   cls_loss   dfl_loss  Instances       Size\n"
     ]
    },
    {
     "name": "stderr",
     "output_type": "stream",
     "text": [
      "     33/100         0G      1.081     0.6916       0.99         22        320: 100%|██████████| 22/22 [00:37<00:00,  1.70s/it]\n",
      "                 Class     Images  Instances      Box(P          R      mAP50  mAP50-95): 100%|██████████| 2/2 [00:01<00:00,  1.27it/s]"
     ]
    },
    {
     "name": "stdout",
     "output_type": "stream",
     "text": [
      "                   all         44         44      0.923      0.819      0.919      0.492\n"
     ]
    },
    {
     "name": "stderr",
     "output_type": "stream",
     "text": [
      "\n"
     ]
    },
    {
     "name": "stdout",
     "output_type": "stream",
     "text": [
      "\n",
      "      Epoch    GPU_mem   box_loss   cls_loss   dfl_loss  Instances       Size\n"
     ]
    },
    {
     "name": "stderr",
     "output_type": "stream",
     "text": [
      "     34/100         0G      1.053     0.6562     0.9869         17        320: 100%|██████████| 22/22 [00:37<00:00,  1.72s/it]\n",
      "                 Class     Images  Instances      Box(P          R      mAP50  mAP50-95): 100%|██████████| 2/2 [00:01<00:00,  1.12it/s]"
     ]
    },
    {
     "name": "stdout",
     "output_type": "stream",
     "text": [
      "                   all         44         44      0.862      0.886      0.922      0.472\n"
     ]
    },
    {
     "name": "stderr",
     "output_type": "stream",
     "text": [
      "\n"
     ]
    },
    {
     "name": "stdout",
     "output_type": "stream",
     "text": [
      "\n",
      "      Epoch    GPU_mem   box_loss   cls_loss   dfl_loss  Instances       Size\n"
     ]
    },
    {
     "name": "stderr",
     "output_type": "stream",
     "text": [
      "     35/100         0G      1.062     0.6852     0.9731         15        320: 100%|██████████| 22/22 [00:37<00:00,  1.70s/it]\n",
      "                 Class     Images  Instances      Box(P          R      mAP50  mAP50-95): 100%|██████████| 2/2 [00:01<00:00,  1.28it/s]"
     ]
    },
    {
     "name": "stdout",
     "output_type": "stream",
     "text": [
      "                   all         44         44      0.871      0.818       0.89       0.46\n"
     ]
    },
    {
     "name": "stderr",
     "output_type": "stream",
     "text": [
      "\n"
     ]
    },
    {
     "name": "stdout",
     "output_type": "stream",
     "text": [
      "\n",
      "      Epoch    GPU_mem   box_loss   cls_loss   dfl_loss  Instances       Size\n"
     ]
    },
    {
     "name": "stderr",
     "output_type": "stream",
     "text": [
      "     36/100         0G      1.081     0.6585     0.9845         11        320: 100%|██████████| 22/22 [00:38<00:00,  1.73s/it]\n",
      "                 Class     Images  Instances      Box(P          R      mAP50  mAP50-95): 100%|██████████| 2/2 [00:01<00:00,  1.12it/s]"
     ]
    },
    {
     "name": "stdout",
     "output_type": "stream",
     "text": [
      "                   all         44         44      0.805      0.886      0.897      0.465\n"
     ]
    },
    {
     "name": "stderr",
     "output_type": "stream",
     "text": [
      "\n"
     ]
    },
    {
     "name": "stdout",
     "output_type": "stream",
     "text": [
      "\n",
      "      Epoch    GPU_mem   box_loss   cls_loss   dfl_loss  Instances       Size\n"
     ]
    },
    {
     "name": "stderr",
     "output_type": "stream",
     "text": [
      "     37/100         0G      1.062     0.6744     0.9954         18        320: 100%|██████████| 22/22 [00:37<00:00,  1.71s/it]\n",
      "                 Class     Images  Instances      Box(P          R      mAP50  mAP50-95): 100%|██████████| 2/2 [00:01<00:00,  1.27it/s]"
     ]
    },
    {
     "name": "stdout",
     "output_type": "stream",
     "text": [
      "                   all         44         44      0.912      0.841      0.915      0.474\n"
     ]
    },
    {
     "name": "stderr",
     "output_type": "stream",
     "text": [
      "\n"
     ]
    },
    {
     "name": "stdout",
     "output_type": "stream",
     "text": [
      "\n",
      "      Epoch    GPU_mem   box_loss   cls_loss   dfl_loss  Instances       Size\n"
     ]
    },
    {
     "name": "stderr",
     "output_type": "stream",
     "text": [
      "     38/100         0G      1.051     0.6543     0.9876         16        320: 100%|██████████| 22/22 [00:39<00:00,  1.77s/it]\n",
      "                 Class     Images  Instances      Box(P          R      mAP50  mAP50-95): 100%|██████████| 2/2 [00:01<00:00,  1.27it/s]"
     ]
    },
    {
     "name": "stdout",
     "output_type": "stream",
     "text": [
      "                   all         44         44       0.86      0.864       0.87       0.49\n"
     ]
    },
    {
     "name": "stderr",
     "output_type": "stream",
     "text": [
      "\n"
     ]
    },
    {
     "name": "stdout",
     "output_type": "stream",
     "text": [
      "\n",
      "      Epoch    GPU_mem   box_loss   cls_loss   dfl_loss  Instances       Size\n"
     ]
    },
    {
     "name": "stderr",
     "output_type": "stream",
     "text": [
      "     39/100         0G       1.03     0.6462     0.9598         20        320: 100%|██████████| 22/22 [00:37<00:00,  1.72s/it]\n",
      "                 Class     Images  Instances      Box(P          R      mAP50  mAP50-95): 100%|██████████| 2/2 [00:01<00:00,  1.27it/s]"
     ]
    },
    {
     "name": "stdout",
     "output_type": "stream",
     "text": [
      "                   all         44         44      0.844      0.886      0.874      0.481\n"
     ]
    },
    {
     "name": "stderr",
     "output_type": "stream",
     "text": [
      "\n"
     ]
    },
    {
     "name": "stdout",
     "output_type": "stream",
     "text": [
      "\n",
      "      Epoch    GPU_mem   box_loss   cls_loss   dfl_loss  Instances       Size\n"
     ]
    },
    {
     "name": "stderr",
     "output_type": "stream",
     "text": [
      "     40/100         0G     0.9907     0.6335      0.981         17        320: 100%|██████████| 22/22 [00:38<00:00,  1.76s/it]\n",
      "                 Class     Images  Instances      Box(P          R      mAP50  mAP50-95): 100%|██████████| 2/2 [00:01<00:00,  1.27it/s]"
     ]
    },
    {
     "name": "stdout",
     "output_type": "stream",
     "text": [
      "                   all         44         44      0.828      0.872      0.854      0.482\n"
     ]
    },
    {
     "name": "stderr",
     "output_type": "stream",
     "text": [
      "\n"
     ]
    },
    {
     "name": "stdout",
     "output_type": "stream",
     "text": [
      "\n",
      "      Epoch    GPU_mem   box_loss   cls_loss   dfl_loss  Instances       Size\n"
     ]
    },
    {
     "name": "stderr",
     "output_type": "stream",
     "text": [
      "     41/100         0G      1.039     0.6372     0.9836         15        320: 100%|██████████| 22/22 [00:37<00:00,  1.70s/it]\n",
      "                 Class     Images  Instances      Box(P          R      mAP50  mAP50-95): 100%|██████████| 2/2 [00:01<00:00,  1.27it/s]"
     ]
    },
    {
     "name": "stdout",
     "output_type": "stream",
     "text": [
      "                   all         44         44      0.939      0.841      0.907      0.506\n"
     ]
    },
    {
     "name": "stderr",
     "output_type": "stream",
     "text": [
      "\n"
     ]
    },
    {
     "name": "stdout",
     "output_type": "stream",
     "text": [
      "\n",
      "      Epoch    GPU_mem   box_loss   cls_loss   dfl_loss  Instances       Size\n"
     ]
    },
    {
     "name": "stderr",
     "output_type": "stream",
     "text": [
      "     42/100         0G     0.9935     0.6068     0.9727         20        320: 100%|██████████| 22/22 [00:38<00:00,  1.73s/it]\n",
      "                 Class     Images  Instances      Box(P          R      mAP50  mAP50-95): 100%|██████████| 2/2 [00:01<00:00,  1.27it/s]"
     ]
    },
    {
     "name": "stdout",
     "output_type": "stream",
     "text": [
      "                   all         44         44      0.854      0.841      0.862      0.475\n"
     ]
    },
    {
     "name": "stderr",
     "output_type": "stream",
     "text": [
      "\n"
     ]
    },
    {
     "name": "stdout",
     "output_type": "stream",
     "text": [
      "\n",
      "      Epoch    GPU_mem   box_loss   cls_loss   dfl_loss  Instances       Size\n"
     ]
    },
    {
     "name": "stderr",
     "output_type": "stream",
     "text": [
      "     43/100         0G      1.014     0.6107     0.9804         15        320: 100%|██████████| 22/22 [00:37<00:00,  1.70s/it]\n",
      "                 Class     Images  Instances      Box(P          R      mAP50  mAP50-95): 100%|██████████| 2/2 [00:01<00:00,  1.23it/s]"
     ]
    },
    {
     "name": "stdout",
     "output_type": "stream",
     "text": [
      "                   all         44         44      0.916      0.818      0.854      0.485\n"
     ]
    },
    {
     "name": "stderr",
     "output_type": "stream",
     "text": [
      "\n"
     ]
    },
    {
     "name": "stdout",
     "output_type": "stream",
     "text": [
      "\n",
      "      Epoch    GPU_mem   box_loss   cls_loss   dfl_loss  Instances       Size\n"
     ]
    },
    {
     "name": "stderr",
     "output_type": "stream",
     "text": [
      "     44/100         0G      0.972     0.6038      0.964         17        320: 100%|██████████| 22/22 [00:37<00:00,  1.73s/it]\n",
      "                 Class     Images  Instances      Box(P          R      mAP50  mAP50-95): 100%|██████████| 2/2 [00:01<00:00,  1.27it/s]"
     ]
    },
    {
     "name": "stdout",
     "output_type": "stream",
     "text": [
      "                   all         44         44      0.856      0.813      0.858      0.487\n"
     ]
    },
    {
     "name": "stderr",
     "output_type": "stream",
     "text": [
      "\n"
     ]
    },
    {
     "name": "stdout",
     "output_type": "stream",
     "text": [
      "\n",
      "      Epoch    GPU_mem   box_loss   cls_loss   dfl_loss  Instances       Size\n"
     ]
    },
    {
     "name": "stderr",
     "output_type": "stream",
     "text": [
      "     45/100         0G      1.005     0.5997     0.9545         16        320: 100%|██████████| 22/22 [00:37<00:00,  1.71s/it]\n",
      "                 Class     Images  Instances      Box(P          R      mAP50  mAP50-95): 100%|██████████| 2/2 [00:01<00:00,  1.17it/s]"
     ]
    },
    {
     "name": "stdout",
     "output_type": "stream",
     "text": [
      "                   all         44         44       0.86      0.864      0.866      0.498\n"
     ]
    },
    {
     "name": "stderr",
     "output_type": "stream",
     "text": [
      "\n"
     ]
    },
    {
     "name": "stdout",
     "output_type": "stream",
     "text": [
      "\n",
      "      Epoch    GPU_mem   box_loss   cls_loss   dfl_loss  Instances       Size\n"
     ]
    },
    {
     "name": "stderr",
     "output_type": "stream",
     "text": [
      "     46/100         0G     0.9983     0.6068      0.971         21        320: 100%|██████████| 22/22 [00:37<00:00,  1.72s/it]\n",
      "                 Class     Images  Instances      Box(P          R      mAP50  mAP50-95): 100%|██████████| 2/2 [00:01<00:00,  1.28it/s]"
     ]
    },
    {
     "name": "stdout",
     "output_type": "stream",
     "text": [
      "                   all         44         44      0.926      0.886      0.883      0.503\n"
     ]
    },
    {
     "name": "stderr",
     "output_type": "stream",
     "text": [
      "\n"
     ]
    },
    {
     "name": "stdout",
     "output_type": "stream",
     "text": [
      "\n",
      "      Epoch    GPU_mem   box_loss   cls_loss   dfl_loss  Instances       Size\n"
     ]
    },
    {
     "name": "stderr",
     "output_type": "stream",
     "text": [
      "     47/100         0G      0.979      0.604     0.9692         14        320: 100%|██████████| 22/22 [00:37<00:00,  1.70s/it]\n",
      "                 Class     Images  Instances      Box(P          R      mAP50  mAP50-95): 100%|██████████| 2/2 [00:01<00:00,  1.16it/s]"
     ]
    },
    {
     "name": "stdout",
     "output_type": "stream",
     "text": [
      "                   all         44         44      0.866      0.841      0.852      0.488\n"
     ]
    },
    {
     "name": "stderr",
     "output_type": "stream",
     "text": [
      "\n"
     ]
    },
    {
     "name": "stdout",
     "output_type": "stream",
     "text": [
      "\n",
      "      Epoch    GPU_mem   box_loss   cls_loss   dfl_loss  Instances       Size\n"
     ]
    },
    {
     "name": "stderr",
     "output_type": "stream",
     "text": [
      "     48/100         0G     0.9965     0.6101     0.9625         16        320: 100%|██████████| 22/22 [00:37<00:00,  1.72s/it]\n",
      "                 Class     Images  Instances      Box(P          R      mAP50  mAP50-95): 100%|██████████| 2/2 [00:01<00:00,  1.26it/s]"
     ]
    },
    {
     "name": "stdout",
     "output_type": "stream",
     "text": [
      "                   all         44         44      0.865      0.886       0.87      0.498\n"
     ]
    },
    {
     "name": "stderr",
     "output_type": "stream",
     "text": [
      "\n"
     ]
    },
    {
     "name": "stdout",
     "output_type": "stream",
     "text": [
      "\n",
      "      Epoch    GPU_mem   box_loss   cls_loss   dfl_loss  Instances       Size\n"
     ]
    },
    {
     "name": "stderr",
     "output_type": "stream",
     "text": [
      "     49/100         0G     0.9308     0.5899     0.9532         22        320: 100%|██████████| 22/22 [00:37<00:00,  1.70s/it]\n",
      "                 Class     Images  Instances      Box(P          R      mAP50  mAP50-95): 100%|██████████| 2/2 [00:01<00:00,  1.09it/s]"
     ]
    },
    {
     "name": "stdout",
     "output_type": "stream",
     "text": [
      "                   all         44         44      0.882      0.847       0.88       0.51\n"
     ]
    },
    {
     "name": "stderr",
     "output_type": "stream",
     "text": [
      "\n"
     ]
    },
    {
     "name": "stdout",
     "output_type": "stream",
     "text": [
      "\n",
      "      Epoch    GPU_mem   box_loss   cls_loss   dfl_loss  Instances       Size\n"
     ]
    },
    {
     "name": "stderr",
     "output_type": "stream",
     "text": [
      "     50/100         0G     0.9821     0.5922     0.9596         14        320: 100%|██████████| 22/22 [00:37<00:00,  1.71s/it]\n",
      "                 Class     Images  Instances      Box(P          R      mAP50  mAP50-95): 100%|██████████| 2/2 [00:01<00:00,  1.27it/s]"
     ]
    },
    {
     "name": "stdout",
     "output_type": "stream",
     "text": [
      "                   all         44         44        0.9      0.864      0.904      0.499\n"
     ]
    },
    {
     "name": "stderr",
     "output_type": "stream",
     "text": [
      "\n"
     ]
    },
    {
     "name": "stdout",
     "output_type": "stream",
     "text": [
      "\n",
      "      Epoch    GPU_mem   box_loss   cls_loss   dfl_loss  Instances       Size\n"
     ]
    },
    {
     "name": "stderr",
     "output_type": "stream",
     "text": [
      "     51/100         0G     0.9832     0.5802     0.9568         14        320: 100%|██████████| 22/22 [00:37<00:00,  1.70s/it]\n",
      "                 Class     Images  Instances      Box(P          R      mAP50  mAP50-95): 100%|██████████| 2/2 [00:01<00:00,  1.11it/s]"
     ]
    },
    {
     "name": "stdout",
     "output_type": "stream",
     "text": [
      "                   all         44         44       0.92      0.841      0.916      0.497\n"
     ]
    },
    {
     "name": "stderr",
     "output_type": "stream",
     "text": [
      "\n"
     ]
    },
    {
     "name": "stdout",
     "output_type": "stream",
     "text": [
      "\n",
      "      Epoch    GPU_mem   box_loss   cls_loss   dfl_loss  Instances       Size\n"
     ]
    },
    {
     "name": "stderr",
     "output_type": "stream",
     "text": [
      "     52/100         0G      0.955     0.5638     0.9487         14        320: 100%|██████████| 22/22 [00:37<00:00,  1.73s/it]\n",
      "                 Class     Images  Instances      Box(P          R      mAP50  mAP50-95): 100%|██████████| 2/2 [00:01<00:00,  1.27it/s]"
     ]
    },
    {
     "name": "stdout",
     "output_type": "stream",
     "text": [
      "                   all         44         44      0.902      0.839      0.895      0.468\n"
     ]
    },
    {
     "name": "stderr",
     "output_type": "stream",
     "text": [
      "\n"
     ]
    },
    {
     "name": "stdout",
     "output_type": "stream",
     "text": [
      "\n",
      "      Epoch    GPU_mem   box_loss   cls_loss   dfl_loss  Instances       Size\n"
     ]
    },
    {
     "name": "stderr",
     "output_type": "stream",
     "text": [
      "     53/100         0G     0.9175     0.5655     0.9365         16        320: 100%|██████████| 22/22 [00:37<00:00,  1.70s/it]\n",
      "                 Class     Images  Instances      Box(P          R      mAP50  mAP50-95): 100%|██████████| 2/2 [00:01<00:00,  1.11it/s]"
     ]
    },
    {
     "name": "stdout",
     "output_type": "stream",
     "text": [
      "                   all         44         44      0.864      0.886      0.907      0.525\n"
     ]
    },
    {
     "name": "stderr",
     "output_type": "stream",
     "text": [
      "\n"
     ]
    },
    {
     "name": "stdout",
     "output_type": "stream",
     "text": [
      "\n",
      "      Epoch    GPU_mem   box_loss   cls_loss   dfl_loss  Instances       Size\n"
     ]
    },
    {
     "name": "stderr",
     "output_type": "stream",
     "text": [
      "     54/100         0G     0.9218     0.5522     0.9579         15        320: 100%|██████████| 22/22 [00:37<00:00,  1.72s/it]\n",
      "                 Class     Images  Instances      Box(P          R      mAP50  mAP50-95): 100%|██████████| 2/2 [00:01<00:00,  1.26it/s]"
     ]
    },
    {
     "name": "stdout",
     "output_type": "stream",
     "text": [
      "                   all         44         44      0.859      0.886      0.905      0.503\n"
     ]
    },
    {
     "name": "stderr",
     "output_type": "stream",
     "text": [
      "\n"
     ]
    },
    {
     "name": "stdout",
     "output_type": "stream",
     "text": [
      "\n",
      "      Epoch    GPU_mem   box_loss   cls_loss   dfl_loss  Instances       Size\n"
     ]
    },
    {
     "name": "stderr",
     "output_type": "stream",
     "text": [
      "     55/100         0G     0.9602     0.5784     0.9699         17        320: 100%|██████████| 22/22 [00:37<00:00,  1.70s/it]\n",
      "                 Class     Images  Instances      Box(P          R      mAP50  mAP50-95): 100%|██████████| 2/2 [00:01<00:00,  1.10it/s]"
     ]
    },
    {
     "name": "stdout",
     "output_type": "stream",
     "text": [
      "                   all         44         44      0.855      0.841      0.911      0.523\n"
     ]
    },
    {
     "name": "stderr",
     "output_type": "stream",
     "text": [
      "\n"
     ]
    },
    {
     "name": "stdout",
     "output_type": "stream",
     "text": [
      "\n",
      "      Epoch    GPU_mem   box_loss   cls_loss   dfl_loss  Instances       Size\n"
     ]
    },
    {
     "name": "stderr",
     "output_type": "stream",
     "text": [
      "     56/100         0G     0.9485     0.5625      0.951         17        320: 100%|██████████| 22/22 [00:37<00:00,  1.71s/it]\n",
      "                 Class     Images  Instances      Box(P          R      mAP50  mAP50-95): 100%|██████████| 2/2 [00:01<00:00,  1.28it/s]"
     ]
    },
    {
     "name": "stdout",
     "output_type": "stream",
     "text": [
      "                   all         44         44      0.855      0.801      0.881      0.464\n"
     ]
    },
    {
     "name": "stderr",
     "output_type": "stream",
     "text": [
      "\n"
     ]
    },
    {
     "name": "stdout",
     "output_type": "stream",
     "text": [
      "\n",
      "      Epoch    GPU_mem   box_loss   cls_loss   dfl_loss  Instances       Size\n"
     ]
    },
    {
     "name": "stderr",
     "output_type": "stream",
     "text": [
      "     57/100         0G     0.9441     0.5919     0.9598         22        320: 100%|██████████| 22/22 [00:37<00:00,  1.71s/it]\n",
      "                 Class     Images  Instances      Box(P          R      mAP50  mAP50-95): 100%|██████████| 2/2 [00:01<00:00,  1.11it/s]"
     ]
    },
    {
     "name": "stdout",
     "output_type": "stream",
     "text": [
      "                   all         44         44      0.847      0.727      0.868       0.46\n"
     ]
    },
    {
     "name": "stderr",
     "output_type": "stream",
     "text": [
      "\n"
     ]
    },
    {
     "name": "stdout",
     "output_type": "stream",
     "text": [
      "\n",
      "      Epoch    GPU_mem   box_loss   cls_loss   dfl_loss  Instances       Size\n"
     ]
    },
    {
     "name": "stderr",
     "output_type": "stream",
     "text": [
      "     58/100         0G     0.8744     0.5475     0.9283         18        320: 100%|██████████| 22/22 [00:37<00:00,  1.70s/it]\n",
      "                 Class     Images  Instances      Box(P          R      mAP50  mAP50-95): 100%|██████████| 2/2 [00:01<00:00,  1.26it/s]"
     ]
    },
    {
     "name": "stdout",
     "output_type": "stream",
     "text": [
      "                   all         44         44      0.797      0.892      0.905      0.514\n"
     ]
    },
    {
     "name": "stderr",
     "output_type": "stream",
     "text": [
      "\n"
     ]
    },
    {
     "name": "stdout",
     "output_type": "stream",
     "text": [
      "\n",
      "      Epoch    GPU_mem   box_loss   cls_loss   dfl_loss  Instances       Size\n"
     ]
    },
    {
     "name": "stderr",
     "output_type": "stream",
     "text": [
      "     59/100         0G     0.9042     0.5596     0.9336         15        320: 100%|██████████| 22/22 [00:37<00:00,  1.71s/it]\n",
      "                 Class     Images  Instances      Box(P          R      mAP50  mAP50-95): 100%|██████████| 2/2 [00:01<00:00,  1.11it/s]"
     ]
    },
    {
     "name": "stdout",
     "output_type": "stream",
     "text": [
      "                   all         44         44      0.914      0.841      0.901      0.523\n"
     ]
    },
    {
     "name": "stderr",
     "output_type": "stream",
     "text": [
      "\n"
     ]
    },
    {
     "name": "stdout",
     "output_type": "stream",
     "text": [
      "\n",
      "      Epoch    GPU_mem   box_loss   cls_loss   dfl_loss  Instances       Size\n"
     ]
    },
    {
     "name": "stderr",
     "output_type": "stream",
     "text": [
      "     60/100         0G      0.924     0.5518     0.9393         13        320: 100%|██████████| 22/22 [00:38<00:00,  1.73s/it]\n",
      "                 Class     Images  Instances      Box(P          R      mAP50  mAP50-95): 100%|██████████| 2/2 [00:01<00:00,  1.10it/s]"
     ]
    },
    {
     "name": "stdout",
     "output_type": "stream",
     "text": [
      "                   all         44         44      0.866       0.88      0.882      0.508\n"
     ]
    },
    {
     "name": "stderr",
     "output_type": "stream",
     "text": [
      "\n"
     ]
    },
    {
     "name": "stdout",
     "output_type": "stream",
     "text": [
      "\n",
      "      Epoch    GPU_mem   box_loss   cls_loss   dfl_loss  Instances       Size\n"
     ]
    },
    {
     "name": "stderr",
     "output_type": "stream",
     "text": [
      "     61/100         0G     0.9161     0.5562     0.9529         16        320: 100%|██████████| 22/22 [00:40<00:00,  1.83s/it]\n",
      "                 Class     Images  Instances      Box(P          R      mAP50  mAP50-95): 100%|██████████| 2/2 [00:01<00:00,  1.27it/s]"
     ]
    },
    {
     "name": "stdout",
     "output_type": "stream",
     "text": [
      "                   all         44         44      0.846      0.841      0.888      0.515\n"
     ]
    },
    {
     "name": "stderr",
     "output_type": "stream",
     "text": [
      "\n"
     ]
    },
    {
     "name": "stdout",
     "output_type": "stream",
     "text": [
      "\n",
      "      Epoch    GPU_mem   box_loss   cls_loss   dfl_loss  Instances       Size\n"
     ]
    },
    {
     "name": "stderr",
     "output_type": "stream",
     "text": [
      "     62/100         0G     0.8874     0.5267     0.9312         16        320: 100%|██████████| 22/22 [00:37<00:00,  1.70s/it]\n",
      "                 Class     Images  Instances      Box(P          R      mAP50  mAP50-95): 100%|██████████| 2/2 [00:01<00:00,  1.26it/s]"
     ]
    },
    {
     "name": "stdout",
     "output_type": "stream",
     "text": [
      "                   all         44         44      0.885      0.878      0.908       0.52\n"
     ]
    },
    {
     "name": "stderr",
     "output_type": "stream",
     "text": [
      "\n"
     ]
    },
    {
     "name": "stdout",
     "output_type": "stream",
     "text": [
      "\n",
      "      Epoch    GPU_mem   box_loss   cls_loss   dfl_loss  Instances       Size\n"
     ]
    },
    {
     "name": "stderr",
     "output_type": "stream",
     "text": [
      "     63/100         0G      0.888     0.5244     0.9208         17        320: 100%|██████████| 22/22 [00:38<00:00,  1.74s/it]\n",
      "                 Class     Images  Instances      Box(P          R      mAP50  mAP50-95): 100%|██████████| 2/2 [00:01<00:00,  1.27it/s]"
     ]
    },
    {
     "name": "stdout",
     "output_type": "stream",
     "text": [
      "                   all         44         44      0.973      0.816      0.901      0.494\n"
     ]
    },
    {
     "name": "stderr",
     "output_type": "stream",
     "text": [
      "\n"
     ]
    },
    {
     "name": "stdout",
     "output_type": "stream",
     "text": [
      "\n",
      "      Epoch    GPU_mem   box_loss   cls_loss   dfl_loss  Instances       Size\n"
     ]
    },
    {
     "name": "stderr",
     "output_type": "stream",
     "text": [
      "     64/100         0G     0.8768     0.5209     0.9377         13        320: 100%|██████████| 22/22 [00:37<00:00,  1.71s/it]\n",
      "                 Class     Images  Instances      Box(P          R      mAP50  mAP50-95): 100%|██████████| 2/2 [00:01<00:00,  1.27it/s]"
     ]
    },
    {
     "name": "stdout",
     "output_type": "stream",
     "text": [
      "                   all         44         44      0.939      0.818      0.894      0.524\n"
     ]
    },
    {
     "name": "stderr",
     "output_type": "stream",
     "text": [
      "\n"
     ]
    },
    {
     "name": "stdout",
     "output_type": "stream",
     "text": [
      "\n",
      "      Epoch    GPU_mem   box_loss   cls_loss   dfl_loss  Instances       Size\n"
     ]
    },
    {
     "name": "stderr",
     "output_type": "stream",
     "text": [
      "     65/100         0G     0.8764     0.5428     0.9409         16        320: 100%|██████████| 22/22 [00:37<00:00,  1.72s/it]\n",
      "                 Class     Images  Instances      Box(P          R      mAP50  mAP50-95): 100%|██████████| 2/2 [00:01<00:00,  1.27it/s]"
     ]
    },
    {
     "name": "stdout",
     "output_type": "stream",
     "text": [
      "                   all         44         44      0.911      0.818      0.889      0.485\n"
     ]
    },
    {
     "name": "stderr",
     "output_type": "stream",
     "text": [
      "\n"
     ]
    },
    {
     "name": "stdout",
     "output_type": "stream",
     "text": [
      "\n",
      "      Epoch    GPU_mem   box_loss   cls_loss   dfl_loss  Instances       Size\n"
     ]
    },
    {
     "name": "stderr",
     "output_type": "stream",
     "text": [
      "     66/100         0G     0.8656     0.5264     0.9314         16        320: 100%|██████████| 22/22 [00:37<00:00,  1.71s/it]\n",
      "                 Class     Images  Instances      Box(P          R      mAP50  mAP50-95): 100%|██████████| 2/2 [00:01<00:00,  1.26it/s]"
     ]
    },
    {
     "name": "stdout",
     "output_type": "stream",
     "text": [
      "                   all         44         44      0.908      0.818      0.899      0.489\n"
     ]
    },
    {
     "name": "stderr",
     "output_type": "stream",
     "text": [
      "\n"
     ]
    },
    {
     "name": "stdout",
     "output_type": "stream",
     "text": [
      "\n",
      "      Epoch    GPU_mem   box_loss   cls_loss   dfl_loss  Instances       Size\n"
     ]
    },
    {
     "name": "stderr",
     "output_type": "stream",
     "text": [
      "     67/100         0G     0.8378     0.5209     0.9271         13        320: 100%|██████████| 22/22 [00:38<00:00,  1.73s/it]\n",
      "                 Class     Images  Instances      Box(P          R      mAP50  mAP50-95): 100%|██████████| 2/2 [00:01<00:00,  1.25it/s]"
     ]
    },
    {
     "name": "stdout",
     "output_type": "stream",
     "text": [
      "                   all         44         44      0.944      0.768       0.88       0.51\n"
     ]
    },
    {
     "name": "stderr",
     "output_type": "stream",
     "text": [
      "\n"
     ]
    },
    {
     "name": "stdout",
     "output_type": "stream",
     "text": [
      "\n",
      "      Epoch    GPU_mem   box_loss   cls_loss   dfl_loss  Instances       Size\n"
     ]
    },
    {
     "name": "stderr",
     "output_type": "stream",
     "text": [
      "     68/100         0G     0.8522     0.5144     0.9176         16        320: 100%|██████████| 22/22 [00:37<00:00,  1.71s/it]\n",
      "                 Class     Images  Instances      Box(P          R      mAP50  mAP50-95): 100%|██████████| 2/2 [00:01<00:00,  1.23it/s]"
     ]
    },
    {
     "name": "stdout",
     "output_type": "stream",
     "text": [
      "                   all         44         44      0.931      0.795      0.887       0.51\n"
     ]
    },
    {
     "name": "stderr",
     "output_type": "stream",
     "text": [
      "\n"
     ]
    },
    {
     "name": "stdout",
     "output_type": "stream",
     "text": [
      "\n",
      "      Epoch    GPU_mem   box_loss   cls_loss   dfl_loss  Instances       Size\n"
     ]
    },
    {
     "name": "stderr",
     "output_type": "stream",
     "text": [
      "     69/100         0G     0.8471     0.5037     0.9333         15        320: 100%|██████████| 22/22 [00:37<00:00,  1.72s/it]\n",
      "                 Class     Images  Instances      Box(P          R      mAP50  mAP50-95): 100%|██████████| 2/2 [00:01<00:00,  1.27it/s]"
     ]
    },
    {
     "name": "stdout",
     "output_type": "stream",
     "text": [
      "                   all         44         44      0.968      0.773      0.883      0.512\n"
     ]
    },
    {
     "name": "stderr",
     "output_type": "stream",
     "text": [
      "\n"
     ]
    },
    {
     "name": "stdout",
     "output_type": "stream",
     "text": [
      "\n",
      "      Epoch    GPU_mem   box_loss   cls_loss   dfl_loss  Instances       Size\n"
     ]
    },
    {
     "name": "stderr",
     "output_type": "stream",
     "text": [
      "     70/100         0G     0.8571     0.5095     0.9265         13        320: 100%|██████████| 22/22 [00:37<00:00,  1.70s/it]\n",
      "                 Class     Images  Instances      Box(P          R      mAP50  mAP50-95): 100%|██████████| 2/2 [00:01<00:00,  1.23it/s]"
     ]
    },
    {
     "name": "stdout",
     "output_type": "stream",
     "text": [
      "                   all         44         44       0.94      0.773      0.878      0.515\n"
     ]
    },
    {
     "name": "stderr",
     "output_type": "stream",
     "text": [
      "\n"
     ]
    },
    {
     "name": "stdout",
     "output_type": "stream",
     "text": [
      "\n",
      "      Epoch    GPU_mem   box_loss   cls_loss   dfl_loss  Instances       Size\n"
     ]
    },
    {
     "name": "stderr",
     "output_type": "stream",
     "text": [
      "     71/100         0G     0.8368     0.5044     0.9326         15        320: 100%|██████████| 22/22 [00:37<00:00,  1.72s/it]\n",
      "                 Class     Images  Instances      Box(P          R      mAP50  mAP50-95): 100%|██████████| 2/2 [00:01<00:00,  1.28it/s]"
     ]
    },
    {
     "name": "stdout",
     "output_type": "stream",
     "text": [
      "                   all         44         44      0.914      0.795      0.875      0.505\n"
     ]
    },
    {
     "name": "stderr",
     "output_type": "stream",
     "text": [
      "\n"
     ]
    },
    {
     "name": "stdout",
     "output_type": "stream",
     "text": [
      "\n",
      "      Epoch    GPU_mem   box_loss   cls_loss   dfl_loss  Instances       Size\n"
     ]
    },
    {
     "name": "stderr",
     "output_type": "stream",
     "text": [
      "     72/100         0G     0.8383      0.504     0.9076         14        320: 100%|██████████| 22/22 [00:37<00:00,  1.70s/it]\n",
      "                 Class     Images  Instances      Box(P          R      mAP50  mAP50-95): 100%|██████████| 2/2 [00:01<00:00,  1.20it/s]"
     ]
    },
    {
     "name": "stdout",
     "output_type": "stream",
     "text": [
      "                   all         44         44      0.928      0.773      0.889        0.5\n"
     ]
    },
    {
     "name": "stderr",
     "output_type": "stream",
     "text": [
      "\n"
     ]
    },
    {
     "name": "stdout",
     "output_type": "stream",
     "text": [
      "\n",
      "      Epoch    GPU_mem   box_loss   cls_loss   dfl_loss  Instances       Size\n"
     ]
    },
    {
     "name": "stderr",
     "output_type": "stream",
     "text": [
      "     73/100         0G      0.866     0.5095     0.9431         15        320: 100%|██████████| 22/22 [00:37<00:00,  1.71s/it]\n",
      "                 Class     Images  Instances      Box(P          R      mAP50  mAP50-95): 100%|██████████| 2/2 [00:01<00:00,  1.26it/s]"
     ]
    },
    {
     "name": "stdout",
     "output_type": "stream",
     "text": [
      "                   all         44         44      0.858      0.822        0.9      0.512\n"
     ]
    },
    {
     "name": "stderr",
     "output_type": "stream",
     "text": [
      "\n"
     ]
    },
    {
     "name": "stdout",
     "output_type": "stream",
     "text": [
      "\n",
      "      Epoch    GPU_mem   box_loss   cls_loss   dfl_loss  Instances       Size\n"
     ]
    },
    {
     "name": "stderr",
     "output_type": "stream",
     "text": [
      "     74/100         0G     0.8022     0.4998     0.9033         13        320: 100%|██████████| 22/22 [00:37<00:00,  1.71s/it]\n",
      "                 Class     Images  Instances      Box(P          R      mAP50  mAP50-95): 100%|██████████| 2/2 [00:01<00:00,  1.14it/s]"
     ]
    },
    {
     "name": "stdout",
     "output_type": "stream",
     "text": [
      "                   all         44         44      0.917      0.818       0.91       0.52\n"
     ]
    },
    {
     "name": "stderr",
     "output_type": "stream",
     "text": [
      "\n"
     ]
    },
    {
     "name": "stdout",
     "output_type": "stream",
     "text": [
      "\n",
      "      Epoch    GPU_mem   box_loss   cls_loss   dfl_loss  Instances       Size\n"
     ]
    },
    {
     "name": "stderr",
     "output_type": "stream",
     "text": [
      "     75/100         0G     0.7952     0.4799     0.9098         16        320: 100%|██████████| 22/22 [00:37<00:00,  1.72s/it]\n",
      "                 Class     Images  Instances      Box(P          R      mAP50  mAP50-95): 100%|██████████| 2/2 [00:01<00:00,  1.25it/s]"
     ]
    },
    {
     "name": "stdout",
     "output_type": "stream",
     "text": [
      "                   all         44         44      0.939      0.818      0.906      0.519\n"
     ]
    },
    {
     "name": "stderr",
     "output_type": "stream",
     "text": [
      "\n"
     ]
    },
    {
     "name": "stdout",
     "output_type": "stream",
     "text": [
      "\n",
      "      Epoch    GPU_mem   box_loss   cls_loss   dfl_loss  Instances       Size\n"
     ]
    },
    {
     "name": "stderr",
     "output_type": "stream",
     "text": [
      "     76/100         0G     0.7916     0.4739     0.9115         11        320: 100%|██████████| 22/22 [00:37<00:00,  1.72s/it]\n",
      "                 Class     Images  Instances      Box(P          R      mAP50  mAP50-95): 100%|██████████| 2/2 [00:01<00:00,  1.11it/s]"
     ]
    },
    {
     "name": "stdout",
     "output_type": "stream",
     "text": [
      "                   all         44         44      0.938      0.818      0.892      0.499\n"
     ]
    },
    {
     "name": "stderr",
     "output_type": "stream",
     "text": [
      "\n"
     ]
    },
    {
     "name": "stdout",
     "output_type": "stream",
     "text": [
      "\n",
      "      Epoch    GPU_mem   box_loss   cls_loss   dfl_loss  Instances       Size\n"
     ]
    },
    {
     "name": "stderr",
     "output_type": "stream",
     "text": [
      "     77/100         0G     0.7746     0.4771     0.9113         22        320: 100%|██████████| 22/22 [00:37<00:00,  1.72s/it]\n",
      "                 Class     Images  Instances      Box(P          R      mAP50  mAP50-95): 100%|██████████| 2/2 [00:01<00:00,  1.26it/s]"
     ]
    },
    {
     "name": "stdout",
     "output_type": "stream",
     "text": [
      "                   all         44         44      0.881      0.839      0.892      0.507\n"
     ]
    },
    {
     "name": "stderr",
     "output_type": "stream",
     "text": [
      "\n"
     ]
    },
    {
     "name": "stdout",
     "output_type": "stream",
     "text": [
      "\n",
      "      Epoch    GPU_mem   box_loss   cls_loss   dfl_loss  Instances       Size\n"
     ]
    },
    {
     "name": "stderr",
     "output_type": "stream",
     "text": [
      "     78/100         0G     0.8089     0.4717     0.9179         13        320: 100%|██████████| 22/22 [00:37<00:00,  1.72s/it]\n",
      "                 Class     Images  Instances      Box(P          R      mAP50  mAP50-95): 100%|██████████| 2/2 [00:01<00:00,  1.11it/s]"
     ]
    },
    {
     "name": "stdout",
     "output_type": "stream",
     "text": [
      "                   all         44         44      0.893      0.756      0.877      0.491\n"
     ]
    },
    {
     "name": "stderr",
     "output_type": "stream",
     "text": [
      "\n"
     ]
    },
    {
     "name": "stdout",
     "output_type": "stream",
     "text": [
      "\n",
      "      Epoch    GPU_mem   box_loss   cls_loss   dfl_loss  Instances       Size\n"
     ]
    },
    {
     "name": "stderr",
     "output_type": "stream",
     "text": [
      "     79/100         0G     0.8296     0.4819     0.9221         14        320: 100%|██████████| 22/22 [00:37<00:00,  1.71s/it]\n",
      "                 Class     Images  Instances      Box(P          R      mAP50  mAP50-95): 100%|██████████| 2/2 [00:01<00:00,  1.21it/s]"
     ]
    },
    {
     "name": "stdout",
     "output_type": "stream",
     "text": [
      "                   all         44         44      0.894      0.795      0.869      0.475\n"
     ]
    },
    {
     "name": "stderr",
     "output_type": "stream",
     "text": [
      "\n"
     ]
    },
    {
     "name": "stdout",
     "output_type": "stream",
     "text": [
      "\n",
      "      Epoch    GPU_mem   box_loss   cls_loss   dfl_loss  Instances       Size\n"
     ]
    },
    {
     "name": "stderr",
     "output_type": "stream",
     "text": [
      "     80/100         0G     0.8021     0.4797     0.9227         14        320: 100%|██████████| 22/22 [00:37<00:00,  1.71s/it]\n",
      "                 Class     Images  Instances      Box(P          R      mAP50  mAP50-95): 100%|██████████| 2/2 [00:01<00:00,  1.11it/s]"
     ]
    },
    {
     "name": "stdout",
     "output_type": "stream",
     "text": [
      "                   all         44         44      0.893      0.795      0.885      0.498\n"
     ]
    },
    {
     "name": "stderr",
     "output_type": "stream",
     "text": [
      "\n"
     ]
    },
    {
     "name": "stdout",
     "output_type": "stream",
     "text": [
      "\n",
      "      Epoch    GPU_mem   box_loss   cls_loss   dfl_loss  Instances       Size\n"
     ]
    },
    {
     "name": "stderr",
     "output_type": "stream",
     "text": [
      "     81/100         0G      0.781     0.4629     0.9076         16        320: 100%|██████████| 22/22 [00:37<00:00,  1.72s/it]\n",
      "                 Class     Images  Instances      Box(P          R      mAP50  mAP50-95): 100%|██████████| 2/2 [00:01<00:00,  1.27it/s]"
     ]
    },
    {
     "name": "stdout",
     "output_type": "stream",
     "text": [
      "                   all         44         44      0.892      0.795      0.885      0.487\n"
     ]
    },
    {
     "name": "stderr",
     "output_type": "stream",
     "text": [
      "\n"
     ]
    },
    {
     "name": "stdout",
     "output_type": "stream",
     "text": [
      "\n",
      "      Epoch    GPU_mem   box_loss   cls_loss   dfl_loss  Instances       Size\n"
     ]
    },
    {
     "name": "stderr",
     "output_type": "stream",
     "text": [
      "     82/100         0G     0.7886     0.4717     0.9156         12        320: 100%|██████████| 22/22 [00:37<00:00,  1.72s/it]\n",
      "                 Class     Images  Instances      Box(P          R      mAP50  mAP50-95): 100%|██████████| 2/2 [00:01<00:00,  1.13it/s]"
     ]
    },
    {
     "name": "stdout",
     "output_type": "stream",
     "text": [
      "                   all         44         44      0.755      0.932      0.906       0.49\n"
     ]
    },
    {
     "name": "stderr",
     "output_type": "stream",
     "text": [
      "\n"
     ]
    },
    {
     "name": "stdout",
     "output_type": "stream",
     "text": [
      "\n",
      "      Epoch    GPU_mem   box_loss   cls_loss   dfl_loss  Instances       Size\n"
     ]
    },
    {
     "name": "stderr",
     "output_type": "stream",
     "text": [
      "     83/100         0G     0.7681     0.4552     0.9051         20        320: 100%|██████████| 22/22 [00:37<00:00,  1.70s/it]\n",
      "                 Class     Images  Instances      Box(P          R      mAP50  mAP50-95): 100%|██████████| 2/2 [00:01<00:00,  1.20it/s]"
     ]
    },
    {
     "name": "stdout",
     "output_type": "stream",
     "text": [
      "                   all         44         44      0.943      0.773      0.891      0.511\n"
     ]
    },
    {
     "name": "stderr",
     "output_type": "stream",
     "text": [
      "\n"
     ]
    },
    {
     "name": "stdout",
     "output_type": "stream",
     "text": [
      "\n",
      "      Epoch    GPU_mem   box_loss   cls_loss   dfl_loss  Instances       Size\n"
     ]
    },
    {
     "name": "stderr",
     "output_type": "stream",
     "text": [
      "     84/100         0G     0.7405     0.4629     0.9067         22        320: 100%|██████████| 22/22 [00:37<00:00,  1.72s/it]\n",
      "                 Class     Images  Instances      Box(P          R      mAP50  mAP50-95): 100%|██████████| 2/2 [00:01<00:00,  1.12it/s]"
     ]
    },
    {
     "name": "stdout",
     "output_type": "stream",
     "text": [
      "                   all         44         44      0.835      0.818      0.885       0.52\n"
     ]
    },
    {
     "name": "stderr",
     "output_type": "stream",
     "text": [
      "\n"
     ]
    },
    {
     "name": "stdout",
     "output_type": "stream",
     "text": [
      "\n",
      "      Epoch    GPU_mem   box_loss   cls_loss   dfl_loss  Instances       Size\n"
     ]
    },
    {
     "name": "stderr",
     "output_type": "stream",
     "text": [
      "     85/100         0G     0.7779      0.455     0.9062         15        320: 100%|██████████| 22/22 [00:37<00:00,  1.72s/it]\n",
      "                 Class     Images  Instances      Box(P          R      mAP50  mAP50-95): 100%|██████████| 2/2 [00:01<00:00,  1.25it/s]"
     ]
    },
    {
     "name": "stdout",
     "output_type": "stream",
     "text": [
      "                   all         44         44      0.855      0.803      0.888       0.53\n"
     ]
    },
    {
     "name": "stderr",
     "output_type": "stream",
     "text": [
      "\n"
     ]
    },
    {
     "name": "stdout",
     "output_type": "stream",
     "text": [
      "\n",
      "      Epoch    GPU_mem   box_loss   cls_loss   dfl_loss  Instances       Size\n"
     ]
    },
    {
     "name": "stderr",
     "output_type": "stream",
     "text": [
      "     86/100         0G     0.7923     0.4652     0.9271         17        320: 100%|██████████| 22/22 [00:37<00:00,  1.72s/it]\n",
      "                 Class     Images  Instances      Box(P          R      mAP50  mAP50-95): 100%|██████████| 2/2 [00:01<00:00,  1.11it/s]"
     ]
    },
    {
     "name": "stdout",
     "output_type": "stream",
     "text": [
      "                   all         44         44      0.767      0.886      0.878      0.509\n"
     ]
    },
    {
     "name": "stderr",
     "output_type": "stream",
     "text": [
      "\n"
     ]
    },
    {
     "name": "stdout",
     "output_type": "stream",
     "text": [
      "\n",
      "      Epoch    GPU_mem   box_loss   cls_loss   dfl_loss  Instances       Size\n"
     ]
    },
    {
     "name": "stderr",
     "output_type": "stream",
     "text": [
      "     87/100         0G     0.7735     0.4643     0.9155         14        320: 100%|██████████| 22/22 [00:39<00:00,  1.80s/it]\n",
      "                 Class     Images  Instances      Box(P          R      mAP50  mAP50-95): 100%|██████████| 2/2 [00:01<00:00,  1.05it/s]"
     ]
    },
    {
     "name": "stdout",
     "output_type": "stream",
     "text": [
      "                   all         44         44      0.764      0.909      0.886      0.505\n"
     ]
    },
    {
     "name": "stderr",
     "output_type": "stream",
     "text": [
      "\n"
     ]
    },
    {
     "name": "stdout",
     "output_type": "stream",
     "text": [
      "\n",
      "      Epoch    GPU_mem   box_loss   cls_loss   dfl_loss  Instances       Size\n"
     ]
    },
    {
     "name": "stderr",
     "output_type": "stream",
     "text": [
      "     88/100         0G     0.7303     0.4457     0.9081         14        320: 100%|██████████| 22/22 [00:39<00:00,  1.82s/it]\n",
      "                 Class     Images  Instances      Box(P          R      mAP50  mAP50-95): 100%|██████████| 2/2 [00:01<00:00,  1.21it/s]"
     ]
    },
    {
     "name": "stdout",
     "output_type": "stream",
     "text": [
      "                   all         44         44      0.873      0.818      0.889      0.504\n"
     ]
    },
    {
     "name": "stderr",
     "output_type": "stream",
     "text": [
      "\n"
     ]
    },
    {
     "name": "stdout",
     "output_type": "stream",
     "text": [
      "\n",
      "      Epoch    GPU_mem   box_loss   cls_loss   dfl_loss  Instances       Size\n"
     ]
    },
    {
     "name": "stderr",
     "output_type": "stream",
     "text": [
      "     89/100         0G     0.6996     0.4301     0.8849         16        320: 100%|██████████| 22/22 [00:39<00:00,  1.81s/it]\n",
      "                 Class     Images  Instances      Box(P          R      mAP50  mAP50-95): 100%|██████████| 2/2 [00:01<00:00,  1.08it/s]"
     ]
    },
    {
     "name": "stdout",
     "output_type": "stream",
     "text": [
      "                   all         44         44      0.919      0.772       0.89      0.518\n"
     ]
    },
    {
     "name": "stderr",
     "output_type": "stream",
     "text": [
      "\n"
     ]
    },
    {
     "name": "stdout",
     "output_type": "stream",
     "text": [
      "\n",
      "      Epoch    GPU_mem   box_loss   cls_loss   dfl_loss  Instances       Size\n"
     ]
    },
    {
     "name": "stderr",
     "output_type": "stream",
     "text": [
      "     90/100         0G     0.7556     0.4558     0.8984         16        320: 100%|██████████| 22/22 [00:38<00:00,  1.75s/it]\n",
      "                 Class     Images  Instances      Box(P          R      mAP50  mAP50-95): 100%|██████████| 2/2 [00:01<00:00,  1.25it/s]"
     ]
    },
    {
     "name": "stdout",
     "output_type": "stream",
     "text": [
      "                   all         44         44      0.881      0.795      0.905      0.512\n"
     ]
    },
    {
     "name": "stderr",
     "output_type": "stream",
     "text": [
      "\n"
     ]
    },
    {
     "name": "stdout",
     "output_type": "stream",
     "text": [
      "Closing dataloader mosaic\n",
      "\n",
      "      Epoch    GPU_mem   box_loss   cls_loss   dfl_loss  Instances       Size\n"
     ]
    },
    {
     "name": "stderr",
     "output_type": "stream",
     "text": [
      "     91/100         0G     0.9888     0.5475     0.9971          9        320: 100%|██████████| 22/22 [00:37<00:00,  1.70s/it]\n",
      "                 Class     Images  Instances      Box(P          R      mAP50  mAP50-95): 100%|██████████| 2/2 [00:01<00:00,  1.24it/s]"
     ]
    },
    {
     "name": "stdout",
     "output_type": "stream",
     "text": [
      "                   all         44         44      0.881      0.795      0.903       0.52\n"
     ]
    },
    {
     "name": "stderr",
     "output_type": "stream",
     "text": [
      "\n"
     ]
    },
    {
     "name": "stdout",
     "output_type": "stream",
     "text": [
      "\n",
      "      Epoch    GPU_mem   box_loss   cls_loss   dfl_loss  Instances       Size\n"
     ]
    },
    {
     "name": "stderr",
     "output_type": "stream",
     "text": [
      "     92/100         0G      1.004      0.519     0.9984          9        320: 100%|██████████| 22/22 [00:36<00:00,  1.67s/it]\n",
      "                 Class     Images  Instances      Box(P          R      mAP50  mAP50-95): 100%|██████████| 2/2 [00:01<00:00,  1.26it/s]"
     ]
    },
    {
     "name": "stdout",
     "output_type": "stream",
     "text": [
      "                   all         44         44      0.864      0.863      0.905      0.521\n"
     ]
    },
    {
     "name": "stderr",
     "output_type": "stream",
     "text": [
      "\n"
     ]
    },
    {
     "name": "stdout",
     "output_type": "stream",
     "text": [
      "\n",
      "      Epoch    GPU_mem   box_loss   cls_loss   dfl_loss  Instances       Size\n"
     ]
    },
    {
     "name": "stderr",
     "output_type": "stream",
     "text": [
      "     93/100         0G     0.9782     0.5177     0.9815          9        320: 100%|██████████| 22/22 [00:37<00:00,  1.69s/it]\n",
      "                 Class     Images  Instances      Box(P          R      mAP50  mAP50-95): 100%|██████████| 2/2 [00:01<00:00,  1.11it/s]"
     ]
    },
    {
     "name": "stdout",
     "output_type": "stream",
     "text": [
      "                   all         44         44      0.832        0.9      0.913       0.53\n"
     ]
    },
    {
     "name": "stderr",
     "output_type": "stream",
     "text": [
      "\n"
     ]
    },
    {
     "name": "stdout",
     "output_type": "stream",
     "text": [
      "\n",
      "      Epoch    GPU_mem   box_loss   cls_loss   dfl_loss  Instances       Size\n"
     ]
    },
    {
     "name": "stderr",
     "output_type": "stream",
     "text": [
      "     94/100         0G     0.9377      0.496     0.9595          9        320: 100%|██████████| 22/22 [00:36<00:00,  1.68s/it]\n",
      "                 Class     Images  Instances      Box(P          R      mAP50  mAP50-95): 100%|██████████| 2/2 [00:01<00:00,  1.27it/s]"
     ]
    },
    {
     "name": "stdout",
     "output_type": "stream",
     "text": [
      "                   all         44         44      0.859      0.831      0.891      0.536\n"
     ]
    },
    {
     "name": "stderr",
     "output_type": "stream",
     "text": [
      "\n"
     ]
    },
    {
     "name": "stdout",
     "output_type": "stream",
     "text": [
      "\n",
      "      Epoch    GPU_mem   box_loss   cls_loss   dfl_loss  Instances       Size\n"
     ]
    },
    {
     "name": "stderr",
     "output_type": "stream",
     "text": [
      "     95/100         0G     0.9386      0.492     0.9777          9        320: 100%|██████████| 22/22 [00:37<00:00,  1.68s/it]\n",
      "                 Class     Images  Instances      Box(P          R      mAP50  mAP50-95): 100%|██████████| 2/2 [00:01<00:00,  1.12it/s]"
     ]
    },
    {
     "name": "stdout",
     "output_type": "stream",
     "text": [
      "                   all         44         44      0.863      0.858      0.894      0.531\n"
     ]
    },
    {
     "name": "stderr",
     "output_type": "stream",
     "text": [
      "\n"
     ]
    },
    {
     "name": "stdout",
     "output_type": "stream",
     "text": [
      "\n",
      "      Epoch    GPU_mem   box_loss   cls_loss   dfl_loss  Instances       Size\n"
     ]
    },
    {
     "name": "stderr",
     "output_type": "stream",
     "text": [
      "     96/100         0G     0.9514     0.4993     0.9758          9        320: 100%|██████████| 22/22 [00:36<00:00,  1.67s/it]\n",
      "                 Class     Images  Instances      Box(P          R      mAP50  mAP50-95): 100%|██████████| 2/2 [00:01<00:00,  1.26it/s]"
     ]
    },
    {
     "name": "stdout",
     "output_type": "stream",
     "text": [
      "                   all         44         44       0.86      0.864      0.898      0.533\n"
     ]
    },
    {
     "name": "stderr",
     "output_type": "stream",
     "text": [
      "\n"
     ]
    },
    {
     "name": "stdout",
     "output_type": "stream",
     "text": [
      "\n",
      "      Epoch    GPU_mem   box_loss   cls_loss   dfl_loss  Instances       Size\n"
     ]
    },
    {
     "name": "stderr",
     "output_type": "stream",
     "text": [
      "     97/100         0G     0.9271     0.4718     0.9615          9        320: 100%|██████████| 22/22 [00:36<00:00,  1.68s/it]\n",
      "                 Class     Images  Instances      Box(P          R      mAP50  mAP50-95): 100%|██████████| 2/2 [00:01<00:00,  1.10it/s]"
     ]
    },
    {
     "name": "stdout",
     "output_type": "stream",
     "text": [
      "                   all         44         44      0.873      0.864      0.897      0.533\n"
     ]
    },
    {
     "name": "stderr",
     "output_type": "stream",
     "text": [
      "\n"
     ]
    },
    {
     "name": "stdout",
     "output_type": "stream",
     "text": [
      "\n",
      "      Epoch    GPU_mem   box_loss   cls_loss   dfl_loss  Instances       Size\n"
     ]
    },
    {
     "name": "stderr",
     "output_type": "stream",
     "text": [
      "     98/100         0G     0.9147     0.4723     0.9649          9        320: 100%|██████████| 22/22 [00:36<00:00,  1.67s/it]\n",
      "                 Class     Images  Instances      Box(P          R      mAP50  mAP50-95): 100%|██████████| 2/2 [00:01<00:00,  1.24it/s]"
     ]
    },
    {
     "name": "stdout",
     "output_type": "stream",
     "text": [
      "                   all         44         44      0.866      0.881      0.898       0.53\n"
     ]
    },
    {
     "name": "stderr",
     "output_type": "stream",
     "text": [
      "\n"
     ]
    },
    {
     "name": "stdout",
     "output_type": "stream",
     "text": [
      "\n",
      "      Epoch    GPU_mem   box_loss   cls_loss   dfl_loss  Instances       Size\n"
     ]
    },
    {
     "name": "stderr",
     "output_type": "stream",
     "text": [
      "     99/100         0G     0.9053     0.4723     0.9613          9        320: 100%|██████████| 22/22 [00:36<00:00,  1.67s/it]\n",
      "                 Class     Images  Instances      Box(P          R      mAP50  mAP50-95): 100%|██████████| 2/2 [00:01<00:00,  1.10it/s]"
     ]
    },
    {
     "name": "stdout",
     "output_type": "stream",
     "text": [
      "                   all         44         44      0.866      0.881      0.897      0.536\n"
     ]
    },
    {
     "name": "stderr",
     "output_type": "stream",
     "text": [
      "\n"
     ]
    },
    {
     "name": "stdout",
     "output_type": "stream",
     "text": [
      "\n",
      "      Epoch    GPU_mem   box_loss   cls_loss   dfl_loss  Instances       Size\n"
     ]
    },
    {
     "name": "stderr",
     "output_type": "stream",
     "text": [
      "    100/100         0G      0.893     0.4687     0.9603          9        320: 100%|██████████| 22/22 [00:37<00:00,  1.68s/it]\n",
      "                 Class     Images  Instances      Box(P          R      mAP50  mAP50-95): 100%|██████████| 2/2 [00:01<00:00,  1.27it/s]"
     ]
    },
    {
     "name": "stdout",
     "output_type": "stream",
     "text": [
      "                   all         44         44      0.866      0.878      0.897      0.532\n"
     ]
    },
    {
     "name": "stderr",
     "output_type": "stream",
     "text": [
      "\n"
     ]
    },
    {
     "name": "stdout",
     "output_type": "stream",
     "text": [
      "\n",
      "100 epochs completed in 1.131 hours.\n",
      "Optimizer stripped from runs\\detect\\train2\\weights\\last.pt, 6.2MB\n",
      "Optimizer stripped from runs\\detect\\train2\\weights\\best.pt, 6.2MB\n",
      "\n",
      "Validating runs\\detect\\train2\\weights\\best.pt...\n",
      "Ultralytics YOLOv8.2.98  Python-3.11.5 torch-2.4.1+cpu CPU (Intel Core(TM) i5-8350U 1.70GHz)\n",
      "Model summary (fused): 168 layers, 3,005,843 parameters, 0 gradients, 8.1 GFLOPs\n"
     ]
    },
    {
     "name": "stderr",
     "output_type": "stream",
     "text": [
      "                 Class     Images  Instances      Box(P          R      mAP50  mAP50-95): 100%|██████████| 2/2 [00:01<00:00,  1.44it/s]\n"
     ]
    },
    {
     "name": "stdout",
     "output_type": "stream",
     "text": [
      "                   all         44         44      0.866      0.881      0.897      0.535\n",
      "Speed: 1.1ms preprocess, 25.8ms inference, 0.0ms loss, 0.7ms postprocess per image\n",
      "Results saved to \u001b[1mruns\\detect\\train2\u001b[0m\n"
     ]
    },
    {
     "data": {
      "text/plain": [
       "ultralytics.utils.metrics.DetMetrics object with attributes:\n",
       "\n",
       "ap_class_index: array([0])\n",
       "box: ultralytics.utils.metrics.Metric object\n",
       "confusion_matrix: <ultralytics.utils.metrics.ConfusionMatrix object at 0x000001431BBFF5D0>\n",
       "curves: ['Precision-Recall(B)', 'F1-Confidence(B)', 'Precision-Confidence(B)', 'Recall-Confidence(B)']\n",
       "curves_results: [[array([          0,    0.001001,    0.002002,    0.003003,    0.004004,    0.005005,    0.006006,    0.007007,    0.008008,    0.009009,     0.01001,    0.011011,    0.012012,    0.013013,    0.014014,    0.015015,    0.016016,    0.017017,    0.018018,    0.019019,     0.02002,    0.021021,    0.022022,    0.023023,\n",
       "          0.024024,    0.025025,    0.026026,    0.027027,    0.028028,    0.029029,     0.03003,    0.031031,    0.032032,    0.033033,    0.034034,    0.035035,    0.036036,    0.037037,    0.038038,    0.039039,     0.04004,    0.041041,    0.042042,    0.043043,    0.044044,    0.045045,    0.046046,    0.047047,\n",
       "          0.048048,    0.049049,     0.05005,    0.051051,    0.052052,    0.053053,    0.054054,    0.055055,    0.056056,    0.057057,    0.058058,    0.059059,     0.06006,    0.061061,    0.062062,    0.063063,    0.064064,    0.065065,    0.066066,    0.067067,    0.068068,    0.069069,     0.07007,    0.071071,\n",
       "          0.072072,    0.073073,    0.074074,    0.075075,    0.076076,    0.077077,    0.078078,    0.079079,     0.08008,    0.081081,    0.082082,    0.083083,    0.084084,    0.085085,    0.086086,    0.087087,    0.088088,    0.089089,     0.09009,    0.091091,    0.092092,    0.093093,    0.094094,    0.095095,\n",
       "          0.096096,    0.097097,    0.098098,    0.099099,      0.1001,      0.1011,      0.1021,      0.1031,      0.1041,     0.10511,     0.10611,     0.10711,     0.10811,     0.10911,     0.11011,     0.11111,     0.11211,     0.11311,     0.11411,     0.11512,     0.11612,     0.11712,     0.11812,     0.11912,\n",
       "           0.12012,     0.12112,     0.12212,     0.12312,     0.12412,     0.12513,     0.12613,     0.12713,     0.12813,     0.12913,     0.13013,     0.13113,     0.13213,     0.13313,     0.13413,     0.13514,     0.13614,     0.13714,     0.13814,     0.13914,     0.14014,     0.14114,     0.14214,     0.14314,\n",
       "           0.14414,     0.14515,     0.14615,     0.14715,     0.14815,     0.14915,     0.15015,     0.15115,     0.15215,     0.15315,     0.15415,     0.15516,     0.15616,     0.15716,     0.15816,     0.15916,     0.16016,     0.16116,     0.16216,     0.16316,     0.16416,     0.16517,     0.16617,     0.16717,\n",
       "           0.16817,     0.16917,     0.17017,     0.17117,     0.17217,     0.17317,     0.17417,     0.17518,     0.17618,     0.17718,     0.17818,     0.17918,     0.18018,     0.18118,     0.18218,     0.18318,     0.18418,     0.18519,     0.18619,     0.18719,     0.18819,     0.18919,     0.19019,     0.19119,\n",
       "           0.19219,     0.19319,     0.19419,      0.1952,      0.1962,      0.1972,      0.1982,      0.1992,      0.2002,      0.2012,      0.2022,      0.2032,      0.2042,     0.20521,     0.20621,     0.20721,     0.20821,     0.20921,     0.21021,     0.21121,     0.21221,     0.21321,     0.21421,     0.21522,\n",
       "           0.21622,     0.21722,     0.21822,     0.21922,     0.22022,     0.22122,     0.22222,     0.22322,     0.22422,     0.22523,     0.22623,     0.22723,     0.22823,     0.22923,     0.23023,     0.23123,     0.23223,     0.23323,     0.23423,     0.23524,     0.23624,     0.23724,     0.23824,     0.23924,\n",
       "           0.24024,     0.24124,     0.24224,     0.24324,     0.24424,     0.24525,     0.24625,     0.24725,     0.24825,     0.24925,     0.25025,     0.25125,     0.25225,     0.25325,     0.25425,     0.25526,     0.25626,     0.25726,     0.25826,     0.25926,     0.26026,     0.26126,     0.26226,     0.26326,\n",
       "           0.26426,     0.26527,     0.26627,     0.26727,     0.26827,     0.26927,     0.27027,     0.27127,     0.27227,     0.27327,     0.27427,     0.27528,     0.27628,     0.27728,     0.27828,     0.27928,     0.28028,     0.28128,     0.28228,     0.28328,     0.28428,     0.28529,     0.28629,     0.28729,\n",
       "           0.28829,     0.28929,     0.29029,     0.29129,     0.29229,     0.29329,     0.29429,      0.2953,      0.2963,      0.2973,      0.2983,      0.2993,      0.3003,      0.3013,      0.3023,      0.3033,      0.3043,     0.30531,     0.30631,     0.30731,     0.30831,     0.30931,     0.31031,     0.31131,\n",
       "           0.31231,     0.31331,     0.31431,     0.31532,     0.31632,     0.31732,     0.31832,     0.31932,     0.32032,     0.32132,     0.32232,     0.32332,     0.32432,     0.32533,     0.32633,     0.32733,     0.32833,     0.32933,     0.33033,     0.33133,     0.33233,     0.33333,     0.33433,     0.33534,\n",
       "           0.33634,     0.33734,     0.33834,     0.33934,     0.34034,     0.34134,     0.34234,     0.34334,     0.34434,     0.34535,     0.34635,     0.34735,     0.34835,     0.34935,     0.35035,     0.35135,     0.35235,     0.35335,     0.35435,     0.35536,     0.35636,     0.35736,     0.35836,     0.35936,\n",
       "           0.36036,     0.36136,     0.36236,     0.36336,     0.36436,     0.36537,     0.36637,     0.36737,     0.36837,     0.36937,     0.37037,     0.37137,     0.37237,     0.37337,     0.37437,     0.37538,     0.37638,     0.37738,     0.37838,     0.37938,     0.38038,     0.38138,     0.38238,     0.38338,\n",
       "           0.38438,     0.38539,     0.38639,     0.38739,     0.38839,     0.38939,     0.39039,     0.39139,     0.39239,     0.39339,     0.39439,      0.3954,      0.3964,      0.3974,      0.3984,      0.3994,      0.4004,      0.4014,      0.4024,      0.4034,      0.4044,     0.40541,     0.40641,     0.40741,\n",
       "           0.40841,     0.40941,     0.41041,     0.41141,     0.41241,     0.41341,     0.41441,     0.41542,     0.41642,     0.41742,     0.41842,     0.41942,     0.42042,     0.42142,     0.42242,     0.42342,     0.42442,     0.42543,     0.42643,     0.42743,     0.42843,     0.42943,     0.43043,     0.43143,\n",
       "           0.43243,     0.43343,     0.43443,     0.43544,     0.43644,     0.43744,     0.43844,     0.43944,     0.44044,     0.44144,     0.44244,     0.44344,     0.44444,     0.44545,     0.44645,     0.44745,     0.44845,     0.44945,     0.45045,     0.45145,     0.45245,     0.45345,     0.45445,     0.45546,\n",
       "           0.45646,     0.45746,     0.45846,     0.45946,     0.46046,     0.46146,     0.46246,     0.46346,     0.46446,     0.46547,     0.46647,     0.46747,     0.46847,     0.46947,     0.47047,     0.47147,     0.47247,     0.47347,     0.47447,     0.47548,     0.47648,     0.47748,     0.47848,     0.47948,\n",
       "           0.48048,     0.48148,     0.48248,     0.48348,     0.48448,     0.48549,     0.48649,     0.48749,     0.48849,     0.48949,     0.49049,     0.49149,     0.49249,     0.49349,     0.49449,      0.4955,      0.4965,      0.4975,      0.4985,      0.4995,      0.5005,      0.5015,      0.5025,      0.5035,\n",
       "            0.5045,     0.50551,     0.50651,     0.50751,     0.50851,     0.50951,     0.51051,     0.51151,     0.51251,     0.51351,     0.51451,     0.51552,     0.51652,     0.51752,     0.51852,     0.51952,     0.52052,     0.52152,     0.52252,     0.52352,     0.52452,     0.52553,     0.52653,     0.52753,\n",
       "           0.52853,     0.52953,     0.53053,     0.53153,     0.53253,     0.53353,     0.53453,     0.53554,     0.53654,     0.53754,     0.53854,     0.53954,     0.54054,     0.54154,     0.54254,     0.54354,     0.54454,     0.54555,     0.54655,     0.54755,     0.54855,     0.54955,     0.55055,     0.55155,\n",
       "           0.55255,     0.55355,     0.55455,     0.55556,     0.55656,     0.55756,     0.55856,     0.55956,     0.56056,     0.56156,     0.56256,     0.56356,     0.56456,     0.56557,     0.56657,     0.56757,     0.56857,     0.56957,     0.57057,     0.57157,     0.57257,     0.57357,     0.57457,     0.57558,\n",
       "           0.57658,     0.57758,     0.57858,     0.57958,     0.58058,     0.58158,     0.58258,     0.58358,     0.58458,     0.58559,     0.58659,     0.58759,     0.58859,     0.58959,     0.59059,     0.59159,     0.59259,     0.59359,     0.59459,      0.5956,      0.5966,      0.5976,      0.5986,      0.5996,\n",
       "            0.6006,      0.6016,      0.6026,      0.6036,      0.6046,     0.60561,     0.60661,     0.60761,     0.60861,     0.60961,     0.61061,     0.61161,     0.61261,     0.61361,     0.61461,     0.61562,     0.61662,     0.61762,     0.61862,     0.61962,     0.62062,     0.62162,     0.62262,     0.62362,\n",
       "           0.62462,     0.62563,     0.62663,     0.62763,     0.62863,     0.62963,     0.63063,     0.63163,     0.63263,     0.63363,     0.63463,     0.63564,     0.63664,     0.63764,     0.63864,     0.63964,     0.64064,     0.64164,     0.64264,     0.64364,     0.64464,     0.64565,     0.64665,     0.64765,\n",
       "           0.64865,     0.64965,     0.65065,     0.65165,     0.65265,     0.65365,     0.65465,     0.65566,     0.65666,     0.65766,     0.65866,     0.65966,     0.66066,     0.66166,     0.66266,     0.66366,     0.66466,     0.66567,     0.66667,     0.66767,     0.66867,     0.66967,     0.67067,     0.67167,\n",
       "           0.67267,     0.67367,     0.67467,     0.67568,     0.67668,     0.67768,     0.67868,     0.67968,     0.68068,     0.68168,     0.68268,     0.68368,     0.68468,     0.68569,     0.68669,     0.68769,     0.68869,     0.68969,     0.69069,     0.69169,     0.69269,     0.69369,     0.69469,      0.6957,\n",
       "            0.6967,      0.6977,      0.6987,      0.6997,      0.7007,      0.7017,      0.7027,      0.7037,      0.7047,     0.70571,     0.70671,     0.70771,     0.70871,     0.70971,     0.71071,     0.71171,     0.71271,     0.71371,     0.71471,     0.71572,     0.71672,     0.71772,     0.71872,     0.71972,\n",
       "           0.72072,     0.72172,     0.72272,     0.72372,     0.72472,     0.72573,     0.72673,     0.72773,     0.72873,     0.72973,     0.73073,     0.73173,     0.73273,     0.73373,     0.73473,     0.73574,     0.73674,     0.73774,     0.73874,     0.73974,     0.74074,     0.74174,     0.74274,     0.74374,\n",
       "           0.74474,     0.74575,     0.74675,     0.74775,     0.74875,     0.74975,     0.75075,     0.75175,     0.75275,     0.75375,     0.75475,     0.75576,     0.75676,     0.75776,     0.75876,     0.75976,     0.76076,     0.76176,     0.76276,     0.76376,     0.76476,     0.76577,     0.76677,     0.76777,\n",
       "           0.76877,     0.76977,     0.77077,     0.77177,     0.77277,     0.77377,     0.77477,     0.77578,     0.77678,     0.77778,     0.77878,     0.77978,     0.78078,     0.78178,     0.78278,     0.78378,     0.78478,     0.78579,     0.78679,     0.78779,     0.78879,     0.78979,     0.79079,     0.79179,\n",
       "           0.79279,     0.79379,     0.79479,      0.7958,      0.7968,      0.7978,      0.7988,      0.7998,      0.8008,      0.8018,      0.8028,      0.8038,      0.8048,     0.80581,     0.80681,     0.80781,     0.80881,     0.80981,     0.81081,     0.81181,     0.81281,     0.81381,     0.81481,     0.81582,\n",
       "           0.81682,     0.81782,     0.81882,     0.81982,     0.82082,     0.82182,     0.82282,     0.82382,     0.82482,     0.82583,     0.82683,     0.82783,     0.82883,     0.82983,     0.83083,     0.83183,     0.83283,     0.83383,     0.83483,     0.83584,     0.83684,     0.83784,     0.83884,     0.83984,\n",
       "           0.84084,     0.84184,     0.84284,     0.84384,     0.84484,     0.84585,     0.84685,     0.84785,     0.84885,     0.84985,     0.85085,     0.85185,     0.85285,     0.85385,     0.85485,     0.85586,     0.85686,     0.85786,     0.85886,     0.85986,     0.86086,     0.86186,     0.86286,     0.86386,\n",
       "           0.86486,     0.86587,     0.86687,     0.86787,     0.86887,     0.86987,     0.87087,     0.87187,     0.87287,     0.87387,     0.87487,     0.87588,     0.87688,     0.87788,     0.87888,     0.87988,     0.88088,     0.88188,     0.88288,     0.88388,     0.88488,     0.88589,     0.88689,     0.88789,\n",
       "           0.88889,     0.88989,     0.89089,     0.89189,     0.89289,     0.89389,     0.89489,      0.8959,      0.8969,      0.8979,      0.8989,      0.8999,      0.9009,      0.9019,      0.9029,      0.9039,      0.9049,     0.90591,     0.90691,     0.90791,     0.90891,     0.90991,     0.91091,     0.91191,\n",
       "           0.91291,     0.91391,     0.91491,     0.91592,     0.91692,     0.91792,     0.91892,     0.91992,     0.92092,     0.92192,     0.92292,     0.92392,     0.92492,     0.92593,     0.92693,     0.92793,     0.92893,     0.92993,     0.93093,     0.93193,     0.93293,     0.93393,     0.93493,     0.93594,\n",
       "           0.93694,     0.93794,     0.93894,     0.93994,     0.94094,     0.94194,     0.94294,     0.94394,     0.94494,     0.94595,     0.94695,     0.94795,     0.94895,     0.94995,     0.95095,     0.95195,     0.95295,     0.95395,     0.95495,     0.95596,     0.95696,     0.95796,     0.95896,     0.95996,\n",
       "           0.96096,     0.96196,     0.96296,     0.96396,     0.96496,     0.96597,     0.96697,     0.96797,     0.96897,     0.96997,     0.97097,     0.97197,     0.97297,     0.97397,     0.97497,     0.97598,     0.97698,     0.97798,     0.97898,     0.97998,     0.98098,     0.98198,     0.98298,     0.98398,\n",
       "           0.98498,     0.98599,     0.98699,     0.98799,     0.98899,     0.98999,     0.99099,     0.99199,     0.99299,     0.99399,     0.99499,       0.996,       0.997,       0.998,       0.999,           1]), array([[          1,           1,           1,           1,           1,           1,           1,           1,           1,           1,           1,           1,           1,           1,           1,           1,           1,           1,           1,           1,           1,           1,           1,\n",
       "                  1,           1,           1,           1,           1,           1,           1,           1,           1,           1,           1,           1,           1,           1,           1,           1,           1,           1,           1,           1,           1,           1,           1,\n",
       "                  1,           1,           1,           1,           1,           1,           1,           1,           1,           1,           1,           1,           1,           1,           1,           1,           1,           1,           1,           1,           1,           1,           1,\n",
       "                  1,           1,           1,           1,           1,           1,           1,           1,           1,           1,           1,           1,           1,           1,           1,           1,           1,           1,           1,           1,           1,           1,           1,\n",
       "                  1,           1,           1,           1,           1,           1,           1,           1,           1,           1,           1,           1,           1,           1,           1,           1,           1,           1,           1,           1,           1,           1,           1,\n",
       "                  1,           1,           1,           1,           1,           1,           1,           1,           1,           1,           1,           1,           1,           1,           1,           1,           1,           1,           1,           1,           1,           1,           1,\n",
       "                  1,           1,           1,           1,           1,           1,           1,           1,           1,           1,           1,           1,           1,           1,           1,           1,           1,           1,           1,           1,           1,           1,           1,\n",
       "                  1,           1,           1,           1,           1,           1,           1,           1,           1,           1,           1,           1,           1,           1,           1,           1,           1,           1,           1,           1,           1,           1,           1,\n",
       "                  1,           1,           1,           1,           1,           1,           1,           1,           1,           1,           1,           1,           1,           1,           1,           1,           1,           1,           1,           1,           1,           1,           1,\n",
       "                  1,           1,           1,           1,           1,           1,           1,           1,           1,           1,           1,           1,           1,           1,           1,           1,           1,           1,           1,           1,           1,           1,           1,\n",
       "                  1,           1,           1,           1,           1,           1,           1,           1,           1,           1,           1,           1,           1,           1,           1,           1,           1,           1,           1,           1,           1,           1,           1,\n",
       "                  1,           1,           1,           1,           1,           1,           1,           1,           1,           1,           1,           1,           1,           1,           1,           1,           1,           1,           1,           1,           1,           1,           1,\n",
       "                  1,           1,           1,           1,           1,           1,           1,           1,           1,           1,           1,           1,           1,           1,           1,           1,           1,           1,           1,           1,           1,           1,           1,\n",
       "                  1,           1,           1,           1,           1,           1,           1,           1,           1,           1,           1,           1,           1,           1,           1,           1,           1,           1,           1,           1,           1,           1,           1,\n",
       "                  1,           1,           1,           1,           1,           1,           1,           1,           1,           1,           1,           1,           1,           1,           1,           1,           1,           1,           1,           1,           1,           1,           1,\n",
       "                  1,           1,           1,           1,           1,           1,           1,           1,           1,           1,           1,           1,           1,           1,           1,           1,           1,           1,           1,           1,           1,           1,           1,\n",
       "                  1,           1,           1,           1,           1,           1,           1,           1,           1,           1,           1,           1,           1,           1,           1,           1,           1,           1,           1,           1,           1,           1,           1,\n",
       "                  1,           1,           1,           1,           1,           1,           1,           1,           1,           1,           1,           1,           1,           1,           1,           1,           1,           1,           1,           1,           1,           1,           1,\n",
       "                  1,           1,           1,           1,           1,           1,           1,           1,           1,           1,           1,           1,           1,           1,           1,           1,           1,           1,           1,           1,           1,           1,           1,\n",
       "                  1,           1,           1,           1,           1,           1,           1,           1,           1,           1,           1,           1,           1,           1,           1,           1,           1,           1,           1,           1,           1,           1,           1,\n",
       "                  1,           1,           1,           1,           1,           1,           1,           1,           1,           1,           1,           1,           1,           1,           1,           1,           1,           1,           1,           1,           1,           1,           1,\n",
       "                  1,           1,           1,           1,           1,           1,           1,           1,           1,           1,           1,           1,           1,           1,           1,           1,           1,           1,           1,           1,           1,           1,           1,\n",
       "                  1,           1,           1,           1,           1,           1,           1,           1,           1,           1,           1,           1,           1,           1,           1,           1,           1,           1,           1,           1,           1,           1,           1,\n",
       "                  1,           1,           1,           1,           1,           1,           1,           1,           1,           1,           1,           1,           1,           1,           1,           1,           1,           1,           1,           1,           1,           1,           1,\n",
       "                  1,           1,           1,           1,           1,           1,           1,           1,           1,           1,           1,           1,           1,           1,           1,           1,           1,           1,           1,           1,           1,           1,           1,\n",
       "                  1,           1,           1,           1,           1,           1,           1,           1,           1,           1,           1,           1,           1,           1,           1,           1,           1,           1,           1,           1,           1,           1,           1,\n",
       "                  1,           1,           1,           1,           1,           1,           1,           1,           1,           1,           1,           1,           1,           1,           1,           1,           1,           1,           1,           1,           1,           1,           1,\n",
       "                  1,           1,           1,           1,           1,           1,           1,           1,           1,           1,           1,           1,           1,           1,           1,           1,           1,           1,           1,           1,           1,           1,           1,\n",
       "                  1,           1,           1,           1,           1,           1,           1,           1,           1,           1,           1,           1,           1,           1,           1,           1,           1,           1,           1,           1,           1,           1,           1,\n",
       "                  1,           1,           1,           1,           1,           1,           1,           1,           1,           1,           1,           1,           1,           1,           1,           1,           1,           1,           1,           1,           1,           1,           1,\n",
       "                  1,           1,           1,           1,           1,           1,           1,           1,           1,           1,           1,           1,           1,           1,     0.97143,     0.97143,     0.97143,     0.97143,     0.97143,     0.97143,     0.97143,     0.97143,     0.97143,\n",
       "            0.97143,     0.97143,     0.97143,     0.97143,     0.97143,     0.97143,     0.97143,     0.97143,     0.97143,     0.97143,     0.97143,     0.97143,     0.97143,     0.97143,     0.97143,     0.97143,     0.97143,     0.97143,     0.97143,     0.97143,     0.97143,     0.97143,     0.97143,\n",
       "            0.97143,     0.97143,     0.97143,     0.97143,     0.97143,     0.97143,     0.97143,     0.97143,     0.97143,     0.97143,     0.97143,     0.97143,     0.97143,     0.97143,     0.97143,     0.97143,     0.97143,     0.97143,     0.97143,     0.97143,     0.97143,     0.97143,     0.97143,\n",
       "            0.97143,     0.97143,     0.97143,     0.97143,     0.97143,     0.97143,     0.97143,     0.97143,     0.97143,     0.97143,     0.97143,     0.97143,     0.97143,     0.88372,     0.88372,     0.88372,     0.88372,     0.88372,     0.88372,     0.88372,     0.88372,     0.88372,     0.88372,\n",
       "            0.88372,     0.88372,     0.88372,     0.88372,     0.88372,     0.88372,     0.88372,     0.88372,     0.88372,     0.88372,     0.88372,     0.88372,     0.88372,     0.88372,     0.88372,     0.88372,     0.88372,     0.88372,     0.88372,     0.88372,     0.88372,     0.88372,     0.88372,\n",
       "            0.88372,     0.88372,     0.88372,     0.88372,     0.88372,     0.88372,     0.88372,     0.88372,     0.88372,     0.88372,     0.88372,     0.88372,     0.88372,     0.88372,     0.88372,     0.88372,     0.88372,     0.88372,     0.88372,     0.88372,     0.88372,     0.88372,     0.88372,\n",
       "            0.88372,     0.88372,     0.88372,     0.88372,     0.88372,     0.88372,     0.88372,     0.88372,     0.88372,     0.88372,     0.88372,     0.88372,     0.88372,     0.88372,     0.88372,     0.88372,     0.88372,     0.88372,     0.88372,     0.88372,     0.88372,     0.88372,     0.88372,\n",
       "            0.88372,     0.88372,     0.88372,     0.88372,     0.88372,     0.88372,     0.88372,     0.88372,     0.88372,     0.88372,     0.88372,     0.88372,     0.86667,     0.86667,     0.86667,     0.86667,     0.86667,     0.86667,     0.86667,     0.86667,     0.86667,     0.86667,     0.86667,\n",
       "            0.86667,     0.86667,     0.86667,     0.86667,     0.86667,     0.86667,     0.86667,     0.86667,     0.86667,     0.86667,     0.86667,     0.86667,     0.83333,     0.83333,     0.83333,     0.83333,     0.83333,     0.83333,     0.83333,     0.83333,     0.83333,     0.83333,     0.83333,\n",
       "            0.83333,     0.83333,     0.83333,     0.83333,     0.83333,     0.83333,     0.83333,     0.83333,     0.83333,     0.83333,     0.83333,     0.83333,     0.20646,     0.20416,     0.20187,     0.19957,     0.19728,     0.19499,     0.19269,      0.1904,      0.1881,     0.18581,     0.18352,\n",
       "            0.18122,     0.17893,     0.17663,     0.17434,     0.17205,     0.16975,     0.16746,     0.16517,     0.16287,     0.16058,     0.15828,     0.15599,      0.1537,      0.1514,     0.14911,     0.14681,     0.14452,     0.14223,     0.13993,     0.13764,     0.13534,     0.13305,     0.13076,\n",
       "            0.12846,     0.12617,     0.12387,     0.12158,     0.11929,     0.11699,      0.1147,      0.1124,     0.11011,     0.10782,     0.10552,     0.10323,     0.10093,     0.09864,    0.096346,    0.094052,    0.091758,    0.089464,    0.087171,    0.084877,    0.082583,    0.080289,    0.077995,\n",
       "           0.075701,    0.073407,    0.071113,    0.068819,    0.066525,    0.064231,    0.061937,    0.059643,    0.057349,    0.055055,    0.052761,    0.050467,    0.048173,    0.045879,    0.043585,    0.041291,    0.038997,    0.036703,    0.034409,    0.032115,    0.029821,    0.027528,    0.025234,\n",
       "            0.02294,    0.020646,    0.018352,    0.016058,    0.013764,     0.01147,   0.0091758,   0.0068819,   0.0045879,    0.002294,           0]]), 'Recall', 'Precision'], [array([          0,    0.001001,    0.002002,    0.003003,    0.004004,    0.005005,    0.006006,    0.007007,    0.008008,    0.009009,     0.01001,    0.011011,    0.012012,    0.013013,    0.014014,    0.015015,    0.016016,    0.017017,    0.018018,    0.019019,     0.02002,    0.021021,    0.022022,    0.023023,\n",
       "          0.024024,    0.025025,    0.026026,    0.027027,    0.028028,    0.029029,     0.03003,    0.031031,    0.032032,    0.033033,    0.034034,    0.035035,    0.036036,    0.037037,    0.038038,    0.039039,     0.04004,    0.041041,    0.042042,    0.043043,    0.044044,    0.045045,    0.046046,    0.047047,\n",
       "          0.048048,    0.049049,     0.05005,    0.051051,    0.052052,    0.053053,    0.054054,    0.055055,    0.056056,    0.057057,    0.058058,    0.059059,     0.06006,    0.061061,    0.062062,    0.063063,    0.064064,    0.065065,    0.066066,    0.067067,    0.068068,    0.069069,     0.07007,    0.071071,\n",
       "          0.072072,    0.073073,    0.074074,    0.075075,    0.076076,    0.077077,    0.078078,    0.079079,     0.08008,    0.081081,    0.082082,    0.083083,    0.084084,    0.085085,    0.086086,    0.087087,    0.088088,    0.089089,     0.09009,    0.091091,    0.092092,    0.093093,    0.094094,    0.095095,\n",
       "          0.096096,    0.097097,    0.098098,    0.099099,      0.1001,      0.1011,      0.1021,      0.1031,      0.1041,     0.10511,     0.10611,     0.10711,     0.10811,     0.10911,     0.11011,     0.11111,     0.11211,     0.11311,     0.11411,     0.11512,     0.11612,     0.11712,     0.11812,     0.11912,\n",
       "           0.12012,     0.12112,     0.12212,     0.12312,     0.12412,     0.12513,     0.12613,     0.12713,     0.12813,     0.12913,     0.13013,     0.13113,     0.13213,     0.13313,     0.13413,     0.13514,     0.13614,     0.13714,     0.13814,     0.13914,     0.14014,     0.14114,     0.14214,     0.14314,\n",
       "           0.14414,     0.14515,     0.14615,     0.14715,     0.14815,     0.14915,     0.15015,     0.15115,     0.15215,     0.15315,     0.15415,     0.15516,     0.15616,     0.15716,     0.15816,     0.15916,     0.16016,     0.16116,     0.16216,     0.16316,     0.16416,     0.16517,     0.16617,     0.16717,\n",
       "           0.16817,     0.16917,     0.17017,     0.17117,     0.17217,     0.17317,     0.17417,     0.17518,     0.17618,     0.17718,     0.17818,     0.17918,     0.18018,     0.18118,     0.18218,     0.18318,     0.18418,     0.18519,     0.18619,     0.18719,     0.18819,     0.18919,     0.19019,     0.19119,\n",
       "           0.19219,     0.19319,     0.19419,      0.1952,      0.1962,      0.1972,      0.1982,      0.1992,      0.2002,      0.2012,      0.2022,      0.2032,      0.2042,     0.20521,     0.20621,     0.20721,     0.20821,     0.20921,     0.21021,     0.21121,     0.21221,     0.21321,     0.21421,     0.21522,\n",
       "           0.21622,     0.21722,     0.21822,     0.21922,     0.22022,     0.22122,     0.22222,     0.22322,     0.22422,     0.22523,     0.22623,     0.22723,     0.22823,     0.22923,     0.23023,     0.23123,     0.23223,     0.23323,     0.23423,     0.23524,     0.23624,     0.23724,     0.23824,     0.23924,\n",
       "           0.24024,     0.24124,     0.24224,     0.24324,     0.24424,     0.24525,     0.24625,     0.24725,     0.24825,     0.24925,     0.25025,     0.25125,     0.25225,     0.25325,     0.25425,     0.25526,     0.25626,     0.25726,     0.25826,     0.25926,     0.26026,     0.26126,     0.26226,     0.26326,\n",
       "           0.26426,     0.26527,     0.26627,     0.26727,     0.26827,     0.26927,     0.27027,     0.27127,     0.27227,     0.27327,     0.27427,     0.27528,     0.27628,     0.27728,     0.27828,     0.27928,     0.28028,     0.28128,     0.28228,     0.28328,     0.28428,     0.28529,     0.28629,     0.28729,\n",
       "           0.28829,     0.28929,     0.29029,     0.29129,     0.29229,     0.29329,     0.29429,      0.2953,      0.2963,      0.2973,      0.2983,      0.2993,      0.3003,      0.3013,      0.3023,      0.3033,      0.3043,     0.30531,     0.30631,     0.30731,     0.30831,     0.30931,     0.31031,     0.31131,\n",
       "           0.31231,     0.31331,     0.31431,     0.31532,     0.31632,     0.31732,     0.31832,     0.31932,     0.32032,     0.32132,     0.32232,     0.32332,     0.32432,     0.32533,     0.32633,     0.32733,     0.32833,     0.32933,     0.33033,     0.33133,     0.33233,     0.33333,     0.33433,     0.33534,\n",
       "           0.33634,     0.33734,     0.33834,     0.33934,     0.34034,     0.34134,     0.34234,     0.34334,     0.34434,     0.34535,     0.34635,     0.34735,     0.34835,     0.34935,     0.35035,     0.35135,     0.35235,     0.35335,     0.35435,     0.35536,     0.35636,     0.35736,     0.35836,     0.35936,\n",
       "           0.36036,     0.36136,     0.36236,     0.36336,     0.36436,     0.36537,     0.36637,     0.36737,     0.36837,     0.36937,     0.37037,     0.37137,     0.37237,     0.37337,     0.37437,     0.37538,     0.37638,     0.37738,     0.37838,     0.37938,     0.38038,     0.38138,     0.38238,     0.38338,\n",
       "           0.38438,     0.38539,     0.38639,     0.38739,     0.38839,     0.38939,     0.39039,     0.39139,     0.39239,     0.39339,     0.39439,      0.3954,      0.3964,      0.3974,      0.3984,      0.3994,      0.4004,      0.4014,      0.4024,      0.4034,      0.4044,     0.40541,     0.40641,     0.40741,\n",
       "           0.40841,     0.40941,     0.41041,     0.41141,     0.41241,     0.41341,     0.41441,     0.41542,     0.41642,     0.41742,     0.41842,     0.41942,     0.42042,     0.42142,     0.42242,     0.42342,     0.42442,     0.42543,     0.42643,     0.42743,     0.42843,     0.42943,     0.43043,     0.43143,\n",
       "           0.43243,     0.43343,     0.43443,     0.43544,     0.43644,     0.43744,     0.43844,     0.43944,     0.44044,     0.44144,     0.44244,     0.44344,     0.44444,     0.44545,     0.44645,     0.44745,     0.44845,     0.44945,     0.45045,     0.45145,     0.45245,     0.45345,     0.45445,     0.45546,\n",
       "           0.45646,     0.45746,     0.45846,     0.45946,     0.46046,     0.46146,     0.46246,     0.46346,     0.46446,     0.46547,     0.46647,     0.46747,     0.46847,     0.46947,     0.47047,     0.47147,     0.47247,     0.47347,     0.47447,     0.47548,     0.47648,     0.47748,     0.47848,     0.47948,\n",
       "           0.48048,     0.48148,     0.48248,     0.48348,     0.48448,     0.48549,     0.48649,     0.48749,     0.48849,     0.48949,     0.49049,     0.49149,     0.49249,     0.49349,     0.49449,      0.4955,      0.4965,      0.4975,      0.4985,      0.4995,      0.5005,      0.5015,      0.5025,      0.5035,\n",
       "            0.5045,     0.50551,     0.50651,     0.50751,     0.50851,     0.50951,     0.51051,     0.51151,     0.51251,     0.51351,     0.51451,     0.51552,     0.51652,     0.51752,     0.51852,     0.51952,     0.52052,     0.52152,     0.52252,     0.52352,     0.52452,     0.52553,     0.52653,     0.52753,\n",
       "           0.52853,     0.52953,     0.53053,     0.53153,     0.53253,     0.53353,     0.53453,     0.53554,     0.53654,     0.53754,     0.53854,     0.53954,     0.54054,     0.54154,     0.54254,     0.54354,     0.54454,     0.54555,     0.54655,     0.54755,     0.54855,     0.54955,     0.55055,     0.55155,\n",
       "           0.55255,     0.55355,     0.55455,     0.55556,     0.55656,     0.55756,     0.55856,     0.55956,     0.56056,     0.56156,     0.56256,     0.56356,     0.56456,     0.56557,     0.56657,     0.56757,     0.56857,     0.56957,     0.57057,     0.57157,     0.57257,     0.57357,     0.57457,     0.57558,\n",
       "           0.57658,     0.57758,     0.57858,     0.57958,     0.58058,     0.58158,     0.58258,     0.58358,     0.58458,     0.58559,     0.58659,     0.58759,     0.58859,     0.58959,     0.59059,     0.59159,     0.59259,     0.59359,     0.59459,      0.5956,      0.5966,      0.5976,      0.5986,      0.5996,\n",
       "            0.6006,      0.6016,      0.6026,      0.6036,      0.6046,     0.60561,     0.60661,     0.60761,     0.60861,     0.60961,     0.61061,     0.61161,     0.61261,     0.61361,     0.61461,     0.61562,     0.61662,     0.61762,     0.61862,     0.61962,     0.62062,     0.62162,     0.62262,     0.62362,\n",
       "           0.62462,     0.62563,     0.62663,     0.62763,     0.62863,     0.62963,     0.63063,     0.63163,     0.63263,     0.63363,     0.63463,     0.63564,     0.63664,     0.63764,     0.63864,     0.63964,     0.64064,     0.64164,     0.64264,     0.64364,     0.64464,     0.64565,     0.64665,     0.64765,\n",
       "           0.64865,     0.64965,     0.65065,     0.65165,     0.65265,     0.65365,     0.65465,     0.65566,     0.65666,     0.65766,     0.65866,     0.65966,     0.66066,     0.66166,     0.66266,     0.66366,     0.66466,     0.66567,     0.66667,     0.66767,     0.66867,     0.66967,     0.67067,     0.67167,\n",
       "           0.67267,     0.67367,     0.67467,     0.67568,     0.67668,     0.67768,     0.67868,     0.67968,     0.68068,     0.68168,     0.68268,     0.68368,     0.68468,     0.68569,     0.68669,     0.68769,     0.68869,     0.68969,     0.69069,     0.69169,     0.69269,     0.69369,     0.69469,      0.6957,\n",
       "            0.6967,      0.6977,      0.6987,      0.6997,      0.7007,      0.7017,      0.7027,      0.7037,      0.7047,     0.70571,     0.70671,     0.70771,     0.70871,     0.70971,     0.71071,     0.71171,     0.71271,     0.71371,     0.71471,     0.71572,     0.71672,     0.71772,     0.71872,     0.71972,\n",
       "           0.72072,     0.72172,     0.72272,     0.72372,     0.72472,     0.72573,     0.72673,     0.72773,     0.72873,     0.72973,     0.73073,     0.73173,     0.73273,     0.73373,     0.73473,     0.73574,     0.73674,     0.73774,     0.73874,     0.73974,     0.74074,     0.74174,     0.74274,     0.74374,\n",
       "           0.74474,     0.74575,     0.74675,     0.74775,     0.74875,     0.74975,     0.75075,     0.75175,     0.75275,     0.75375,     0.75475,     0.75576,     0.75676,     0.75776,     0.75876,     0.75976,     0.76076,     0.76176,     0.76276,     0.76376,     0.76476,     0.76577,     0.76677,     0.76777,\n",
       "           0.76877,     0.76977,     0.77077,     0.77177,     0.77277,     0.77377,     0.77477,     0.77578,     0.77678,     0.77778,     0.77878,     0.77978,     0.78078,     0.78178,     0.78278,     0.78378,     0.78478,     0.78579,     0.78679,     0.78779,     0.78879,     0.78979,     0.79079,     0.79179,\n",
       "           0.79279,     0.79379,     0.79479,      0.7958,      0.7968,      0.7978,      0.7988,      0.7998,      0.8008,      0.8018,      0.8028,      0.8038,      0.8048,     0.80581,     0.80681,     0.80781,     0.80881,     0.80981,     0.81081,     0.81181,     0.81281,     0.81381,     0.81481,     0.81582,\n",
       "           0.81682,     0.81782,     0.81882,     0.81982,     0.82082,     0.82182,     0.82282,     0.82382,     0.82482,     0.82583,     0.82683,     0.82783,     0.82883,     0.82983,     0.83083,     0.83183,     0.83283,     0.83383,     0.83483,     0.83584,     0.83684,     0.83784,     0.83884,     0.83984,\n",
       "           0.84084,     0.84184,     0.84284,     0.84384,     0.84484,     0.84585,     0.84685,     0.84785,     0.84885,     0.84985,     0.85085,     0.85185,     0.85285,     0.85385,     0.85485,     0.85586,     0.85686,     0.85786,     0.85886,     0.85986,     0.86086,     0.86186,     0.86286,     0.86386,\n",
       "           0.86486,     0.86587,     0.86687,     0.86787,     0.86887,     0.86987,     0.87087,     0.87187,     0.87287,     0.87387,     0.87487,     0.87588,     0.87688,     0.87788,     0.87888,     0.87988,     0.88088,     0.88188,     0.88288,     0.88388,     0.88488,     0.88589,     0.88689,     0.88789,\n",
       "           0.88889,     0.88989,     0.89089,     0.89189,     0.89289,     0.89389,     0.89489,      0.8959,      0.8969,      0.8979,      0.8989,      0.8999,      0.9009,      0.9019,      0.9029,      0.9039,      0.9049,     0.90591,     0.90691,     0.90791,     0.90891,     0.90991,     0.91091,     0.91191,\n",
       "           0.91291,     0.91391,     0.91491,     0.91592,     0.91692,     0.91792,     0.91892,     0.91992,     0.92092,     0.92192,     0.92292,     0.92392,     0.92492,     0.92593,     0.92693,     0.92793,     0.92893,     0.92993,     0.93093,     0.93193,     0.93293,     0.93393,     0.93493,     0.93594,\n",
       "           0.93694,     0.93794,     0.93894,     0.93994,     0.94094,     0.94194,     0.94294,     0.94394,     0.94494,     0.94595,     0.94695,     0.94795,     0.94895,     0.94995,     0.95095,     0.95195,     0.95295,     0.95395,     0.95495,     0.95596,     0.95696,     0.95796,     0.95896,     0.95996,\n",
       "           0.96096,     0.96196,     0.96296,     0.96396,     0.96496,     0.96597,     0.96697,     0.96797,     0.96897,     0.96997,     0.97097,     0.97197,     0.97297,     0.97397,     0.97497,     0.97598,     0.97698,     0.97798,     0.97898,     0.97998,     0.98098,     0.98198,     0.98298,     0.98398,\n",
       "           0.98498,     0.98599,     0.98699,     0.98799,     0.98899,     0.98999,     0.99099,     0.99199,     0.99299,     0.99399,     0.99499,       0.996,       0.997,       0.998,       0.999,           1]), array([[    0.33898,     0.33898,      0.4345,     0.48644,     0.53122,     0.56557,     0.59129,     0.60125,     0.63636,     0.64141,     0.64488,     0.64758,     0.65019,     0.66998,     0.68124,     0.68602,     0.69015,     0.69428,     0.69807,     0.70169,     0.70859,     0.70995,      0.7113,\n",
       "            0.71265,     0.71399,     0.71507,     0.71609,     0.71709,      0.7181,     0.71911,     0.72011,     0.72737,     0.72822,     0.72907,     0.72992,     0.73077,     0.73162,     0.73246,     0.73331,      0.7348,     0.73826,     0.74094,     0.74164,     0.74235,     0.74305,     0.74375,\n",
       "            0.74445,     0.74515,     0.74585,     0.74654,     0.74724,     0.75473,     0.75499,     0.75526,     0.75553,     0.75579,     0.75606,     0.75633,     0.75659,     0.75686,     0.75713,     0.75739,     0.75766,     0.75792,     0.75819,     0.75845,     0.75872,     0.75898,     0.75925,\n",
       "            0.75951,     0.75978,     0.76004,     0.76031,     0.76057,     0.76084,      0.7611,     0.76136,     0.76163,     0.76189,     0.76229,      0.7627,     0.76311,     0.76352,     0.76393,     0.76434,     0.76475,     0.76516,     0.76556,     0.76597,     0.76638,     0.76678,     0.76719,\n",
       "             0.7676,       0.768,     0.76841,     0.76881,     0.76922,     0.76954,     0.76986,     0.77018,      0.7705,     0.77082,     0.77114,     0.77146,     0.77178,      0.7721,     0.77241,     0.77273,     0.77305,     0.77337,     0.77369,       0.774,     0.77432,     0.77464,     0.77496,\n",
       "            0.77527,     0.77559,     0.77591,     0.77622,     0.77654,       0.777,     0.77761,     0.77822,     0.77884,     0.77945,     0.78006,     0.78067,     0.78128,     0.78189,     0.78249,      0.7831,     0.78371,     0.78431,     0.78693,     0.78953,     0.79209,     0.79253,     0.79297,\n",
       "            0.79342,     0.79386,      0.7943,     0.79475,     0.79519,     0.79563,     0.79607,     0.79651,     0.79695,     0.79739,     0.79783,     0.79827,     0.79871,     0.79915,     0.79959,     0.80002,     0.80043,     0.80083,     0.80123,     0.80163,     0.80203,     0.80244,     0.80284,\n",
       "            0.80324,     0.80364,     0.80404,     0.80444,     0.80484,     0.80524,     0.80564,     0.80604,     0.80643,     0.80683,     0.80723,     0.80763,     0.80802,     0.80828,     0.80852,     0.80876,       0.809,     0.80924,     0.80948,     0.80971,     0.80995,     0.81019,     0.81043,\n",
       "            0.81066,      0.8109,     0.81114,     0.81137,     0.81161,     0.81185,     0.81208,     0.81232,     0.81256,     0.81279,     0.81303,     0.81327,      0.8135,     0.81374,     0.81397,     0.81421,     0.81445,     0.81468,     0.81492,     0.81515,     0.81539,     0.81562,     0.81586,\n",
       "            0.81609,     0.81633,     0.81681,      0.8173,     0.81778,     0.81827,     0.81875,     0.81924,     0.81972,     0.82021,     0.82069,     0.82117,     0.82166,     0.82214,     0.82262,      0.8231,     0.82358,     0.82406,     0.82454,     0.82519,     0.82597,     0.82674,     0.82752,\n",
       "            0.82829,     0.82906,     0.82983,      0.8306,     0.83136,     0.83213,     0.83289,     0.83357,     0.83413,     0.83469,     0.83525,     0.83581,     0.83637,     0.83693,     0.83748,     0.83804,      0.8386,     0.83915,      0.8397,     0.84026,     0.84081,     0.84136,     0.84192,\n",
       "            0.85348,     0.85713,     0.86023,     0.86036,     0.86048,     0.86061,     0.86073,     0.86086,     0.86098,     0.86111,     0.86123,     0.86136,     0.86148,     0.86161,     0.86173,     0.86185,     0.86198,      0.8621,     0.86223,     0.86235,     0.86248,      0.8626,     0.86273,\n",
       "            0.86285,     0.86297,      0.8631,     0.86322,     0.86335,     0.86347,     0.86359,     0.86372,     0.86384,     0.86397,     0.86409,     0.86421,     0.86434,     0.86446,     0.86459,     0.86471,     0.86483,     0.86496,     0.86508,      0.8652,     0.86533,     0.86545,     0.86558,\n",
       "             0.8657,     0.86582,     0.86595,     0.86607,     0.86619,     0.86632,     0.86644,     0.86656,     0.86669,     0.86681,     0.86693,     0.86706,     0.86718,      0.8673,     0.86742,     0.86755,     0.86767,     0.86779,     0.86792,     0.86804,     0.86816,     0.86828,     0.86841,\n",
       "            0.86853,     0.86865,     0.86878,      0.8689,     0.86902,     0.86914,     0.86927,     0.86939,     0.86951,     0.86925,     0.86869,     0.86813,     0.86756,       0.867,     0.86644,     0.86588,     0.86531,     0.86475,     0.86418,     0.86362,     0.86305,     0.86249,     0.86192,\n",
       "            0.86136,     0.86079,     0.86022,     0.85965,     0.85909,     0.85852,     0.85795,     0.85738,      0.8576,     0.85839,     0.85917,     0.85996,     0.86074,     0.86152,      0.8623,     0.86308,     0.86385,     0.86463,      0.8654,     0.86618,      0.8668,     0.86717,     0.86755,\n",
       "            0.86792,     0.86829,     0.86866,     0.86903,      0.8694,     0.86977,     0.87014,     0.87051,     0.87088,     0.87125,     0.87162,     0.87199,     0.87236,     0.87273,     0.87309,     0.87346,     0.87383,      0.8742,     0.87456,     0.87493,     0.87529,     0.87566,     0.87602,\n",
       "            0.87639,     0.87629,     0.87617,     0.87605,     0.87592,      0.8758,     0.87568,     0.87556,     0.87544,     0.87532,      0.8752,     0.87508,     0.87496,     0.87483,     0.87471,     0.87459,     0.87447,     0.87435,     0.87423,     0.87411,     0.87398,     0.87386,     0.87374,\n",
       "            0.87362,      0.8735,     0.87338,     0.87325,     0.87313,     0.87301,     0.87289,     0.87277,     0.87265,     0.87252,      0.8724,     0.87228,     0.87216,     0.87204,     0.87192,     0.87179,     0.87167,     0.87155,     0.87143,     0.87131,     0.87118,     0.87106,     0.87094,\n",
       "            0.87082,      0.8707,     0.87057,     0.87045,     0.87033,     0.87021,     0.87009,     0.86996,     0.86984,     0.86972,      0.8696,     0.86948,     0.86935,     0.86923,     0.86911,     0.86899,     0.86886,     0.86874,     0.86862,      0.8685,     0.86838,     0.86825,     0.86813,\n",
       "            0.86801,     0.86789,     0.86776,     0.86764,     0.86752,      0.8674,     0.86727,     0.86715,     0.86703,     0.86691,     0.86678,     0.86666,     0.86654,     0.86641,     0.86629,     0.86617,     0.86605,     0.86592,      0.8658,     0.86568,     0.86555,     0.86543,     0.86531,\n",
       "            0.86519,     0.86506,     0.86494,     0.86482,     0.86469,     0.86457,     0.86445,     0.86433,      0.8642,     0.86408,     0.86396,     0.86383,     0.86371,     0.86386,     0.86442,     0.86498,     0.86554,      0.8661,     0.86665,     0.86721,     0.86776,     0.86832,     0.86887,\n",
       "            0.86942,     0.86998,     0.87053,     0.87108,     0.87163,     0.87218,     0.87273,     0.87327,     0.87349,     0.87334,     0.87319,     0.87304,     0.87288,     0.87273,     0.87258,     0.87243,     0.87228,     0.87212,     0.87197,     0.87182,     0.87167,     0.87152,     0.87136,\n",
       "            0.87121,     0.87106,     0.87091,     0.87076,      0.8706,     0.87045,      0.8703,     0.87015,     0.86999,     0.86984,     0.86969,     0.86954,     0.86938,     0.86923,     0.86908,     0.86892,     0.86877,     0.86862,     0.86847,     0.86831,     0.86816,     0.86801,     0.86785,\n",
       "             0.8677,     0.86755,      0.8674,     0.86724,     0.86709,     0.86694,     0.86678,     0.86663,     0.86648,     0.86632,     0.86617,     0.86602,     0.86586,     0.86571,     0.86556,      0.8654,     0.86525,      0.8651,     0.86494,     0.86479,     0.86464,     0.86448,     0.86433,\n",
       "            0.86417,     0.86402,     0.86387,     0.86371,     0.86356,     0.86341,     0.86325,      0.8631,     0.86294,     0.86279,     0.86264,     0.86248,     0.86233,     0.86217,     0.86202,     0.86186,     0.86171,     0.86156,      0.8614,     0.86125,     0.86109,     0.86094,     0.86078,\n",
       "            0.86063,     0.86047,     0.85918,      0.8578,     0.85643,     0.85505,     0.85366,     0.85228,     0.85089,      0.8495,      0.8481,     0.84697,      0.8466,     0.84624,     0.84587,     0.84551,     0.84514,     0.84478,     0.84441,     0.84405,     0.84368,     0.84331,     0.84295,\n",
       "            0.84258,     0.84221,     0.84185,     0.84148,     0.84111,     0.84075,     0.84038,     0.84001,     0.83964,     0.83927,     0.83891,     0.83854,     0.83817,      0.8378,     0.83743,     0.83706,     0.83669,     0.83632,     0.83595,     0.83558,     0.83521,     0.83484,     0.83447,\n",
       "             0.8341,     0.83373,     0.83336,     0.83181,     0.83017,     0.82853,     0.82689,     0.82524,     0.82358,     0.82193,     0.82027,     0.81942,     0.81976,     0.82011,     0.82046,      0.8208,     0.82115,     0.82149,     0.82184,     0.82218,     0.82253,     0.82287,     0.82321,\n",
       "            0.82356,      0.8239,     0.82424,     0.82458,     0.82492,     0.82527,     0.82561,     0.82595,     0.82629,     0.82663,     0.82697,     0.82731,     0.82765,     0.82799,     0.82832,     0.82866,       0.829,     0.82933,      0.8296,     0.82987,     0.83015,     0.83042,      0.8307,\n",
       "            0.83097,     0.83124,     0.83152,     0.83179,     0.83206,     0.83234,     0.83261,     0.83288,     0.83315,     0.83343,      0.8337,     0.83397,     0.83424,     0.83451,     0.83478,     0.83505,     0.83532,     0.83559,     0.83586,     0.83613,      0.8364,     0.83667,     0.83694,\n",
       "            0.83721,     0.83748,     0.83775,     0.83801,     0.83828,     0.83855,     0.83882,     0.83909,     0.83935,     0.83968,     0.84007,     0.84046,     0.84086,     0.84125,     0.84164,     0.84204,     0.84243,     0.84282,     0.84321,      0.8436,     0.84399,     0.84438,     0.84477,\n",
       "            0.84516,     0.84555,     0.84594,     0.84633,     0.84671,      0.8471,     0.84749,     0.84787,     0.84826,     0.84864,     0.84903,     0.84941,      0.8498,     0.85031,     0.85095,      0.8516,     0.85224,     0.85289,     0.85353,     0.85417,     0.85481,     0.85545,     0.85609,\n",
       "            0.85672,     0.85736,     0.85799,     0.85863,     0.85926,     0.85989,     0.86052,     0.85801,     0.85353,     0.84902,     0.84484,     0.84126,     0.83766,     0.83403,     0.82666,     0.81643,     0.81774,     0.81904,     0.82034,     0.82163,     0.82291,     0.82419,     0.82547,\n",
       "            0.82638,     0.82086,     0.81529,     0.80995,     0.80572,     0.80145,     0.79716,     0.79049,     0.78004,     0.76844,     0.75997,     0.75824,      0.7565,     0.75476,     0.75302,     0.75127,     0.74951,     0.74775,     0.74599,     0.74422,     0.74203,     0.73845,     0.73486,\n",
       "            0.73124,     0.72761,     0.72293,     0.71371,     0.70565,     0.70424,     0.70282,      0.7014,     0.69997,     0.69855,     0.69712,     0.69568,     0.69425,      0.6928,     0.69136,     0.68991,     0.68846,     0.68701,     0.68495,     0.68261,     0.68026,      0.6779,     0.67554,\n",
       "            0.67317,     0.67079,      0.6684,     0.64508,      0.6412,     0.63729,     0.63337,     0.62942,     0.62545,     0.59926,     0.59356,     0.58781,     0.58201,     0.57592,      0.5697,     0.56342,     0.55723,     0.55387,      0.5505,     0.54711,     0.54371,     0.54029,     0.53685,\n",
       "             0.5334,     0.52752,     0.52154,     0.51551,     0.50944,     0.42309,     0.40921,      0.3972,     0.38904,      0.3808,     0.37248,     0.35913,     0.34386,     0.27671,     0.26929,     0.26376,      0.2582,      0.2526,     0.24696,     0.24128,     0.22284,     0.18925,     0.16385,\n",
       "            0.16007,     0.15627,     0.15245,     0.14862,     0.14477,      0.1409,     0.13702,     0.13313,     0.12921,      0.1266,     0.12485,      0.1231,     0.12135,     0.11959,     0.11782,     0.11606,     0.11429,     0.11252,     0.11074,     0.10896,     0.10718,     0.10539,      0.1036,\n",
       "            0.10181,     0.10001,    0.098215,    0.096412,    0.094606,    0.092796,    0.090983,    0.089167,    0.087347,     0.08452,    0.081412,    0.078293,    0.075164,    0.072025,    0.068876,    0.065717,    0.062547,    0.059366,    0.056176,    0.052974,    0.049762,     0.04654,           0,\n",
       "                  0,           0,           0,           0,           0,           0,           0,           0,           0,           0,           0,           0,           0,           0,           0,           0,           0,           0,           0,           0,           0,           0,           0,\n",
       "                  0,           0,           0,           0,           0,           0,           0,           0,           0,           0,           0,           0,           0,           0,           0,           0,           0,           0,           0,           0,           0,           0,           0,\n",
       "                  0,           0,           0,           0,           0,           0,           0,           0,           0,           0,           0,           0,           0,           0,           0,           0,           0,           0,           0,           0,           0,           0,           0,\n",
       "                  0,           0,           0,           0,           0,           0,           0,           0,           0,           0,           0]]), 'Confidence', 'F1'], [array([          0,    0.001001,    0.002002,    0.003003,    0.004004,    0.005005,    0.006006,    0.007007,    0.008008,    0.009009,     0.01001,    0.011011,    0.012012,    0.013013,    0.014014,    0.015015,    0.016016,    0.017017,    0.018018,    0.019019,     0.02002,    0.021021,    0.022022,    0.023023,\n",
       "          0.024024,    0.025025,    0.026026,    0.027027,    0.028028,    0.029029,     0.03003,    0.031031,    0.032032,    0.033033,    0.034034,    0.035035,    0.036036,    0.037037,    0.038038,    0.039039,     0.04004,    0.041041,    0.042042,    0.043043,    0.044044,    0.045045,    0.046046,    0.047047,\n",
       "          0.048048,    0.049049,     0.05005,    0.051051,    0.052052,    0.053053,    0.054054,    0.055055,    0.056056,    0.057057,    0.058058,    0.059059,     0.06006,    0.061061,    0.062062,    0.063063,    0.064064,    0.065065,    0.066066,    0.067067,    0.068068,    0.069069,     0.07007,    0.071071,\n",
       "          0.072072,    0.073073,    0.074074,    0.075075,    0.076076,    0.077077,    0.078078,    0.079079,     0.08008,    0.081081,    0.082082,    0.083083,    0.084084,    0.085085,    0.086086,    0.087087,    0.088088,    0.089089,     0.09009,    0.091091,    0.092092,    0.093093,    0.094094,    0.095095,\n",
       "          0.096096,    0.097097,    0.098098,    0.099099,      0.1001,      0.1011,      0.1021,      0.1031,      0.1041,     0.10511,     0.10611,     0.10711,     0.10811,     0.10911,     0.11011,     0.11111,     0.11211,     0.11311,     0.11411,     0.11512,     0.11612,     0.11712,     0.11812,     0.11912,\n",
       "           0.12012,     0.12112,     0.12212,     0.12312,     0.12412,     0.12513,     0.12613,     0.12713,     0.12813,     0.12913,     0.13013,     0.13113,     0.13213,     0.13313,     0.13413,     0.13514,     0.13614,     0.13714,     0.13814,     0.13914,     0.14014,     0.14114,     0.14214,     0.14314,\n",
       "           0.14414,     0.14515,     0.14615,     0.14715,     0.14815,     0.14915,     0.15015,     0.15115,     0.15215,     0.15315,     0.15415,     0.15516,     0.15616,     0.15716,     0.15816,     0.15916,     0.16016,     0.16116,     0.16216,     0.16316,     0.16416,     0.16517,     0.16617,     0.16717,\n",
       "           0.16817,     0.16917,     0.17017,     0.17117,     0.17217,     0.17317,     0.17417,     0.17518,     0.17618,     0.17718,     0.17818,     0.17918,     0.18018,     0.18118,     0.18218,     0.18318,     0.18418,     0.18519,     0.18619,     0.18719,     0.18819,     0.18919,     0.19019,     0.19119,\n",
       "           0.19219,     0.19319,     0.19419,      0.1952,      0.1962,      0.1972,      0.1982,      0.1992,      0.2002,      0.2012,      0.2022,      0.2032,      0.2042,     0.20521,     0.20621,     0.20721,     0.20821,     0.20921,     0.21021,     0.21121,     0.21221,     0.21321,     0.21421,     0.21522,\n",
       "           0.21622,     0.21722,     0.21822,     0.21922,     0.22022,     0.22122,     0.22222,     0.22322,     0.22422,     0.22523,     0.22623,     0.22723,     0.22823,     0.22923,     0.23023,     0.23123,     0.23223,     0.23323,     0.23423,     0.23524,     0.23624,     0.23724,     0.23824,     0.23924,\n",
       "           0.24024,     0.24124,     0.24224,     0.24324,     0.24424,     0.24525,     0.24625,     0.24725,     0.24825,     0.24925,     0.25025,     0.25125,     0.25225,     0.25325,     0.25425,     0.25526,     0.25626,     0.25726,     0.25826,     0.25926,     0.26026,     0.26126,     0.26226,     0.26326,\n",
       "           0.26426,     0.26527,     0.26627,     0.26727,     0.26827,     0.26927,     0.27027,     0.27127,     0.27227,     0.27327,     0.27427,     0.27528,     0.27628,     0.27728,     0.27828,     0.27928,     0.28028,     0.28128,     0.28228,     0.28328,     0.28428,     0.28529,     0.28629,     0.28729,\n",
       "           0.28829,     0.28929,     0.29029,     0.29129,     0.29229,     0.29329,     0.29429,      0.2953,      0.2963,      0.2973,      0.2983,      0.2993,      0.3003,      0.3013,      0.3023,      0.3033,      0.3043,     0.30531,     0.30631,     0.30731,     0.30831,     0.30931,     0.31031,     0.31131,\n",
       "           0.31231,     0.31331,     0.31431,     0.31532,     0.31632,     0.31732,     0.31832,     0.31932,     0.32032,     0.32132,     0.32232,     0.32332,     0.32432,     0.32533,     0.32633,     0.32733,     0.32833,     0.32933,     0.33033,     0.33133,     0.33233,     0.33333,     0.33433,     0.33534,\n",
       "           0.33634,     0.33734,     0.33834,     0.33934,     0.34034,     0.34134,     0.34234,     0.34334,     0.34434,     0.34535,     0.34635,     0.34735,     0.34835,     0.34935,     0.35035,     0.35135,     0.35235,     0.35335,     0.35435,     0.35536,     0.35636,     0.35736,     0.35836,     0.35936,\n",
       "           0.36036,     0.36136,     0.36236,     0.36336,     0.36436,     0.36537,     0.36637,     0.36737,     0.36837,     0.36937,     0.37037,     0.37137,     0.37237,     0.37337,     0.37437,     0.37538,     0.37638,     0.37738,     0.37838,     0.37938,     0.38038,     0.38138,     0.38238,     0.38338,\n",
       "           0.38438,     0.38539,     0.38639,     0.38739,     0.38839,     0.38939,     0.39039,     0.39139,     0.39239,     0.39339,     0.39439,      0.3954,      0.3964,      0.3974,      0.3984,      0.3994,      0.4004,      0.4014,      0.4024,      0.4034,      0.4044,     0.40541,     0.40641,     0.40741,\n",
       "           0.40841,     0.40941,     0.41041,     0.41141,     0.41241,     0.41341,     0.41441,     0.41542,     0.41642,     0.41742,     0.41842,     0.41942,     0.42042,     0.42142,     0.42242,     0.42342,     0.42442,     0.42543,     0.42643,     0.42743,     0.42843,     0.42943,     0.43043,     0.43143,\n",
       "           0.43243,     0.43343,     0.43443,     0.43544,     0.43644,     0.43744,     0.43844,     0.43944,     0.44044,     0.44144,     0.44244,     0.44344,     0.44444,     0.44545,     0.44645,     0.44745,     0.44845,     0.44945,     0.45045,     0.45145,     0.45245,     0.45345,     0.45445,     0.45546,\n",
       "           0.45646,     0.45746,     0.45846,     0.45946,     0.46046,     0.46146,     0.46246,     0.46346,     0.46446,     0.46547,     0.46647,     0.46747,     0.46847,     0.46947,     0.47047,     0.47147,     0.47247,     0.47347,     0.47447,     0.47548,     0.47648,     0.47748,     0.47848,     0.47948,\n",
       "           0.48048,     0.48148,     0.48248,     0.48348,     0.48448,     0.48549,     0.48649,     0.48749,     0.48849,     0.48949,     0.49049,     0.49149,     0.49249,     0.49349,     0.49449,      0.4955,      0.4965,      0.4975,      0.4985,      0.4995,      0.5005,      0.5015,      0.5025,      0.5035,\n",
       "            0.5045,     0.50551,     0.50651,     0.50751,     0.50851,     0.50951,     0.51051,     0.51151,     0.51251,     0.51351,     0.51451,     0.51552,     0.51652,     0.51752,     0.51852,     0.51952,     0.52052,     0.52152,     0.52252,     0.52352,     0.52452,     0.52553,     0.52653,     0.52753,\n",
       "           0.52853,     0.52953,     0.53053,     0.53153,     0.53253,     0.53353,     0.53453,     0.53554,     0.53654,     0.53754,     0.53854,     0.53954,     0.54054,     0.54154,     0.54254,     0.54354,     0.54454,     0.54555,     0.54655,     0.54755,     0.54855,     0.54955,     0.55055,     0.55155,\n",
       "           0.55255,     0.55355,     0.55455,     0.55556,     0.55656,     0.55756,     0.55856,     0.55956,     0.56056,     0.56156,     0.56256,     0.56356,     0.56456,     0.56557,     0.56657,     0.56757,     0.56857,     0.56957,     0.57057,     0.57157,     0.57257,     0.57357,     0.57457,     0.57558,\n",
       "           0.57658,     0.57758,     0.57858,     0.57958,     0.58058,     0.58158,     0.58258,     0.58358,     0.58458,     0.58559,     0.58659,     0.58759,     0.58859,     0.58959,     0.59059,     0.59159,     0.59259,     0.59359,     0.59459,      0.5956,      0.5966,      0.5976,      0.5986,      0.5996,\n",
       "            0.6006,      0.6016,      0.6026,      0.6036,      0.6046,     0.60561,     0.60661,     0.60761,     0.60861,     0.60961,     0.61061,     0.61161,     0.61261,     0.61361,     0.61461,     0.61562,     0.61662,     0.61762,     0.61862,     0.61962,     0.62062,     0.62162,     0.62262,     0.62362,\n",
       "           0.62462,     0.62563,     0.62663,     0.62763,     0.62863,     0.62963,     0.63063,     0.63163,     0.63263,     0.63363,     0.63463,     0.63564,     0.63664,     0.63764,     0.63864,     0.63964,     0.64064,     0.64164,     0.64264,     0.64364,     0.64464,     0.64565,     0.64665,     0.64765,\n",
       "           0.64865,     0.64965,     0.65065,     0.65165,     0.65265,     0.65365,     0.65465,     0.65566,     0.65666,     0.65766,     0.65866,     0.65966,     0.66066,     0.66166,     0.66266,     0.66366,     0.66466,     0.66567,     0.66667,     0.66767,     0.66867,     0.66967,     0.67067,     0.67167,\n",
       "           0.67267,     0.67367,     0.67467,     0.67568,     0.67668,     0.67768,     0.67868,     0.67968,     0.68068,     0.68168,     0.68268,     0.68368,     0.68468,     0.68569,     0.68669,     0.68769,     0.68869,     0.68969,     0.69069,     0.69169,     0.69269,     0.69369,     0.69469,      0.6957,\n",
       "            0.6967,      0.6977,      0.6987,      0.6997,      0.7007,      0.7017,      0.7027,      0.7037,      0.7047,     0.70571,     0.70671,     0.70771,     0.70871,     0.70971,     0.71071,     0.71171,     0.71271,     0.71371,     0.71471,     0.71572,     0.71672,     0.71772,     0.71872,     0.71972,\n",
       "           0.72072,     0.72172,     0.72272,     0.72372,     0.72472,     0.72573,     0.72673,     0.72773,     0.72873,     0.72973,     0.73073,     0.73173,     0.73273,     0.73373,     0.73473,     0.73574,     0.73674,     0.73774,     0.73874,     0.73974,     0.74074,     0.74174,     0.74274,     0.74374,\n",
       "           0.74474,     0.74575,     0.74675,     0.74775,     0.74875,     0.74975,     0.75075,     0.75175,     0.75275,     0.75375,     0.75475,     0.75576,     0.75676,     0.75776,     0.75876,     0.75976,     0.76076,     0.76176,     0.76276,     0.76376,     0.76476,     0.76577,     0.76677,     0.76777,\n",
       "           0.76877,     0.76977,     0.77077,     0.77177,     0.77277,     0.77377,     0.77477,     0.77578,     0.77678,     0.77778,     0.77878,     0.77978,     0.78078,     0.78178,     0.78278,     0.78378,     0.78478,     0.78579,     0.78679,     0.78779,     0.78879,     0.78979,     0.79079,     0.79179,\n",
       "           0.79279,     0.79379,     0.79479,      0.7958,      0.7968,      0.7978,      0.7988,      0.7998,      0.8008,      0.8018,      0.8028,      0.8038,      0.8048,     0.80581,     0.80681,     0.80781,     0.80881,     0.80981,     0.81081,     0.81181,     0.81281,     0.81381,     0.81481,     0.81582,\n",
       "           0.81682,     0.81782,     0.81882,     0.81982,     0.82082,     0.82182,     0.82282,     0.82382,     0.82482,     0.82583,     0.82683,     0.82783,     0.82883,     0.82983,     0.83083,     0.83183,     0.83283,     0.83383,     0.83483,     0.83584,     0.83684,     0.83784,     0.83884,     0.83984,\n",
       "           0.84084,     0.84184,     0.84284,     0.84384,     0.84484,     0.84585,     0.84685,     0.84785,     0.84885,     0.84985,     0.85085,     0.85185,     0.85285,     0.85385,     0.85485,     0.85586,     0.85686,     0.85786,     0.85886,     0.85986,     0.86086,     0.86186,     0.86286,     0.86386,\n",
       "           0.86486,     0.86587,     0.86687,     0.86787,     0.86887,     0.86987,     0.87087,     0.87187,     0.87287,     0.87387,     0.87487,     0.87588,     0.87688,     0.87788,     0.87888,     0.87988,     0.88088,     0.88188,     0.88288,     0.88388,     0.88488,     0.88589,     0.88689,     0.88789,\n",
       "           0.88889,     0.88989,     0.89089,     0.89189,     0.89289,     0.89389,     0.89489,      0.8959,      0.8969,      0.8979,      0.8989,      0.8999,      0.9009,      0.9019,      0.9029,      0.9039,      0.9049,     0.90591,     0.90691,     0.90791,     0.90891,     0.90991,     0.91091,     0.91191,\n",
       "           0.91291,     0.91391,     0.91491,     0.91592,     0.91692,     0.91792,     0.91892,     0.91992,     0.92092,     0.92192,     0.92292,     0.92392,     0.92492,     0.92593,     0.92693,     0.92793,     0.92893,     0.92993,     0.93093,     0.93193,     0.93293,     0.93393,     0.93493,     0.93594,\n",
       "           0.93694,     0.93794,     0.93894,     0.93994,     0.94094,     0.94194,     0.94294,     0.94394,     0.94494,     0.94595,     0.94695,     0.94795,     0.94895,     0.94995,     0.95095,     0.95195,     0.95295,     0.95395,     0.95495,     0.95596,     0.95696,     0.95796,     0.95896,     0.95996,\n",
       "           0.96096,     0.96196,     0.96296,     0.96396,     0.96496,     0.96597,     0.96697,     0.96797,     0.96897,     0.96997,     0.97097,     0.97197,     0.97297,     0.97397,     0.97497,     0.97598,     0.97698,     0.97798,     0.97898,     0.97998,     0.98098,     0.98198,     0.98298,     0.98398,\n",
       "           0.98498,     0.98599,     0.98699,     0.98799,     0.98899,     0.98999,     0.99099,     0.99199,     0.99299,     0.99399,     0.99499,       0.996,       0.997,       0.998,       0.999,           1]), array([[    0.20833,     0.20833,     0.28547,     0.33206,     0.37525,     0.41046,     0.43812,     0.44916,     0.48951,     0.49551,     0.49966,     0.50291,     0.50607,     0.53046,     0.54471,     0.55085,      0.5562,     0.56158,     0.56656,     0.57135,     0.58055,     0.58237,     0.58419,\n",
       "            0.58601,     0.58783,     0.58931,     0.59068,     0.59205,     0.59343,      0.5948,     0.59618,     0.60619,     0.60738,     0.60856,     0.60975,     0.61093,     0.61212,      0.6133,     0.61449,     0.61658,     0.62148,     0.62528,     0.62629,     0.62729,     0.62829,      0.6293,\n",
       "             0.6303,      0.6313,      0.6323,     0.63331,     0.63431,     0.64517,     0.64556,     0.64596,     0.64635,     0.64674,     0.64713,     0.64752,     0.64791,      0.6483,     0.64869,     0.64908,     0.64947,     0.64986,     0.65025,     0.65064,     0.65103,     0.65142,     0.65181,\n",
       "             0.6522,     0.65259,     0.65298,     0.65338,     0.65377,     0.65416,     0.65455,     0.65494,     0.65533,     0.65572,     0.65632,     0.65692,     0.65753,     0.65814,     0.65875,     0.65935,     0.65996,     0.66057,     0.66118,     0.66178,     0.66239,       0.663,     0.66361,\n",
       "            0.66422,     0.66482,     0.66543,     0.66604,     0.66665,     0.66713,     0.66761,     0.66809,     0.66858,     0.66906,     0.66954,     0.67002,      0.6705,     0.67098,     0.67146,     0.67194,     0.67243,     0.67291,     0.67339,     0.67387,     0.67435,     0.67483,     0.67531,\n",
       "            0.67579,     0.67628,     0.67676,     0.67724,     0.67772,     0.67842,     0.67936,     0.68029,     0.68123,     0.68217,      0.6831,     0.68404,     0.68497,     0.68591,     0.68685,     0.68778,     0.68872,     0.68965,     0.69371,     0.69776,     0.70177,     0.70246,     0.70316,\n",
       "            0.70386,     0.70456,     0.70525,     0.70595,     0.70665,     0.70735,     0.70805,     0.70874,     0.70944,     0.71014,     0.71084,     0.71153,     0.71223,     0.71293,     0.71363,     0.71432,     0.71496,     0.71561,     0.71625,     0.71689,     0.71754,     0.71818,     0.71882,\n",
       "            0.71947,     0.72011,     0.72075,     0.72139,     0.72204,     0.72268,     0.72332,     0.72397,     0.72461,     0.72525,     0.72589,     0.72654,     0.72718,      0.7276,     0.72799,     0.72838,     0.72876,     0.72915,     0.72954,     0.72992,     0.73031,     0.73069,     0.73108,\n",
       "            0.73147,     0.73185,     0.73224,     0.73263,     0.73301,      0.7334,     0.73378,     0.73417,     0.73456,     0.73494,     0.73533,     0.73572,      0.7361,     0.73649,     0.73688,     0.73726,     0.73765,     0.73803,     0.73842,     0.73881,     0.73919,     0.73958,     0.73997,\n",
       "            0.74035,     0.74074,     0.74154,     0.74234,     0.74314,     0.74395,     0.74475,     0.74555,     0.74635,     0.74716,     0.74796,     0.74876,     0.74956,     0.75037,     0.75117,     0.75197,     0.75277,     0.75358,     0.75438,     0.75547,     0.75677,     0.75807,     0.75937,\n",
       "            0.76068,     0.76198,     0.76328,     0.76458,     0.76588,     0.76718,     0.76848,     0.76964,     0.77059,     0.77155,     0.77251,     0.77346,     0.77442,     0.77538,     0.77633,     0.77729,     0.77825,      0.7792,     0.78016,     0.78112,     0.78207,     0.78303,     0.78399,\n",
       "            0.80428,     0.81079,     0.81636,     0.81658,     0.81681,     0.81703,     0.81726,     0.81748,     0.81771,     0.81793,     0.81816,     0.81838,     0.81861,     0.81883,     0.81906,     0.81928,     0.81951,     0.81973,     0.81996,     0.82018,     0.82041,     0.82063,     0.82086,\n",
       "            0.82108,     0.82131,     0.82153,     0.82176,     0.82198,     0.82221,     0.82243,     0.82266,     0.82288,     0.82311,     0.82333,     0.82356,     0.82378,     0.82401,     0.82423,     0.82446,     0.82468,     0.82491,     0.82513,     0.82536,     0.82558,     0.82581,     0.82603,\n",
       "            0.82626,     0.82648,     0.82671,     0.82693,     0.82716,     0.82738,     0.82761,     0.82783,     0.82806,     0.82828,     0.82851,     0.82873,     0.82896,     0.82918,     0.82941,     0.82963,     0.82986,     0.83008,     0.83031,     0.83053,     0.83076,     0.83098,     0.83121,\n",
       "            0.83143,     0.83166,     0.83188,     0.83211,     0.83233,     0.83256,     0.83278,     0.83301,     0.83323,     0.83324,     0.83308,     0.83292,     0.83276,      0.8326,     0.83244,     0.83227,     0.83211,     0.83195,     0.83179,     0.83163,     0.83147,     0.83131,     0.83115,\n",
       "            0.83098,     0.83082,     0.83066,      0.8305,     0.83034,     0.83018,     0.83002,     0.82985,     0.83065,     0.83213,      0.8336,     0.83508,     0.83656,     0.83803,     0.83951,     0.84098,     0.84246,     0.84394,     0.84541,     0.84689,     0.84809,      0.8488,     0.84951,\n",
       "            0.85023,     0.85094,     0.85165,     0.85237,     0.85308,     0.85379,     0.85451,     0.85522,     0.85593,     0.85665,     0.85736,     0.85808,     0.85879,      0.8595,     0.86022,     0.86093,     0.86164,     0.86236,     0.86307,     0.86378,      0.8645,     0.86521,     0.86592,\n",
       "            0.86664,     0.86664,     0.86661,     0.86658,     0.86655,     0.86652,     0.86649,     0.86646,     0.86644,     0.86641,     0.86638,     0.86635,     0.86632,     0.86629,     0.86626,     0.86623,      0.8662,     0.86618,     0.86615,     0.86612,     0.86609,     0.86606,     0.86603,\n",
       "              0.866,     0.86597,     0.86594,     0.86591,     0.86589,     0.86586,     0.86583,      0.8658,     0.86577,     0.86574,     0.86571,     0.86568,     0.86565,     0.86562,      0.8656,     0.86557,     0.86554,     0.86551,     0.86548,     0.86545,     0.86542,     0.86539,     0.86536,\n",
       "            0.86533,     0.86531,     0.86528,     0.86525,     0.86522,     0.86519,     0.86516,     0.86513,      0.8651,     0.86507,     0.86504,     0.86502,     0.86499,     0.86496,     0.86493,      0.8649,     0.86487,     0.86484,     0.86481,     0.86478,     0.86475,     0.86473,      0.8647,\n",
       "            0.86467,     0.86464,     0.86461,     0.86458,     0.86455,     0.86452,     0.86449,     0.86447,     0.86444,     0.86441,     0.86438,     0.86435,     0.86432,     0.86429,     0.86426,     0.86423,      0.8642,     0.86418,     0.86415,     0.86412,     0.86409,     0.86406,     0.86403,\n",
       "              0.864,     0.86397,     0.86394,     0.86391,     0.86389,     0.86386,     0.86383,      0.8638,     0.86377,     0.86374,     0.86371,     0.86368,     0.86365,     0.86409,     0.86521,     0.86633,     0.86745,     0.86857,     0.86969,     0.87081,     0.87193,     0.87305,     0.87417,\n",
       "            0.87529,     0.87641,     0.87753,     0.87865,     0.87977,     0.88089,     0.88201,     0.88313,     0.88371,     0.88367,     0.88364,     0.88361,     0.88358,     0.88354,     0.88351,     0.88348,     0.88345,     0.88341,     0.88338,     0.88335,     0.88332,     0.88328,     0.88325,\n",
       "            0.88322,     0.88319,     0.88316,     0.88312,     0.88309,     0.88306,     0.88303,     0.88299,     0.88296,     0.88293,      0.8829,     0.88286,     0.88283,      0.8828,     0.88277,     0.88273,      0.8827,     0.88267,     0.88264,     0.88261,     0.88257,     0.88254,     0.88251,\n",
       "            0.88248,     0.88244,     0.88241,     0.88238,     0.88235,     0.88231,     0.88228,     0.88225,     0.88222,     0.88218,     0.88215,     0.88212,     0.88209,     0.88205,     0.88202,     0.88199,     0.88196,     0.88193,     0.88189,     0.88186,     0.88183,      0.8818,     0.88176,\n",
       "            0.88173,      0.8817,     0.88167,     0.88163,      0.8816,     0.88157,     0.88154,      0.8815,     0.88147,     0.88144,     0.88141,     0.88138,     0.88134,     0.88131,     0.88128,     0.88125,     0.88121,     0.88118,     0.88115,     0.88112,     0.88108,     0.88105,     0.88102,\n",
       "            0.88099,     0.88095,     0.88067,     0.88037,     0.88007,     0.87977,     0.87947,     0.87917,     0.87887,     0.87857,     0.87827,     0.87803,     0.87795,     0.87786,     0.87778,      0.8777,     0.87762,     0.87754,     0.87746,     0.87737,     0.87729,     0.87721,     0.87713,\n",
       "            0.87705,     0.87697,     0.87688,      0.8768,     0.87672,     0.87664,     0.87656,     0.87648,     0.87639,     0.87631,     0.87623,     0.87615,     0.87607,     0.87599,      0.8759,     0.87582,     0.87574,     0.87566,     0.87558,      0.8755,     0.87541,     0.87533,     0.87525,\n",
       "            0.87517,     0.87509,     0.87501,     0.87465,     0.87427,      0.8739,     0.87352,     0.87315,     0.87277,     0.87239,     0.87202,     0.87211,      0.8729,     0.87368,     0.87447,     0.87526,     0.87604,     0.87683,     0.87761,      0.8784,     0.87918,     0.87997,     0.88076,\n",
       "            0.88154,     0.88233,     0.88311,      0.8839,     0.88469,     0.88547,     0.88626,     0.88704,     0.88783,     0.88861,      0.8894,     0.89019,     0.89097,     0.89176,     0.89254,     0.89333,     0.89411,     0.89487,     0.89551,     0.89615,     0.89679,     0.89743,     0.89807,\n",
       "            0.89871,     0.89935,     0.89999,     0.90063,     0.90127,     0.90191,     0.90255,     0.90319,     0.90383,     0.90447,     0.90511,     0.90575,     0.90639,     0.90703,     0.90767,     0.90831,     0.90895,     0.90959,     0.91023,     0.91087,     0.91151,     0.91215,     0.91279,\n",
       "            0.91343,     0.91407,     0.91471,     0.91535,     0.91599,     0.91663,     0.91727,     0.91791,     0.91855,     0.91932,     0.92027,     0.92122,     0.92217,     0.92311,     0.92406,     0.92501,     0.92595,      0.9269,     0.92785,     0.92879,     0.92974,     0.93069,     0.93163,\n",
       "            0.93258,     0.93353,     0.93448,     0.93542,     0.93637,     0.93732,     0.93826,     0.93921,     0.94016,      0.9411,     0.94205,       0.943,     0.94395,      0.9452,      0.9468,      0.9484,        0.95,     0.95161,     0.95321,     0.95481,     0.95641,     0.95801,     0.95961,\n",
       "            0.96121,     0.96281,     0.96441,     0.96601,     0.96761,     0.96922,     0.97082,     0.97127,     0.97101,     0.97075,     0.97051,     0.97029,     0.97008,     0.96987,     0.96942,     0.97056,     0.97427,     0.97797,     0.98167,     0.98538,     0.98908,     0.99279,     0.99649,\n",
       "                  1,           1,           1,           1,           1,           1,           1,           1,           1,           1,           1,           1,           1,           1,           1,           1,           1,           1,           1,           1,           1,           1,           1,\n",
       "                  1,           1,           1,           1,           1,           1,           1,           1,           1,           1,           1,           1,           1,           1,           1,           1,           1,           1,           1,           1,           1,           1,           1,\n",
       "                  1,           1,           1,           1,           1,           1,           1,           1,           1,           1,           1,           1,           1,           1,           1,           1,           1,           1,           1,           1,           1,           1,           1,\n",
       "                  1,           1,           1,           1,           1,           1,           1,           1,           1,           1,           1,           1,           1,           1,           1,           1,           1,           1,           1,           1,           1,           1,           1,\n",
       "                  1,           1,           1,           1,           1,           1,           1,           1,           1,           1,           1,           1,           1,           1,           1,           1,           1,           1,           1,           1,           1,           1,           1,\n",
       "                  1,           1,           1,           1,           1,           1,           1,           1,           1,           1,           1,           1,           1,           1,           1,           1,           1,           1,           1,           1,           1,           1,           1,\n",
       "                  1,           1,           1,           1,           1,           1,           1,           1,           1,           1,           1,           1,           1,           1,           1,           1,           1,           1,           1,           1,           1,           1,           1,\n",
       "                  1,           1,           1,           1,           1,           1,           1,           1,           1,           1,           1,           1,           1,           1,           1,           1,           1,           1,           1,           1,           1,           1,           1,\n",
       "                  1,           1,           1,           1,           1,           1,           1,           1,           1,           1,           1,           1,           1,           1,           1,           1,           1,           1,           1,           1,           1,           1,           1,\n",
       "                  1,           1,           1,           1,           1,           1,           1,           1,           1,           1,           1]]), 'Confidence', 'Precision'], [array([          0,    0.001001,    0.002002,    0.003003,    0.004004,    0.005005,    0.006006,    0.007007,    0.008008,    0.009009,     0.01001,    0.011011,    0.012012,    0.013013,    0.014014,    0.015015,    0.016016,    0.017017,    0.018018,    0.019019,     0.02002,    0.021021,    0.022022,    0.023023,\n",
       "          0.024024,    0.025025,    0.026026,    0.027027,    0.028028,    0.029029,     0.03003,    0.031031,    0.032032,    0.033033,    0.034034,    0.035035,    0.036036,    0.037037,    0.038038,    0.039039,     0.04004,    0.041041,    0.042042,    0.043043,    0.044044,    0.045045,    0.046046,    0.047047,\n",
       "          0.048048,    0.049049,     0.05005,    0.051051,    0.052052,    0.053053,    0.054054,    0.055055,    0.056056,    0.057057,    0.058058,    0.059059,     0.06006,    0.061061,    0.062062,    0.063063,    0.064064,    0.065065,    0.066066,    0.067067,    0.068068,    0.069069,     0.07007,    0.071071,\n",
       "          0.072072,    0.073073,    0.074074,    0.075075,    0.076076,    0.077077,    0.078078,    0.079079,     0.08008,    0.081081,    0.082082,    0.083083,    0.084084,    0.085085,    0.086086,    0.087087,    0.088088,    0.089089,     0.09009,    0.091091,    0.092092,    0.093093,    0.094094,    0.095095,\n",
       "          0.096096,    0.097097,    0.098098,    0.099099,      0.1001,      0.1011,      0.1021,      0.1031,      0.1041,     0.10511,     0.10611,     0.10711,     0.10811,     0.10911,     0.11011,     0.11111,     0.11211,     0.11311,     0.11411,     0.11512,     0.11612,     0.11712,     0.11812,     0.11912,\n",
       "           0.12012,     0.12112,     0.12212,     0.12312,     0.12412,     0.12513,     0.12613,     0.12713,     0.12813,     0.12913,     0.13013,     0.13113,     0.13213,     0.13313,     0.13413,     0.13514,     0.13614,     0.13714,     0.13814,     0.13914,     0.14014,     0.14114,     0.14214,     0.14314,\n",
       "           0.14414,     0.14515,     0.14615,     0.14715,     0.14815,     0.14915,     0.15015,     0.15115,     0.15215,     0.15315,     0.15415,     0.15516,     0.15616,     0.15716,     0.15816,     0.15916,     0.16016,     0.16116,     0.16216,     0.16316,     0.16416,     0.16517,     0.16617,     0.16717,\n",
       "           0.16817,     0.16917,     0.17017,     0.17117,     0.17217,     0.17317,     0.17417,     0.17518,     0.17618,     0.17718,     0.17818,     0.17918,     0.18018,     0.18118,     0.18218,     0.18318,     0.18418,     0.18519,     0.18619,     0.18719,     0.18819,     0.18919,     0.19019,     0.19119,\n",
       "           0.19219,     0.19319,     0.19419,      0.1952,      0.1962,      0.1972,      0.1982,      0.1992,      0.2002,      0.2012,      0.2022,      0.2032,      0.2042,     0.20521,     0.20621,     0.20721,     0.20821,     0.20921,     0.21021,     0.21121,     0.21221,     0.21321,     0.21421,     0.21522,\n",
       "           0.21622,     0.21722,     0.21822,     0.21922,     0.22022,     0.22122,     0.22222,     0.22322,     0.22422,     0.22523,     0.22623,     0.22723,     0.22823,     0.22923,     0.23023,     0.23123,     0.23223,     0.23323,     0.23423,     0.23524,     0.23624,     0.23724,     0.23824,     0.23924,\n",
       "           0.24024,     0.24124,     0.24224,     0.24324,     0.24424,     0.24525,     0.24625,     0.24725,     0.24825,     0.24925,     0.25025,     0.25125,     0.25225,     0.25325,     0.25425,     0.25526,     0.25626,     0.25726,     0.25826,     0.25926,     0.26026,     0.26126,     0.26226,     0.26326,\n",
       "           0.26426,     0.26527,     0.26627,     0.26727,     0.26827,     0.26927,     0.27027,     0.27127,     0.27227,     0.27327,     0.27427,     0.27528,     0.27628,     0.27728,     0.27828,     0.27928,     0.28028,     0.28128,     0.28228,     0.28328,     0.28428,     0.28529,     0.28629,     0.28729,\n",
       "           0.28829,     0.28929,     0.29029,     0.29129,     0.29229,     0.29329,     0.29429,      0.2953,      0.2963,      0.2973,      0.2983,      0.2993,      0.3003,      0.3013,      0.3023,      0.3033,      0.3043,     0.30531,     0.30631,     0.30731,     0.30831,     0.30931,     0.31031,     0.31131,\n",
       "           0.31231,     0.31331,     0.31431,     0.31532,     0.31632,     0.31732,     0.31832,     0.31932,     0.32032,     0.32132,     0.32232,     0.32332,     0.32432,     0.32533,     0.32633,     0.32733,     0.32833,     0.32933,     0.33033,     0.33133,     0.33233,     0.33333,     0.33433,     0.33534,\n",
       "           0.33634,     0.33734,     0.33834,     0.33934,     0.34034,     0.34134,     0.34234,     0.34334,     0.34434,     0.34535,     0.34635,     0.34735,     0.34835,     0.34935,     0.35035,     0.35135,     0.35235,     0.35335,     0.35435,     0.35536,     0.35636,     0.35736,     0.35836,     0.35936,\n",
       "           0.36036,     0.36136,     0.36236,     0.36336,     0.36436,     0.36537,     0.36637,     0.36737,     0.36837,     0.36937,     0.37037,     0.37137,     0.37237,     0.37337,     0.37437,     0.37538,     0.37638,     0.37738,     0.37838,     0.37938,     0.38038,     0.38138,     0.38238,     0.38338,\n",
       "           0.38438,     0.38539,     0.38639,     0.38739,     0.38839,     0.38939,     0.39039,     0.39139,     0.39239,     0.39339,     0.39439,      0.3954,      0.3964,      0.3974,      0.3984,      0.3994,      0.4004,      0.4014,      0.4024,      0.4034,      0.4044,     0.40541,     0.40641,     0.40741,\n",
       "           0.40841,     0.40941,     0.41041,     0.41141,     0.41241,     0.41341,     0.41441,     0.41542,     0.41642,     0.41742,     0.41842,     0.41942,     0.42042,     0.42142,     0.42242,     0.42342,     0.42442,     0.42543,     0.42643,     0.42743,     0.42843,     0.42943,     0.43043,     0.43143,\n",
       "           0.43243,     0.43343,     0.43443,     0.43544,     0.43644,     0.43744,     0.43844,     0.43944,     0.44044,     0.44144,     0.44244,     0.44344,     0.44444,     0.44545,     0.44645,     0.44745,     0.44845,     0.44945,     0.45045,     0.45145,     0.45245,     0.45345,     0.45445,     0.45546,\n",
       "           0.45646,     0.45746,     0.45846,     0.45946,     0.46046,     0.46146,     0.46246,     0.46346,     0.46446,     0.46547,     0.46647,     0.46747,     0.46847,     0.46947,     0.47047,     0.47147,     0.47247,     0.47347,     0.47447,     0.47548,     0.47648,     0.47748,     0.47848,     0.47948,\n",
       "           0.48048,     0.48148,     0.48248,     0.48348,     0.48448,     0.48549,     0.48649,     0.48749,     0.48849,     0.48949,     0.49049,     0.49149,     0.49249,     0.49349,     0.49449,      0.4955,      0.4965,      0.4975,      0.4985,      0.4995,      0.5005,      0.5015,      0.5025,      0.5035,\n",
       "            0.5045,     0.50551,     0.50651,     0.50751,     0.50851,     0.50951,     0.51051,     0.51151,     0.51251,     0.51351,     0.51451,     0.51552,     0.51652,     0.51752,     0.51852,     0.51952,     0.52052,     0.52152,     0.52252,     0.52352,     0.52452,     0.52553,     0.52653,     0.52753,\n",
       "           0.52853,     0.52953,     0.53053,     0.53153,     0.53253,     0.53353,     0.53453,     0.53554,     0.53654,     0.53754,     0.53854,     0.53954,     0.54054,     0.54154,     0.54254,     0.54354,     0.54454,     0.54555,     0.54655,     0.54755,     0.54855,     0.54955,     0.55055,     0.55155,\n",
       "           0.55255,     0.55355,     0.55455,     0.55556,     0.55656,     0.55756,     0.55856,     0.55956,     0.56056,     0.56156,     0.56256,     0.56356,     0.56456,     0.56557,     0.56657,     0.56757,     0.56857,     0.56957,     0.57057,     0.57157,     0.57257,     0.57357,     0.57457,     0.57558,\n",
       "           0.57658,     0.57758,     0.57858,     0.57958,     0.58058,     0.58158,     0.58258,     0.58358,     0.58458,     0.58559,     0.58659,     0.58759,     0.58859,     0.58959,     0.59059,     0.59159,     0.59259,     0.59359,     0.59459,      0.5956,      0.5966,      0.5976,      0.5986,      0.5996,\n",
       "            0.6006,      0.6016,      0.6026,      0.6036,      0.6046,     0.60561,     0.60661,     0.60761,     0.60861,     0.60961,     0.61061,     0.61161,     0.61261,     0.61361,     0.61461,     0.61562,     0.61662,     0.61762,     0.61862,     0.61962,     0.62062,     0.62162,     0.62262,     0.62362,\n",
       "           0.62462,     0.62563,     0.62663,     0.62763,     0.62863,     0.62963,     0.63063,     0.63163,     0.63263,     0.63363,     0.63463,     0.63564,     0.63664,     0.63764,     0.63864,     0.63964,     0.64064,     0.64164,     0.64264,     0.64364,     0.64464,     0.64565,     0.64665,     0.64765,\n",
       "           0.64865,     0.64965,     0.65065,     0.65165,     0.65265,     0.65365,     0.65465,     0.65566,     0.65666,     0.65766,     0.65866,     0.65966,     0.66066,     0.66166,     0.66266,     0.66366,     0.66466,     0.66567,     0.66667,     0.66767,     0.66867,     0.66967,     0.67067,     0.67167,\n",
       "           0.67267,     0.67367,     0.67467,     0.67568,     0.67668,     0.67768,     0.67868,     0.67968,     0.68068,     0.68168,     0.68268,     0.68368,     0.68468,     0.68569,     0.68669,     0.68769,     0.68869,     0.68969,     0.69069,     0.69169,     0.69269,     0.69369,     0.69469,      0.6957,\n",
       "            0.6967,      0.6977,      0.6987,      0.6997,      0.7007,      0.7017,      0.7027,      0.7037,      0.7047,     0.70571,     0.70671,     0.70771,     0.70871,     0.70971,     0.71071,     0.71171,     0.71271,     0.71371,     0.71471,     0.71572,     0.71672,     0.71772,     0.71872,     0.71972,\n",
       "           0.72072,     0.72172,     0.72272,     0.72372,     0.72472,     0.72573,     0.72673,     0.72773,     0.72873,     0.72973,     0.73073,     0.73173,     0.73273,     0.73373,     0.73473,     0.73574,     0.73674,     0.73774,     0.73874,     0.73974,     0.74074,     0.74174,     0.74274,     0.74374,\n",
       "           0.74474,     0.74575,     0.74675,     0.74775,     0.74875,     0.74975,     0.75075,     0.75175,     0.75275,     0.75375,     0.75475,     0.75576,     0.75676,     0.75776,     0.75876,     0.75976,     0.76076,     0.76176,     0.76276,     0.76376,     0.76476,     0.76577,     0.76677,     0.76777,\n",
       "           0.76877,     0.76977,     0.77077,     0.77177,     0.77277,     0.77377,     0.77477,     0.77578,     0.77678,     0.77778,     0.77878,     0.77978,     0.78078,     0.78178,     0.78278,     0.78378,     0.78478,     0.78579,     0.78679,     0.78779,     0.78879,     0.78979,     0.79079,     0.79179,\n",
       "           0.79279,     0.79379,     0.79479,      0.7958,      0.7968,      0.7978,      0.7988,      0.7998,      0.8008,      0.8018,      0.8028,      0.8038,      0.8048,     0.80581,     0.80681,     0.80781,     0.80881,     0.80981,     0.81081,     0.81181,     0.81281,     0.81381,     0.81481,     0.81582,\n",
       "           0.81682,     0.81782,     0.81882,     0.81982,     0.82082,     0.82182,     0.82282,     0.82382,     0.82482,     0.82583,     0.82683,     0.82783,     0.82883,     0.82983,     0.83083,     0.83183,     0.83283,     0.83383,     0.83483,     0.83584,     0.83684,     0.83784,     0.83884,     0.83984,\n",
       "           0.84084,     0.84184,     0.84284,     0.84384,     0.84484,     0.84585,     0.84685,     0.84785,     0.84885,     0.84985,     0.85085,     0.85185,     0.85285,     0.85385,     0.85485,     0.85586,     0.85686,     0.85786,     0.85886,     0.85986,     0.86086,     0.86186,     0.86286,     0.86386,\n",
       "           0.86486,     0.86587,     0.86687,     0.86787,     0.86887,     0.86987,     0.87087,     0.87187,     0.87287,     0.87387,     0.87487,     0.87588,     0.87688,     0.87788,     0.87888,     0.87988,     0.88088,     0.88188,     0.88288,     0.88388,     0.88488,     0.88589,     0.88689,     0.88789,\n",
       "           0.88889,     0.88989,     0.89089,     0.89189,     0.89289,     0.89389,     0.89489,      0.8959,      0.8969,      0.8979,      0.8989,      0.8999,      0.9009,      0.9019,      0.9029,      0.9039,      0.9049,     0.90591,     0.90691,     0.90791,     0.90891,     0.90991,     0.91091,     0.91191,\n",
       "           0.91291,     0.91391,     0.91491,     0.91592,     0.91692,     0.91792,     0.91892,     0.91992,     0.92092,     0.92192,     0.92292,     0.92392,     0.92492,     0.92593,     0.92693,     0.92793,     0.92893,     0.92993,     0.93093,     0.93193,     0.93293,     0.93393,     0.93493,     0.93594,\n",
       "           0.93694,     0.93794,     0.93894,     0.93994,     0.94094,     0.94194,     0.94294,     0.94394,     0.94494,     0.94595,     0.94695,     0.94795,     0.94895,     0.94995,     0.95095,     0.95195,     0.95295,     0.95395,     0.95495,     0.95596,     0.95696,     0.95796,     0.95896,     0.95996,\n",
       "           0.96096,     0.96196,     0.96296,     0.96396,     0.96496,     0.96597,     0.96697,     0.96797,     0.96897,     0.96997,     0.97097,     0.97197,     0.97297,     0.97397,     0.97497,     0.97598,     0.97698,     0.97798,     0.97898,     0.97998,     0.98098,     0.98198,     0.98298,     0.98398,\n",
       "           0.98498,     0.98599,     0.98699,     0.98799,     0.98899,     0.98999,     0.99099,     0.99199,     0.99299,     0.99399,     0.99499,       0.996,       0.997,       0.998,       0.999,           1]), array([[    0.90909,     0.90909,     0.90909,     0.90909,     0.90909,     0.90909,     0.90909,     0.90909,     0.90909,     0.90909,     0.90909,     0.90909,     0.90909,     0.90909,     0.90909,     0.90909,     0.90909,     0.90909,     0.90909,     0.90909,     0.90909,     0.90909,     0.90909,\n",
       "            0.90909,     0.90909,     0.90909,     0.90909,     0.90909,     0.90909,     0.90909,     0.90909,     0.90909,     0.90909,     0.90909,     0.90909,     0.90909,     0.90909,     0.90909,     0.90909,     0.90909,     0.90909,     0.90909,     0.90909,     0.90909,     0.90909,     0.90909,\n",
       "            0.90909,     0.90909,     0.90909,     0.90909,     0.90909,     0.90909,     0.90909,     0.90909,     0.90909,     0.90909,     0.90909,     0.90909,     0.90909,     0.90909,     0.90909,     0.90909,     0.90909,     0.90909,     0.90909,     0.90909,     0.90909,     0.90909,     0.90909,\n",
       "            0.90909,     0.90909,     0.90909,     0.90909,     0.90909,     0.90909,     0.90909,     0.90909,     0.90909,     0.90909,     0.90909,     0.90909,     0.90909,     0.90909,     0.90909,     0.90909,     0.90909,     0.90909,     0.90909,     0.90909,     0.90909,     0.90909,     0.90909,\n",
       "            0.90909,     0.90909,     0.90909,     0.90909,     0.90909,     0.90909,     0.90909,     0.90909,     0.90909,     0.90909,     0.90909,     0.90909,     0.90909,     0.90909,     0.90909,     0.90909,     0.90909,     0.90909,     0.90909,     0.90909,     0.90909,     0.90909,     0.90909,\n",
       "            0.90909,     0.90909,     0.90909,     0.90909,     0.90909,     0.90909,     0.90909,     0.90909,     0.90909,     0.90909,     0.90909,     0.90909,     0.90909,     0.90909,     0.90909,     0.90909,     0.90909,     0.90909,     0.90909,     0.90909,     0.90909,     0.90909,     0.90909,\n",
       "            0.90909,     0.90909,     0.90909,     0.90909,     0.90909,     0.90909,     0.90909,     0.90909,     0.90909,     0.90909,     0.90909,     0.90909,     0.90909,     0.90909,     0.90909,     0.90909,     0.90909,     0.90909,     0.90909,     0.90909,     0.90909,     0.90909,     0.90909,\n",
       "            0.90909,     0.90909,     0.90909,     0.90909,     0.90909,     0.90909,     0.90909,     0.90909,     0.90909,     0.90909,     0.90909,     0.90909,     0.90909,     0.90909,     0.90909,     0.90909,     0.90909,     0.90909,     0.90909,     0.90909,     0.90909,     0.90909,     0.90909,\n",
       "            0.90909,     0.90909,     0.90909,     0.90909,     0.90909,     0.90909,     0.90909,     0.90909,     0.90909,     0.90909,     0.90909,     0.90909,     0.90909,     0.90909,     0.90909,     0.90909,     0.90909,     0.90909,     0.90909,     0.90909,     0.90909,     0.90909,     0.90909,\n",
       "            0.90909,     0.90909,     0.90909,     0.90909,     0.90909,     0.90909,     0.90909,     0.90909,     0.90909,     0.90909,     0.90909,     0.90909,     0.90909,     0.90909,     0.90909,     0.90909,     0.90909,     0.90909,     0.90909,     0.90909,     0.90909,     0.90909,     0.90909,\n",
       "            0.90909,     0.90909,     0.90909,     0.90909,     0.90909,     0.90909,     0.90909,     0.90909,     0.90909,     0.90909,     0.90909,     0.90909,     0.90909,     0.90909,     0.90909,     0.90909,     0.90909,     0.90909,     0.90909,     0.90909,     0.90909,     0.90909,     0.90909,\n",
       "            0.90909,     0.90909,     0.90909,     0.90909,     0.90909,     0.90909,     0.90909,     0.90909,     0.90909,     0.90909,     0.90909,     0.90909,     0.90909,     0.90909,     0.90909,     0.90909,     0.90909,     0.90909,     0.90909,     0.90909,     0.90909,     0.90909,     0.90909,\n",
       "            0.90909,     0.90909,     0.90909,     0.90909,     0.90909,     0.90909,     0.90909,     0.90909,     0.90909,     0.90909,     0.90909,     0.90909,     0.90909,     0.90909,     0.90909,     0.90909,     0.90909,     0.90909,     0.90909,     0.90909,     0.90909,     0.90909,     0.90909,\n",
       "            0.90909,     0.90909,     0.90909,     0.90909,     0.90909,     0.90909,     0.90909,     0.90909,     0.90909,     0.90909,     0.90909,     0.90909,     0.90909,     0.90909,     0.90909,     0.90909,     0.90909,     0.90909,     0.90909,     0.90909,     0.90909,     0.90909,     0.90909,\n",
       "            0.90909,     0.90909,     0.90909,     0.90909,     0.90909,     0.90909,     0.90909,     0.90909,     0.90909,     0.90851,     0.90748,     0.90644,     0.90541,     0.90437,     0.90334,      0.9023,     0.90127,     0.90024,      0.8992,     0.89817,     0.89713,      0.8961,     0.89507,\n",
       "            0.89403,       0.893,     0.89196,     0.89093,     0.88989,     0.88886,     0.88783,     0.88679,     0.88636,     0.88636,     0.88636,     0.88636,     0.88636,     0.88636,     0.88636,     0.88636,     0.88636,     0.88636,     0.88636,     0.88636,     0.88636,     0.88636,     0.88636,\n",
       "            0.88636,     0.88636,     0.88636,     0.88636,     0.88636,     0.88636,     0.88636,     0.88636,     0.88636,     0.88636,     0.88636,     0.88636,     0.88636,     0.88636,     0.88636,     0.88636,     0.88636,     0.88636,     0.88636,     0.88636,     0.88636,     0.88636,     0.88636,\n",
       "            0.88636,     0.88616,     0.88594,     0.88572,      0.8855,     0.88529,     0.88507,     0.88485,     0.88463,     0.88442,      0.8842,     0.88398,     0.88376,     0.88355,     0.88333,     0.88311,     0.88289,     0.88268,     0.88246,     0.88224,     0.88203,     0.88181,     0.88159,\n",
       "            0.88137,     0.88116,     0.88094,     0.88072,      0.8805,     0.88029,     0.88007,     0.87985,     0.87963,     0.87942,      0.8792,     0.87898,     0.87876,     0.87855,     0.87833,     0.87811,     0.87789,     0.87768,     0.87746,     0.87724,     0.87703,     0.87681,     0.87659,\n",
       "            0.87637,     0.87616,     0.87594,     0.87572,      0.8755,     0.87529,     0.87507,     0.87485,     0.87463,     0.87442,      0.8742,     0.87398,     0.87376,     0.87355,     0.87333,     0.87311,      0.8729,     0.87268,     0.87246,     0.87224,     0.87203,     0.87181,     0.87159,\n",
       "            0.87137,     0.87116,     0.87094,     0.87072,      0.8705,     0.87029,     0.87007,     0.86985,     0.86963,     0.86942,      0.8692,     0.86898,     0.86877,     0.86855,     0.86833,     0.86811,      0.8679,     0.86768,     0.86746,     0.86724,     0.86703,     0.86681,     0.86659,\n",
       "            0.86637,     0.86616,     0.86594,     0.86572,      0.8655,     0.86529,     0.86507,     0.86485,     0.86464,     0.86442,      0.8642,     0.86398,     0.86377,     0.86364,     0.86364,     0.86364,     0.86364,     0.86364,     0.86364,     0.86364,     0.86364,     0.86364,     0.86364,\n",
       "            0.86364,     0.86364,     0.86364,     0.86364,     0.86364,     0.86364,     0.86364,     0.86364,     0.86351,     0.86325,     0.86298,     0.86271,     0.86245,     0.86218,     0.86192,     0.86165,     0.86139,     0.86112,     0.86085,     0.86059,     0.86032,     0.86006,     0.85979,\n",
       "            0.85953,     0.85926,     0.85899,     0.85873,     0.85846,      0.8582,     0.85793,     0.85767,      0.8574,     0.85713,     0.85687,      0.8566,     0.85634,     0.85607,     0.85581,     0.85554,     0.85527,     0.85501,     0.85474,     0.85448,     0.85421,     0.85395,     0.85368,\n",
       "            0.85341,     0.85315,     0.85288,     0.85262,     0.85235,     0.85209,     0.85182,     0.85155,     0.85129,     0.85102,     0.85076,     0.85049,     0.85023,     0.84996,     0.84969,     0.84943,     0.84916,      0.8489,     0.84863,     0.84837,      0.8481,     0.84783,     0.84757,\n",
       "             0.8473,     0.84704,     0.84677,     0.84651,     0.84624,     0.84597,     0.84571,     0.84544,     0.84518,     0.84491,     0.84465,     0.84438,     0.84411,     0.84385,     0.84358,     0.84332,     0.84305,     0.84279,     0.84252,     0.84225,     0.84199,     0.84172,     0.84146,\n",
       "            0.84119,     0.84093,     0.83871,     0.83636,     0.83402,     0.83167,     0.82932,     0.82698,     0.82463,     0.82228,     0.81994,     0.81803,     0.81742,     0.81681,      0.8162,     0.81559,     0.81498,     0.81437,     0.81377,     0.81316,     0.81255,     0.81194,     0.81133,\n",
       "            0.81072,     0.81011,      0.8095,     0.80889,     0.80828,     0.80768,     0.80707,     0.80646,     0.80585,     0.80524,     0.80463,     0.80402,     0.80341,      0.8028,     0.80219,     0.80159,     0.80098,     0.80037,     0.79976,     0.79915,     0.79854,     0.79793,     0.79732,\n",
       "            0.79671,      0.7961,      0.7955,     0.79297,     0.79031,     0.78764,     0.78498,     0.78231,     0.77965,     0.77698,     0.77432,     0.77273,     0.77273,     0.77273,     0.77273,     0.77273,     0.77273,     0.77273,     0.77273,     0.77273,     0.77273,     0.77273,     0.77273,\n",
       "            0.77273,     0.77273,     0.77273,     0.77273,     0.77273,     0.77273,     0.77273,     0.77273,     0.77273,     0.77273,     0.77273,     0.77273,     0.77273,     0.77273,     0.77273,     0.77273,     0.77273,     0.77273,     0.77273,     0.77273,     0.77273,     0.77273,     0.77273,\n",
       "            0.77273,     0.77273,     0.77273,     0.77273,     0.77273,     0.77273,     0.77273,     0.77273,     0.77273,     0.77273,     0.77273,     0.77273,     0.77273,     0.77273,     0.77273,     0.77273,     0.77273,     0.77273,     0.77273,     0.77273,     0.77273,     0.77273,     0.77273,\n",
       "            0.77273,     0.77273,     0.77273,     0.77273,     0.77273,     0.77273,     0.77273,     0.77273,     0.77273,     0.77273,     0.77273,     0.77273,     0.77273,     0.77273,     0.77273,     0.77273,     0.77273,     0.77273,     0.77273,     0.77273,     0.77273,     0.77273,     0.77273,\n",
       "            0.77273,     0.77273,     0.77273,     0.77273,     0.77273,     0.77273,     0.77273,     0.77273,     0.77273,     0.77273,     0.77273,     0.77273,     0.77273,     0.77273,     0.77273,     0.77273,     0.77273,     0.77273,     0.77273,     0.77273,     0.77273,     0.77273,     0.77273,\n",
       "            0.77273,     0.77273,     0.77273,     0.77273,     0.77273,     0.77273,     0.77273,     0.76841,     0.76141,     0.75442,     0.74799,     0.74251,     0.73704,     0.73157,     0.72055,     0.70455,     0.70455,     0.70455,     0.70455,     0.70455,     0.70455,     0.70455,     0.70455,\n",
       "            0.70412,     0.69615,     0.68817,     0.68061,     0.67465,     0.66869,     0.66273,     0.65357,     0.63939,     0.62396,     0.61286,     0.61061,     0.60836,     0.60612,     0.60387,     0.60162,     0.59937,     0.59713,     0.59488,     0.59263,     0.58986,     0.58535,     0.58085,\n",
       "            0.57635,     0.57184,     0.56608,     0.55486,     0.54518,     0.54349,     0.54181,     0.54012,     0.53843,     0.53674,     0.53506,     0.53337,     0.53168,     0.52999,     0.52831,     0.52662,     0.52493,     0.52324,     0.52085,     0.51815,     0.51545,     0.51275,     0.51005,\n",
       "            0.50735,     0.50465,     0.50195,      0.4761,     0.47188,     0.46767,     0.46345,     0.45924,     0.45502,     0.42782,     0.42203,     0.41624,     0.41045,     0.40442,     0.39831,      0.3922,     0.38622,       0.383,     0.37978,     0.37657,     0.37335,     0.37013,     0.36692,\n",
       "             0.3637,     0.35825,     0.35276,     0.34727,     0.34178,      0.2683,     0.25724,     0.24781,      0.2415,     0.23518,     0.22886,     0.21887,     0.20763,     0.16057,      0.1556,     0.15192,     0.14824,     0.14455,     0.14087,     0.13719,     0.12539,     0.10452,    0.089238,\n",
       "           0.086996,    0.084755,    0.082514,    0.080273,    0.078032,    0.075791,     0.07355,    0.071309,    0.069068,     0.06758,    0.066584,    0.065588,    0.064592,    0.063596,      0.0626,    0.061604,    0.060608,    0.059612,    0.058616,     0.05762,    0.056624,    0.055628,    0.054632,\n",
       "           0.053636,     0.05264,    0.051644,    0.050648,    0.049652,    0.048656,     0.04766,    0.046664,    0.045668,    0.044125,    0.042433,    0.040742,     0.03905,    0.037358,    0.035666,    0.033975,    0.032283,    0.030591,    0.028899,    0.027208,    0.025516,    0.023824,           0,\n",
       "                  0,           0,           0,           0,           0,           0,           0,           0,           0,           0,           0,           0,           0,           0,           0,           0,           0,           0,           0,           0,           0,           0,           0,\n",
       "                  0,           0,           0,           0,           0,           0,           0,           0,           0,           0,           0,           0,           0,           0,           0,           0,           0,           0,           0,           0,           0,           0,           0,\n",
       "                  0,           0,           0,           0,           0,           0,           0,           0,           0,           0,           0,           0,           0,           0,           0,           0,           0,           0,           0,           0,           0,           0,           0,\n",
       "                  0,           0,           0,           0,           0,           0,           0,           0,           0,           0,           0]]), 'Confidence', 'Recall']]\n",
       "fitness: 0.571007565925712\n",
       "keys: ['metrics/precision(B)', 'metrics/recall(B)', 'metrics/mAP50(B)', 'metrics/mAP50-95(B)']\n",
       "maps: array([     0.5348])\n",
       "names: {0: 'license_plate'}\n",
       "plot: True\n",
       "results_dict: {'metrics/precision(B)': 0.8659432755382528, 'metrics/recall(B)': 0.8809382029005318, 'metrics/mAP50(B)': 0.8968473837209303, 'metrics/mAP50-95(B)': 0.5348031417262433, 'fitness': 0.571007565925712}\n",
       "save_dir: WindowsPath('runs/detect/train2')\n",
       "speed: {'preprocess': 1.0651241649280894, 'inference': 25.797762654044412, 'loss': 0.0, 'postprocess': 0.7096637379039418}\n",
       "task: 'detect'"
      ]
     },
     "execution_count": 27,
     "metadata": {},
     "output_type": "execute_result"
    }
   ],
   "source": [
    "model.train(\n",
    "    data='datasets.yaml',  \n",
    "    epochs=100,            \n",
    "    batch=16,                 \n",
    "    imgsz=320,  # Image size (width and height) for training           \n",
    "    cache=True             \n",
    ")"
   ]
  },
  {
   "cell_type": "code",
   "execution_count": 28,
   "id": "b88f5212",
   "metadata": {},
   "outputs": [
    {
     "data": {
      "image/png": "[encoded data removed]",
      "text/plain": [
       "<Figure size 1000x500 with 1 Axes>"
      ]
     },
     "metadata": {},
     "output_type": "display_data"
    }
   ],
   "source": [
    "log_dir = max(glob('runs/detect/train*'), key=the_number_in_the_string)\n",
    "\n",
    "results = pd.read_csv(os.path.join(log_dir, 'results.csv'))\n",
    "results.columns = results.columns.str.strip()\n",
    "\n",
    "epochs = results.index + 1 \n",
    "mAP_0_5 = results['metrics/mAP50(B)'] \n",
    "mAP_0_5_0_95 = results['metrics/mAP50-95(B)']\n",
    "\n",
    "plt.figure(figsize=(10, 5))\n",
    "plt.plot(epochs, mAP_0_5, label='mAP@0.5')\n",
    "plt.plot(epochs, mAP_0_5_0_95, label='mAP@0.5:0.95')\n",
    "plt.xlabel('Epoch')\n",
    "plt.ylabel('Accuracy')\n",
    "plt.title('Accuracy Over Epochs')\n",
    "plt.legend()\n",
    "plt.grid(True)\n",
    "plt.show()"
   ]
  },
  {
   "cell_type": "code",
   "execution_count": 29,
   "id": "80d58bf2",
   "metadata": {},
   "outputs": [],
   "source": [
    "model.save('license_plate_model_UTKARSH.pt')"
   ]
  },
  {
   "cell_type": "markdown",
   "id": "0d68a755",
   "metadata": {},
   "source": [
    "# Test and predictions"
   ]
  },
  {
   "cell_type": "code",
   "execution_count": 1,
   "id": "a542dbdc",
   "metadata": {},
   "outputs": [],
   "source": [
    "def predict_and_plot(path_test_car):\n",
    "   \n",
    "    results = model.predict(path_test_car, device='cpu')\n",
    "\n",
    "    \n",
    "    image = cv2.imread(path_test_car)\n",
    "    \n",
    "    image = cv2.cvtColor(image, cv2.COLOR_BGR2RGB)\n",
    "\n",
    "    \n",
    "    for result in results:\n",
    "        for box in result.boxes:\n",
    "            \n",
    "            x1, y1, x2, y2 = map(int, box.xyxy[0])\n",
    "            confidence = box.conf[0]\n",
    "\n",
    "            cv2.rectangle(image, (x1, y1), (x2, y2), (0, 255, 0), 2)\n",
    "            \n",
    "            cv2.putText(image, f'{confidence*100:.2f}%', (x1, y1 - 10), \n",
    "                        cv2.FONT_HERSHEY_SIMPLEX, 0.9, (255, 0, 0), 2)\n",
    "\n",
    "    \n",
    "    plt.imshow(image)\n",
    "    plt.axis('off')  \n",
    "    plt.show()"
   ]
  },
  {
   "cell_type": "code",
   "execution_count": 32,
   "id": "302650d8",
   "metadata": {},
   "outputs": [
    {
     "name": "stdout",
     "output_type": "stream",
     "text": [
      "\n",
      "image 1/1 C:\\Users\\hp\\Desktop\\Python Practice\\Car_Plate\\images\\Cars425.png: 160x320 1 license_plate, 52.6ms\n",
      "Speed: 0.4ms preprocess, 52.6ms inference, 0.0ms postprocess per image at shape (1, 3, 160, 320)\n"
     ]
    },
    {
     "data": {
      "image/png": "[encoded data removed]",
      "text/plain": [
       "<Figure size 640x480 with 1 Axes>"
      ]
     },
     "metadata": {},
     "output_type": "display_data"
    }
   ],
   "source": [
    "predict_and_plot(test.iloc[0].img_path)"
   ]
  },
  {
   "cell_type": "markdown",
   "id": "e2a22300",
   "metadata": {},
   "source": [
    "# Text Extraction OCR"
   ]
  },
  {
   "cell_type": "code",
   "execution_count": 33,
   "id": "be8aed4d",
   "metadata": {},
   "outputs": [
    {
     "name": "stdout",
     "output_type": "stream",
     "text": [
      "Collecting pytesseract\n",
      "  Downloading pytesseract-0.3.13-py3-none-any.whl (14 kB)\n",
      "Requirement already satisfied: packaging>=21.3 in c:\\users\\hp\\anaconda3\\lib\\site-packages (from pytesseract) (23.0)\n",
      "Requirement already satisfied: Pillow>=8.0.0 in c:\\users\\hp\\anaconda3\\lib\\site-packages (from pytesseract) (9.4.0)\n",
      "Installing collected packages: pytesseract\n",
      "Successfully installed pytesseract-0.3.13\n"
     ]
    }
   ],
   "source": [
    "!pip3 install pytesseract"
   ]
  },
  {
   "cell_type": "code",
   "execution_count": 38,
   "id": "1180d62e",
   "metadata": {},
   "outputs": [],
   "source": [
    "import pytesseract\n",
    "from pytesseract import Output"
   ]
  },
  {
   "cell_type": "code",
   "execution_count": 39,
   "id": "5c055583",
   "metadata": {},
   "outputs": [],
   "source": [
    "def predict_and_plot(path_test_car):\n",
    "    \n",
    "    results = model.predict(path_test_car, device='cpu')\n",
    "\n",
    "    image = cv2.imread(path_test_car)    \n",
    "    image = cv2.cvtColor(image, cv2.COLOR_BGR2RGB)\n",
    "\n",
    "    \n",
    "    for result in results:\n",
    "        for box in result.boxes:\n",
    "            \n",
    "            x1, y1, x2, y2 = map(int, box.xyxy[0])\n",
    "            \n",
    "            cv2.rectangle(image, (x1, y1), (x2, y2), (0, 255, 0), 2)\n",
    "        # crop img\n",
    "            roi = image[y1:y2, x1:x2]\n",
    "\n",
    "        # Perform OCR on the cropped image\n",
    "            text = pytesseract.image_to_string(roi, config='--psm 6')\n",
    "            print(f\"Detected text: {text}\")\n",
    "\n",
    "    \n",
    "    plt.imshow(image)\n",
    "    plt.axis('off') \n",
    "    plt.show()"
   ]
  },
  {
   "cell_type": "code",
   "execution_count": 37,
   "id": "4641e407",
   "metadata": {},
   "outputs": [
    {
     "name": "stdout",
     "output_type": "stream",
     "text": [
      "\n",
      "image 1/1 C:\\Users\\hp\\Desktop\\Python Practice\\Car_Plate\\images\\Cars425.png: 160x320 1 license_plate, 43.9ms\n",
      "Speed: 1.1ms preprocess, 43.9ms inference, 1.0ms postprocess per image at shape (1, 3, 160, 320)\n"
     ]
    },
    {
     "ename": "TesseractNotFoundError",
     "evalue": "tesseract is not installed or it's not in your PATH. See README file for more information.",
     "output_type": "error",
     "traceback": [
      "\u001b[1;31m---------------------------------------------------------------------------\u001b[0m",
      "\u001b[1;31mFileNotFoundError\u001b[0m                         Traceback (most recent call last)",
      "File \u001b[1;32m~\\anaconda3\\Lib\\site-packages\\pytesseract\\pytesseract.py:275\u001b[0m, in \u001b[0;36mrun_tesseract\u001b[1;34m(input_filename, output_filename_base, extension, lang, config, nice, timeout)\u001b[0m\n\u001b[0;32m    274\u001b[0m \u001b[38;5;28;01mtry\u001b[39;00m:\n\u001b[1;32m--> 275\u001b[0m     proc \u001b[38;5;241m=\u001b[39m subprocess\u001b[38;5;241m.\u001b[39mPopen(cmd_args, \u001b[38;5;241m*\u001b[39m\u001b[38;5;241m*\u001b[39msubprocess_args())\n\u001b[0;32m    276\u001b[0m \u001b[38;5;28;01mexcept\u001b[39;00m \u001b[38;5;167;01mOSError\u001b[39;00m \u001b[38;5;28;01mas\u001b[39;00m e:\n",
      "File \u001b[1;32m~\\anaconda3\\Lib\\subprocess.py:1026\u001b[0m, in \u001b[0;36mPopen.__init__\u001b[1;34m(self, args, bufsize, executable, stdin, stdout, stderr, preexec_fn, close_fds, shell, cwd, env, universal_newlines, startupinfo, creationflags, restore_signals, start_new_session, pass_fds, user, group, extra_groups, encoding, errors, text, umask, pipesize, process_group)\u001b[0m\n\u001b[0;32m   1023\u001b[0m             \u001b[38;5;28mself\u001b[39m\u001b[38;5;241m.\u001b[39mstderr \u001b[38;5;241m=\u001b[39m io\u001b[38;5;241m.\u001b[39mTextIOWrapper(\u001b[38;5;28mself\u001b[39m\u001b[38;5;241m.\u001b[39mstderr,\n\u001b[0;32m   1024\u001b[0m                     encoding\u001b[38;5;241m=\u001b[39mencoding, errors\u001b[38;5;241m=\u001b[39merrors)\n\u001b[1;32m-> 1026\u001b[0m     \u001b[38;5;28mself\u001b[39m\u001b[38;5;241m.\u001b[39m_execute_child(args, executable, preexec_fn, close_fds,\n\u001b[0;32m   1027\u001b[0m                         pass_fds, cwd, env,\n\u001b[0;32m   1028\u001b[0m                         startupinfo, creationflags, shell,\n\u001b[0;32m   1029\u001b[0m                         p2cread, p2cwrite,\n\u001b[0;32m   1030\u001b[0m                         c2pread, c2pwrite,\n\u001b[0;32m   1031\u001b[0m                         errread, errwrite,\n\u001b[0;32m   1032\u001b[0m                         restore_signals,\n\u001b[0;32m   1033\u001b[0m                         gid, gids, uid, umask,\n\u001b[0;32m   1034\u001b[0m                         start_new_session, process_group)\n\u001b[0;32m   1035\u001b[0m \u001b[38;5;28;01mexcept\u001b[39;00m:\n\u001b[0;32m   1036\u001b[0m     \u001b[38;5;66;03m# Cleanup if the child failed starting.\u001b[39;00m\n",
      "File \u001b[1;32m~\\anaconda3\\Lib\\subprocess.py:1538\u001b[0m, in \u001b[0;36mPopen._execute_child\u001b[1;34m(self, args, executable, preexec_fn, close_fds, pass_fds, cwd, env, startupinfo, creationflags, shell, p2cread, p2cwrite, c2pread, c2pwrite, errread, errwrite, unused_restore_signals, unused_gid, unused_gids, unused_uid, unused_umask, unused_start_new_session, unused_process_group)\u001b[0m\n\u001b[0;32m   1537\u001b[0m \u001b[38;5;28;01mtry\u001b[39;00m:\n\u001b[1;32m-> 1538\u001b[0m     hp, ht, pid, tid \u001b[38;5;241m=\u001b[39m _winapi\u001b[38;5;241m.\u001b[39mCreateProcess(executable, args,\n\u001b[0;32m   1539\u001b[0m                              \u001b[38;5;66;03m# no special security\u001b[39;00m\n\u001b[0;32m   1540\u001b[0m                              \u001b[38;5;28;01mNone\u001b[39;00m, \u001b[38;5;28;01mNone\u001b[39;00m,\n\u001b[0;32m   1541\u001b[0m                              \u001b[38;5;28mint\u001b[39m(\u001b[38;5;129;01mnot\u001b[39;00m close_fds),\n\u001b[0;32m   1542\u001b[0m                              creationflags,\n\u001b[0;32m   1543\u001b[0m                              env,\n\u001b[0;32m   1544\u001b[0m                              cwd,\n\u001b[0;32m   1545\u001b[0m                              startupinfo)\n\u001b[0;32m   1546\u001b[0m \u001b[38;5;28;01mfinally\u001b[39;00m:\n\u001b[0;32m   1547\u001b[0m     \u001b[38;5;66;03m# Child is launched. Close the parent's copy of those pipe\u001b[39;00m\n\u001b[0;32m   1548\u001b[0m     \u001b[38;5;66;03m# handles that only the child should have open.  You need\u001b[39;00m\n\u001b[1;32m   (...)\u001b[0m\n\u001b[0;32m   1551\u001b[0m     \u001b[38;5;66;03m# pipe will not close when the child process exits and the\u001b[39;00m\n\u001b[0;32m   1552\u001b[0m     \u001b[38;5;66;03m# ReadFile will hang.\u001b[39;00m\n",
      "\u001b[1;31mFileNotFoundError\u001b[0m: [WinError 2] The system cannot find the file specified",
      "\nDuring handling of the above exception, another exception occurred:\n",
      "\u001b[1;31mTesseractNotFoundError\u001b[0m                    Traceback (most recent call last)",
      "Cell \u001b[1;32mIn[37], line 1\u001b[0m\n\u001b[1;32m----> 1\u001b[0m predict_and_plot(test\u001b[38;5;241m.\u001b[39miloc[\u001b[38;5;241m0\u001b[39m]\u001b[38;5;241m.\u001b[39mimg_path)\n",
      "Cell \u001b[1;32mIn[36], line 19\u001b[0m, in \u001b[0;36mpredict_and_plot\u001b[1;34m(path_test_car)\u001b[0m\n\u001b[0;32m     16\u001b[0m         roi \u001b[38;5;241m=\u001b[39m image[y1:y2, x1:x2]\n\u001b[0;32m     18\u001b[0m     \u001b[38;5;66;03m# Perform OCR on the cropped image\u001b[39;00m\n\u001b[1;32m---> 19\u001b[0m         text \u001b[38;5;241m=\u001b[39m pytesseract\u001b[38;5;241m.\u001b[39mimage_to_string(roi, config\u001b[38;5;241m=\u001b[39m\u001b[38;5;124m'\u001b[39m\u001b[38;5;124m--psm 6\u001b[39m\u001b[38;5;124m'\u001b[39m)\n\u001b[0;32m     20\u001b[0m         \u001b[38;5;28mprint\u001b[39m(\u001b[38;5;124mf\u001b[39m\u001b[38;5;124m\"\u001b[39m\u001b[38;5;124mDetected text: \u001b[39m\u001b[38;5;132;01m{\u001b[39;00mtext\u001b[38;5;132;01m}\u001b[39;00m\u001b[38;5;124m\"\u001b[39m)\n\u001b[0;32m     23\u001b[0m plt\u001b[38;5;241m.\u001b[39mimshow(image)\n",
      "File \u001b[1;32m~\\anaconda3\\Lib\\site-packages\\pytesseract\\pytesseract.py:486\u001b[0m, in \u001b[0;36mimage_to_string\u001b[1;34m(image, lang, config, nice, output_type, timeout)\u001b[0m\n\u001b[0;32m    481\u001b[0m \u001b[38;5;250m\u001b[39m\u001b[38;5;124;03m\"\"\"\u001b[39;00m\n\u001b[0;32m    482\u001b[0m \u001b[38;5;124;03mReturns the result of a Tesseract OCR run on the provided image to string\u001b[39;00m\n\u001b[0;32m    483\u001b[0m \u001b[38;5;124;03m\"\"\"\u001b[39;00m\n\u001b[0;32m    484\u001b[0m args \u001b[38;5;241m=\u001b[39m [image, \u001b[38;5;124m'\u001b[39m\u001b[38;5;124mtxt\u001b[39m\u001b[38;5;124m'\u001b[39m, lang, config, nice, timeout]\n\u001b[1;32m--> 486\u001b[0m \u001b[38;5;28;01mreturn\u001b[39;00m {\n\u001b[0;32m    487\u001b[0m     Output\u001b[38;5;241m.\u001b[39mBYTES: \u001b[38;5;28;01mlambda\u001b[39;00m: run_and_get_output(\u001b[38;5;241m*\u001b[39m(args \u001b[38;5;241m+\u001b[39m [\u001b[38;5;28;01mTrue\u001b[39;00m])),\n\u001b[0;32m    488\u001b[0m     Output\u001b[38;5;241m.\u001b[39mDICT: \u001b[38;5;28;01mlambda\u001b[39;00m: {\u001b[38;5;124m'\u001b[39m\u001b[38;5;124mtext\u001b[39m\u001b[38;5;124m'\u001b[39m: run_and_get_output(\u001b[38;5;241m*\u001b[39margs)},\n\u001b[0;32m    489\u001b[0m     Output\u001b[38;5;241m.\u001b[39mSTRING: \u001b[38;5;28;01mlambda\u001b[39;00m: run_and_get_output(\u001b[38;5;241m*\u001b[39margs),\n\u001b[0;32m    490\u001b[0m }[output_type]()\n",
      "File \u001b[1;32m~\\anaconda3\\Lib\\site-packages\\pytesseract\\pytesseract.py:489\u001b[0m, in \u001b[0;36mimage_to_string.<locals>.<lambda>\u001b[1;34m()\u001b[0m\n\u001b[0;32m    481\u001b[0m \u001b[38;5;250m\u001b[39m\u001b[38;5;124;03m\"\"\"\u001b[39;00m\n\u001b[0;32m    482\u001b[0m \u001b[38;5;124;03mReturns the result of a Tesseract OCR run on the provided image to string\u001b[39;00m\n\u001b[0;32m    483\u001b[0m \u001b[38;5;124;03m\"\"\"\u001b[39;00m\n\u001b[0;32m    484\u001b[0m args \u001b[38;5;241m=\u001b[39m [image, \u001b[38;5;124m'\u001b[39m\u001b[38;5;124mtxt\u001b[39m\u001b[38;5;124m'\u001b[39m, lang, config, nice, timeout]\n\u001b[0;32m    486\u001b[0m \u001b[38;5;28;01mreturn\u001b[39;00m {\n\u001b[0;32m    487\u001b[0m     Output\u001b[38;5;241m.\u001b[39mBYTES: \u001b[38;5;28;01mlambda\u001b[39;00m: run_and_get_output(\u001b[38;5;241m*\u001b[39m(args \u001b[38;5;241m+\u001b[39m [\u001b[38;5;28;01mTrue\u001b[39;00m])),\n\u001b[0;32m    488\u001b[0m     Output\u001b[38;5;241m.\u001b[39mDICT: \u001b[38;5;28;01mlambda\u001b[39;00m: {\u001b[38;5;124m'\u001b[39m\u001b[38;5;124mtext\u001b[39m\u001b[38;5;124m'\u001b[39m: run_and_get_output(\u001b[38;5;241m*\u001b[39margs)},\n\u001b[1;32m--> 489\u001b[0m     Output\u001b[38;5;241m.\u001b[39mSTRING: \u001b[38;5;28;01mlambda\u001b[39;00m: run_and_get_output(\u001b[38;5;241m*\u001b[39margs),\n\u001b[0;32m    490\u001b[0m }[output_type]()\n",
      "File \u001b[1;32m~\\anaconda3\\Lib\\site-packages\\pytesseract\\pytesseract.py:352\u001b[0m, in \u001b[0;36mrun_and_get_output\u001b[1;34m(image, extension, lang, config, nice, timeout, return_bytes)\u001b[0m\n\u001b[0;32m    341\u001b[0m \u001b[38;5;28;01mwith\u001b[39;00m save(image) \u001b[38;5;28;01mas\u001b[39;00m (temp_name, input_filename):\n\u001b[0;32m    342\u001b[0m     kwargs \u001b[38;5;241m=\u001b[39m {\n\u001b[0;32m    343\u001b[0m         \u001b[38;5;124m'\u001b[39m\u001b[38;5;124minput_filename\u001b[39m\u001b[38;5;124m'\u001b[39m: input_filename,\n\u001b[0;32m    344\u001b[0m         \u001b[38;5;124m'\u001b[39m\u001b[38;5;124moutput_filename_base\u001b[39m\u001b[38;5;124m'\u001b[39m: temp_name,\n\u001b[1;32m   (...)\u001b[0m\n\u001b[0;32m    349\u001b[0m         \u001b[38;5;124m'\u001b[39m\u001b[38;5;124mtimeout\u001b[39m\u001b[38;5;124m'\u001b[39m: timeout,\n\u001b[0;32m    350\u001b[0m     }\n\u001b[1;32m--> 352\u001b[0m     run_tesseract(\u001b[38;5;241m*\u001b[39m\u001b[38;5;241m*\u001b[39mkwargs)\n\u001b[0;32m    353\u001b[0m     \u001b[38;5;28;01mreturn\u001b[39;00m _read_output(\n\u001b[0;32m    354\u001b[0m         \u001b[38;5;124mf\u001b[39m\u001b[38;5;124m\"\u001b[39m\u001b[38;5;132;01m{\u001b[39;00mkwargs[\u001b[38;5;124m'\u001b[39m\u001b[38;5;124moutput_filename_base\u001b[39m\u001b[38;5;124m'\u001b[39m]\u001b[38;5;132;01m}\u001b[39;00m\u001b[38;5;132;01m{\u001b[39;00mextsep\u001b[38;5;132;01m}\u001b[39;00m\u001b[38;5;132;01m{\u001b[39;00mextension\u001b[38;5;132;01m}\u001b[39;00m\u001b[38;5;124m\"\u001b[39m,\n\u001b[0;32m    355\u001b[0m         return_bytes,\n\u001b[0;32m    356\u001b[0m     )\n",
      "File \u001b[1;32m~\\anaconda3\\Lib\\site-packages\\pytesseract\\pytesseract.py:280\u001b[0m, in \u001b[0;36mrun_tesseract\u001b[1;34m(input_filename, output_filename_base, extension, lang, config, nice, timeout)\u001b[0m\n\u001b[0;32m    278\u001b[0m         \u001b[38;5;28;01mraise\u001b[39;00m\n\u001b[0;32m    279\u001b[0m     \u001b[38;5;28;01melse\u001b[39;00m:\n\u001b[1;32m--> 280\u001b[0m         \u001b[38;5;28;01mraise\u001b[39;00m TesseractNotFoundError()\n\u001b[0;32m    282\u001b[0m \u001b[38;5;28;01mwith\u001b[39;00m timeout_manager(proc, timeout) \u001b[38;5;28;01mas\u001b[39;00m error_string:\n\u001b[0;32m    283\u001b[0m     \u001b[38;5;28;01mif\u001b[39;00m proc\u001b[38;5;241m.\u001b[39mreturncode:\n",
      "\u001b[1;31mTesseractNotFoundError\u001b[0m: tesseract is not installed or it's not in your PATH. See README file for more information."
     ]
    }
   ],
   "source": [
    "predict_and_plot(test.iloc[0].img_path)"
   ]
  },
  {
   "cell_type": "code",
   "execution_count": null,
   "id": "7f9a68c8",
   "metadata": {},
   "outputs": [],
   "source": []
  }
 ],
 "metadata": {
  "kernelspec": {
   "display_name": "Python 3 (ipykernel)",
   "language": "python",
   "name": "python3"
  },
  "language_info": {
   "codemirror_mode": {
    "name": "ipython",
    "version": 3
   },
   "file_extension": ".py",
   "mimetype": "text/x-python",
   "name": "python",
   "nbconvert_exporter": "python",
   "pygments_lexer": "ipython3",
   "version": "3.11.5"
  }
 },
 "nbformat": 4,
 "nbformat_minor": 5
}
